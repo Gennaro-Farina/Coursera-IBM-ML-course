{
  "nbformat": 4,
  "nbformat_minor": 0,
  "metadata": {
    "kernelspec": {
      "display_name": "Python 3.7",
      "language": "python",
      "name": "python3"
    },
    "language_info": {
      "codemirror_mode": {
        "name": "ipython",
        "version": 3
      },
      "file_extension": ".py",
      "mimetype": "text/x-python",
      "name": "python",
      "nbconvert_exporter": "python",
      "pygments_lexer": "ipython3",
      "version": "3.7.10"
    },
    "colab": {
      "name": "Ml0101ENv3 - Coursera IBM ML Course.ipynb",
      "provenance": [],
      "include_colab_link": true
    },
    "accelerator": "TPU"
  },
  "cells": [
    {
      "cell_type": "markdown",
      "metadata": {
        "id": "view-in-github",
        "colab_type": "text"
      },
      "source": [
        "<a href=\"https://colab.research.google.com/github/Gennaro-Farina/Coursera-IBM-ML-course/blob/master/Ml0101ENv3%20-%20Coursera%20IBM%20ML%20Course.ipynb\" target=\"_parent\"><img src=\"https://colab.research.google.com/assets/colab-badge.svg\" alt=\"Open In Colab\"/></a>"
      ]
    },
    {
      "cell_type": "markdown",
      "metadata": {
        "button": false,
        "new_sheet": false,
        "run_control": {
          "read_only": false
        },
        "id": "eCzMhkP1dx_N"
      },
      "source": [
        "<a href=\"https://www.bigdatauniversity.com\"><img src=\"https://ibm.box.com/shared/static/cw2c7r3o20w9zn8gkecaeyjhgw3xdgbj.png\" width=\"400\" align=\"center\"></a>\n",
        "\n",
        "<h1 align=\"center\"><font size=\"5\">Classification with Python</font></h1>"
      ]
    },
    {
      "cell_type": "markdown",
      "metadata": {
        "button": false,
        "new_sheet": false,
        "run_control": {
          "read_only": false
        },
        "id": "R4ZEl_Ykdx_a"
      },
      "source": [
        "In this notebook we try to practice all the classification algorithms that we learned in this course.\n",
        "\n",
        "We load a dataset using Pandas library, and apply the following algorithms, and find the best one for this specific dataset by accuracy evaluation methods.\n",
        "\n",
        "Lets first load required libraries:"
      ]
    },
    {
      "cell_type": "code",
      "metadata": {
        "button": false,
        "new_sheet": false,
        "run_control": {
          "read_only": false
        },
        "id": "92EbIBcYdx_c"
      },
      "source": [
        "import itertools\n",
        "import numpy as np\n",
        "import matplotlib.pyplot as plt\n",
        "from matplotlib.ticker import NullFormatter\n",
        "import pandas as pd\n",
        "import numpy as np\n",
        "import matplotlib.ticker as ticker\n",
        "from sklearn import preprocessing\n",
        "%matplotlib inline"
      ],
      "execution_count": 114,
      "outputs": []
    },
    {
      "cell_type": "markdown",
      "metadata": {
        "button": false,
        "new_sheet": false,
        "run_control": {
          "read_only": false
        },
        "id": "jX0K2vo4dx_e"
      },
      "source": [
        "### About dataset"
      ]
    },
    {
      "cell_type": "markdown",
      "metadata": {
        "button": false,
        "new_sheet": false,
        "run_control": {
          "read_only": false
        },
        "id": "y-CLZCUndx_f"
      },
      "source": [
        "This dataset is about past loans. The __Loan_train.csv__ data set includes details of 346 customers whose loan are already paid off or defaulted. It includes following fields:\n",
        "\n",
        "| Field          | Description                                                                           |\n",
        "|----------------|---------------------------------------------------------------------------------------|\n",
        "| Loan_status    | Whether a loan is paid off on in collection                                           |\n",
        "| Principal      | Basic principal loan amount at the                                                    |\n",
        "| Terms          | Origination terms which can be weekly (7 days), biweekly, and monthly payoff schedule |\n",
        "| Effective_date | When the loan got originated and took effects                                         |\n",
        "| Due_date       | Since it’s one-time payoff schedule, each loan has one single due date                |\n",
        "| Age            | Age of applicant                                                                      |\n",
        "| Education      | Education of applicant                                                                |\n",
        "| Gender         | The gender of applicant                                                               |"
      ]
    },
    {
      "cell_type": "markdown",
      "metadata": {
        "button": false,
        "new_sheet": false,
        "run_control": {
          "read_only": false
        },
        "id": "y95tfC1vdx_g"
      },
      "source": [
        "Lets download the dataset"
      ]
    },
    {
      "cell_type": "code",
      "metadata": {
        "button": false,
        "new_sheet": false,
        "run_control": {
          "read_only": false
        },
        "colab": {
          "base_uri": "https://localhost:8080/"
        },
        "id": "USOtGg31dx_i",
        "outputId": "429c18c2-4561-461d-ae59-b0d94563bb8c"
      },
      "source": [
        "!wget -O loan_train.csv https://s3-api.us-geo.objectstorage.softlayer.net/cf-courses-data/CognitiveClass/ML0101ENv3/labs/loan_train.csv"
      ],
      "execution_count": 115,
      "outputs": [
        {
          "output_type": "stream",
          "text": [
            "--2021-05-09 23:50:04--  https://s3-api.us-geo.objectstorage.softlayer.net/cf-courses-data/CognitiveClass/ML0101ENv3/labs/loan_train.csv\n",
            "Resolving s3-api.us-geo.objectstorage.softlayer.net (s3-api.us-geo.objectstorage.softlayer.net)... 67.228.254.196\n",
            "Connecting to s3-api.us-geo.objectstorage.softlayer.net (s3-api.us-geo.objectstorage.softlayer.net)|67.228.254.196|:443... connected.\n",
            "HTTP request sent, awaiting response... 200 OK\n",
            "Length: 23101 (23K) [text/csv]\n",
            "Saving to: ‘loan_train.csv’\n",
            "\n",
            "loan_train.csv      100%[===================>]  22.56K  --.-KB/s    in 0.02s   \n",
            "\n",
            "2021-05-09 23:50:04 (1.43 MB/s) - ‘loan_train.csv’ saved [23101/23101]\n",
            "\n"
          ],
          "name": "stdout"
        }
      ]
    },
    {
      "cell_type": "markdown",
      "metadata": {
        "button": false,
        "new_sheet": false,
        "run_control": {
          "read_only": false
        },
        "id": "ro38bjNtdx_k"
      },
      "source": [
        "### Load Data From CSV File  "
      ]
    },
    {
      "cell_type": "code",
      "metadata": {
        "button": false,
        "new_sheet": false,
        "run_control": {
          "read_only": false
        },
        "colab": {
          "base_uri": "https://localhost:8080/",
          "height": 206
        },
        "id": "qI5ywASHdx_l",
        "outputId": "b75673a2-87e4-4dc7-fd95-286e8615f6f4"
      },
      "source": [
        "df = pd.read_csv('loan_train.csv')\n",
        "df.head()"
      ],
      "execution_count": 116,
      "outputs": [
        {
          "output_type": "execute_result",
          "data": {
            "text/html": [
              "<div>\n",
              "<style scoped>\n",
              "    .dataframe tbody tr th:only-of-type {\n",
              "        vertical-align: middle;\n",
              "    }\n",
              "\n",
              "    .dataframe tbody tr th {\n",
              "        vertical-align: top;\n",
              "    }\n",
              "\n",
              "    .dataframe thead th {\n",
              "        text-align: right;\n",
              "    }\n",
              "</style>\n",
              "<table border=\"1\" class=\"dataframe\">\n",
              "  <thead>\n",
              "    <tr style=\"text-align: right;\">\n",
              "      <th></th>\n",
              "      <th>Unnamed: 0</th>\n",
              "      <th>Unnamed: 0.1</th>\n",
              "      <th>loan_status</th>\n",
              "      <th>Principal</th>\n",
              "      <th>terms</th>\n",
              "      <th>effective_date</th>\n",
              "      <th>due_date</th>\n",
              "      <th>age</th>\n",
              "      <th>education</th>\n",
              "      <th>Gender</th>\n",
              "    </tr>\n",
              "  </thead>\n",
              "  <tbody>\n",
              "    <tr>\n",
              "      <th>0</th>\n",
              "      <td>0</td>\n",
              "      <td>0</td>\n",
              "      <td>PAIDOFF</td>\n",
              "      <td>1000</td>\n",
              "      <td>30</td>\n",
              "      <td>9/8/2016</td>\n",
              "      <td>10/7/2016</td>\n",
              "      <td>45</td>\n",
              "      <td>High School or Below</td>\n",
              "      <td>male</td>\n",
              "    </tr>\n",
              "    <tr>\n",
              "      <th>1</th>\n",
              "      <td>2</td>\n",
              "      <td>2</td>\n",
              "      <td>PAIDOFF</td>\n",
              "      <td>1000</td>\n",
              "      <td>30</td>\n",
              "      <td>9/8/2016</td>\n",
              "      <td>10/7/2016</td>\n",
              "      <td>33</td>\n",
              "      <td>Bechalor</td>\n",
              "      <td>female</td>\n",
              "    </tr>\n",
              "    <tr>\n",
              "      <th>2</th>\n",
              "      <td>3</td>\n",
              "      <td>3</td>\n",
              "      <td>PAIDOFF</td>\n",
              "      <td>1000</td>\n",
              "      <td>15</td>\n",
              "      <td>9/8/2016</td>\n",
              "      <td>9/22/2016</td>\n",
              "      <td>27</td>\n",
              "      <td>college</td>\n",
              "      <td>male</td>\n",
              "    </tr>\n",
              "    <tr>\n",
              "      <th>3</th>\n",
              "      <td>4</td>\n",
              "      <td>4</td>\n",
              "      <td>PAIDOFF</td>\n",
              "      <td>1000</td>\n",
              "      <td>30</td>\n",
              "      <td>9/9/2016</td>\n",
              "      <td>10/8/2016</td>\n",
              "      <td>28</td>\n",
              "      <td>college</td>\n",
              "      <td>female</td>\n",
              "    </tr>\n",
              "    <tr>\n",
              "      <th>4</th>\n",
              "      <td>6</td>\n",
              "      <td>6</td>\n",
              "      <td>PAIDOFF</td>\n",
              "      <td>1000</td>\n",
              "      <td>30</td>\n",
              "      <td>9/9/2016</td>\n",
              "      <td>10/8/2016</td>\n",
              "      <td>29</td>\n",
              "      <td>college</td>\n",
              "      <td>male</td>\n",
              "    </tr>\n",
              "  </tbody>\n",
              "</table>\n",
              "</div>"
            ],
            "text/plain": [
              "   Unnamed: 0  Unnamed: 0.1 loan_status  ...  age             education  Gender\n",
              "0           0             0     PAIDOFF  ...   45  High School or Below    male\n",
              "1           2             2     PAIDOFF  ...   33              Bechalor  female\n",
              "2           3             3     PAIDOFF  ...   27               college    male\n",
              "3           4             4     PAIDOFF  ...   28               college  female\n",
              "4           6             6     PAIDOFF  ...   29               college    male\n",
              "\n",
              "[5 rows x 10 columns]"
            ]
          },
          "metadata": {
            "tags": []
          },
          "execution_count": 116
        }
      ]
    },
    {
      "cell_type": "code",
      "metadata": {
        "colab": {
          "base_uri": "https://localhost:8080/"
        },
        "id": "WXr8zLuzdx_n",
        "outputId": "d7cc583f-05d7-40f3-b2c8-b72ff4755633"
      },
      "source": [
        "df.shape"
      ],
      "execution_count": 117,
      "outputs": [
        {
          "output_type": "execute_result",
          "data": {
            "text/plain": [
              "(346, 10)"
            ]
          },
          "metadata": {
            "tags": []
          },
          "execution_count": 117
        }
      ]
    },
    {
      "cell_type": "code",
      "metadata": {
        "colab": {
          "base_uri": "https://localhost:8080/",
          "height": 1000
        },
        "id": "kPEak92Bdx_o",
        "outputId": "8ce659ef-6703-4829-bed7-e1e90c5ab5e6"
      },
      "source": [
        "print(df.columns)\n",
        "for column in df[df.columns[2:]].columns:\n",
        "    plt.title('column: ' + column)\n",
        "    df[column].hist()\n",
        "    plt.show()"
      ],
      "execution_count": 118,
      "outputs": [
        {
          "output_type": "stream",
          "text": [
            "Index(['Unnamed: 0', 'Unnamed: 0.1', 'loan_status', 'Principal', 'terms',\n",
            "       'effective_date', 'due_date', 'age', 'education', 'Gender'],\n",
            "      dtype='object')\n"
          ],
          "name": "stdout"
        },
        {
          "output_type": "display_data",
          "data": {
            "image/png": "[encoded data removed]",
            "text/plain": [
              "<Figure size 432x288 with 1 Axes>"
            ]
          },
          "metadata": {
            "tags": [],
            "needs_background": "light"
          }
        },
        {
          "output_type": "display_data",
          "data": {
            "image/png": "[encoded data removed]",
            "text/plain": [
              "<Figure size 432x288 with 1 Axes>"
            ]
          },
          "metadata": {
            "tags": [],
            "needs_background": "light"
          }
        },
        {
          "output_type": "display_data",
          "data": {
            "image/png": "[encoded data removed]",
            "text/plain": [
              "<Figure size 432x288 with 1 Axes>"
            ]
          },
          "metadata": {
            "tags": [],
            "needs_background": "light"
          }
        },
        {
          "output_type": "display_data",
          "data": {
            "image/png": "[encoded data removed]",
            "text/plain": [
              "<Figure size 432x288 with 1 Axes>"
            ]
          },
          "metadata": {
            "tags": [],
            "needs_background": "light"
          }
        },
        {
          "output_type": "display_data",
          "data": {
            "image/png": "[encoded data removed]",
            "text/plain": [
              "<Figure size 432x288 with 1 Axes>"
            ]
          },
          "metadata": {
            "tags": [],
            "needs_background": "light"
          }
        },
        {
          "output_type": "display_data",
          "data": {
            "image/png": "[encoded data removed]",
            "text/plain": [
              "<Figure size 432x288 with 1 Axes>"
            ]
          },
          "metadata": {
            "tags": [],
            "needs_background": "light"
          }
        },
        {
          "output_type": "display_data",
          "data": {
            "image/png": "[encoded data removed]",
            "text/plain": [
              "<Figure size 432x288 with 1 Axes>"
            ]
          },
          "metadata": {
            "tags": [],
            "needs_background": "light"
          }
        },
        {
          "output_type": "display_data",
          "data": {
            "image/png": "[encoded data removed]",
            "text/plain": [
              "<Figure size 432x288 with 1 Axes>"
            ]
          },
          "metadata": {
            "tags": [],
            "needs_background": "light"
          }
        }
      ]
    },
    {
      "cell_type": "markdown",
      "metadata": {
        "button": false,
        "new_sheet": false,
        "run_control": {
          "read_only": false
        },
        "id": "MZYYgzABdx_r"
      },
      "source": [
        "### Convert to date time object "
      ]
    },
    {
      "cell_type": "code",
      "metadata": {
        "button": false,
        "new_sheet": false,
        "run_control": {
          "read_only": false
        },
        "colab": {
          "base_uri": "https://localhost:8080/",
          "height": 206
        },
        "id": "mTo80p8hdx_r",
        "outputId": "4832f493-ca89-4ca6-d915-74da2e8f2d79"
      },
      "source": [
        "df['due_date']       = pd.to_datetime(df['due_date'])\n",
        "df['effective_date'] = pd.to_datetime(df['effective_date'])\n",
        "df.head()"
      ],
      "execution_count": 119,
      "outputs": [
        {
          "output_type": "execute_result",
          "data": {
            "text/html": [
              "<div>\n",
              "<style scoped>\n",
              "    .dataframe tbody tr th:only-of-type {\n",
              "        vertical-align: middle;\n",
              "    }\n",
              "\n",
              "    .dataframe tbody tr th {\n",
              "        vertical-align: top;\n",
              "    }\n",
              "\n",
              "    .dataframe thead th {\n",
              "        text-align: right;\n",
              "    }\n",
              "</style>\n",
              "<table border=\"1\" class=\"dataframe\">\n",
              "  <thead>\n",
              "    <tr style=\"text-align: right;\">\n",
              "      <th></th>\n",
              "      <th>Unnamed: 0</th>\n",
              "      <th>Unnamed: 0.1</th>\n",
              "      <th>loan_status</th>\n",
              "      <th>Principal</th>\n",
              "      <th>terms</th>\n",
              "      <th>effective_date</th>\n",
              "      <th>due_date</th>\n",
              "      <th>age</th>\n",
              "      <th>education</th>\n",
              "      <th>Gender</th>\n",
              "    </tr>\n",
              "  </thead>\n",
              "  <tbody>\n",
              "    <tr>\n",
              "      <th>0</th>\n",
              "      <td>0</td>\n",
              "      <td>0</td>\n",
              "      <td>PAIDOFF</td>\n",
              "      <td>1000</td>\n",
              "      <td>30</td>\n",
              "      <td>2016-09-08</td>\n",
              "      <td>2016-10-07</td>\n",
              "      <td>45</td>\n",
              "      <td>High School or Below</td>\n",
              "      <td>male</td>\n",
              "    </tr>\n",
              "    <tr>\n",
              "      <th>1</th>\n",
              "      <td>2</td>\n",
              "      <td>2</td>\n",
              "      <td>PAIDOFF</td>\n",
              "      <td>1000</td>\n",
              "      <td>30</td>\n",
              "      <td>2016-09-08</td>\n",
              "      <td>2016-10-07</td>\n",
              "      <td>33</td>\n",
              "      <td>Bechalor</td>\n",
              "      <td>female</td>\n",
              "    </tr>\n",
              "    <tr>\n",
              "      <th>2</th>\n",
              "      <td>3</td>\n",
              "      <td>3</td>\n",
              "      <td>PAIDOFF</td>\n",
              "      <td>1000</td>\n",
              "      <td>15</td>\n",
              "      <td>2016-09-08</td>\n",
              "      <td>2016-09-22</td>\n",
              "      <td>27</td>\n",
              "      <td>college</td>\n",
              "      <td>male</td>\n",
              "    </tr>\n",
              "    <tr>\n",
              "      <th>3</th>\n",
              "      <td>4</td>\n",
              "      <td>4</td>\n",
              "      <td>PAIDOFF</td>\n",
              "      <td>1000</td>\n",
              "      <td>30</td>\n",
              "      <td>2016-09-09</td>\n",
              "      <td>2016-10-08</td>\n",
              "      <td>28</td>\n",
              "      <td>college</td>\n",
              "      <td>female</td>\n",
              "    </tr>\n",
              "    <tr>\n",
              "      <th>4</th>\n",
              "      <td>6</td>\n",
              "      <td>6</td>\n",
              "      <td>PAIDOFF</td>\n",
              "      <td>1000</td>\n",
              "      <td>30</td>\n",
              "      <td>2016-09-09</td>\n",
              "      <td>2016-10-08</td>\n",
              "      <td>29</td>\n",
              "      <td>college</td>\n",
              "      <td>male</td>\n",
              "    </tr>\n",
              "  </tbody>\n",
              "</table>\n",
              "</div>"
            ],
            "text/plain": [
              "   Unnamed: 0  Unnamed: 0.1 loan_status  ...  age             education  Gender\n",
              "0           0             0     PAIDOFF  ...   45  High School or Below    male\n",
              "1           2             2     PAIDOFF  ...   33              Bechalor  female\n",
              "2           3             3     PAIDOFF  ...   27               college    male\n",
              "3           4             4     PAIDOFF  ...   28               college  female\n",
              "4           6             6     PAIDOFF  ...   29               college    male\n",
              "\n",
              "[5 rows x 10 columns]"
            ]
          },
          "metadata": {
            "tags": []
          },
          "execution_count": 119
        }
      ]
    },
    {
      "cell_type": "markdown",
      "metadata": {
        "button": false,
        "new_sheet": false,
        "run_control": {
          "read_only": false
        },
        "id": "vhBj6EQhdx_s"
      },
      "source": [
        "# Data visualization and pre-processing\n",
        "\n"
      ]
    },
    {
      "cell_type": "markdown",
      "metadata": {
        "button": false,
        "new_sheet": false,
        "run_control": {
          "read_only": false
        },
        "id": "_DW0uT-Idx_t"
      },
      "source": [
        "Let’s see how many of each class is in our data set "
      ]
    },
    {
      "cell_type": "code",
      "metadata": {
        "button": false,
        "new_sheet": false,
        "run_control": {
          "read_only": false
        },
        "colab": {
          "base_uri": "https://localhost:8080/"
        },
        "id": "b6PqW2UTdx_t",
        "outputId": "3f994042-7bfa-4f2c-aa07-772efd2c5854"
      },
      "source": [
        "df['loan_status'].value_counts()"
      ],
      "execution_count": 120,
      "outputs": [
        {
          "output_type": "execute_result",
          "data": {
            "text/plain": [
              "PAIDOFF       260\n",
              "COLLECTION     86\n",
              "Name: loan_status, dtype: int64"
            ]
          },
          "metadata": {
            "tags": []
          },
          "execution_count": 120
        }
      ]
    },
    {
      "cell_type": "markdown",
      "metadata": {
        "button": false,
        "new_sheet": false,
        "run_control": {
          "read_only": false
        },
        "id": "dplQj-RJdx_u"
      },
      "source": [
        "260 people have paid off the loan on time while 86 have gone into collection \n"
      ]
    },
    {
      "cell_type": "markdown",
      "metadata": {
        "id": "HDOiyvgFdx_u"
      },
      "source": [
        "Lets plot some columns to underestand data better:"
      ]
    },
    {
      "cell_type": "code",
      "metadata": {
        "colab": {
          "base_uri": "https://localhost:8080/"
        },
        "id": "QfOIuoNzdx_v",
        "outputId": "2ad2f7b1-4618-48aa-8941-76561ac6e5be"
      },
      "source": [
        "# notice: installing seaborn might takes a few minutes\n",
        "! conda install -c anaconda seaborn -y\n",
        "! conda install scikit-learn imbalanced-learn -c conda-forge\n",
        "\n",
        "! pip install seaborn scikit-learn imbalanced-learn"
      ],
      "execution_count": 121,
      "outputs": [
        {
          "output_type": "stream",
          "text": [
            "/bin/bash: conda: command not found\n",
            "/bin/bash: conda: command not found\n",
            "Requirement already satisfied: seaborn in /usr/local/lib/python3.7/dist-packages (0.11.1)\n",
            "Requirement already satisfied: scikit-learn in /usr/local/lib/python3.7/dist-packages (0.22.2.post1)\n",
            "Requirement already satisfied: imbalanced-learn in /usr/local/lib/python3.7/dist-packages (0.4.3)\n",
            "Requirement already satisfied: scipy>=1.0 in /usr/local/lib/python3.7/dist-packages (from seaborn) (1.4.1)\n",
            "Requirement already satisfied: pandas>=0.23 in /usr/local/lib/python3.7/dist-packages (from seaborn) (1.1.5)\n",
            "Requirement already satisfied: matplotlib>=2.2 in /usr/local/lib/python3.7/dist-packages (from seaborn) (3.2.2)\n",
            "Requirement already satisfied: numpy>=1.15 in /usr/local/lib/python3.7/dist-packages (from seaborn) (1.19.5)\n",
            "Requirement already satisfied: joblib>=0.11 in /usr/local/lib/python3.7/dist-packages (from scikit-learn) (1.0.1)\n",
            "Requirement already satisfied: pytz>=2017.2 in /usr/local/lib/python3.7/dist-packages (from pandas>=0.23->seaborn) (2018.9)\n",
            "Requirement already satisfied: python-dateutil>=2.7.3 in /usr/local/lib/python3.7/dist-packages (from pandas>=0.23->seaborn) (2.8.1)\n",
            "Requirement already satisfied: pyparsing!=2.0.4,!=2.1.2,!=2.1.6,>=2.0.1 in /usr/local/lib/python3.7/dist-packages (from matplotlib>=2.2->seaborn) (2.4.7)\n",
            "Requirement already satisfied: cycler>=0.10 in /usr/local/lib/python3.7/dist-packages (from matplotlib>=2.2->seaborn) (0.10.0)\n",
            "Requirement already satisfied: kiwisolver>=1.0.1 in /usr/local/lib/python3.7/dist-packages (from matplotlib>=2.2->seaborn) (1.3.1)\n",
            "Requirement already satisfied: six>=1.5 in /usr/local/lib/python3.7/dist-packages (from python-dateutil>=2.7.3->pandas>=0.23->seaborn) (1.15.0)\n"
          ],
          "name": "stdout"
        }
      ]
    },
    {
      "cell_type": "code",
      "metadata": {
        "id": "b8DWVehBdx_v"
      },
      "source": [
        "#! conda install nb_conda # to grant to select conda environments as core of jupyter notebook"
      ],
      "execution_count": 122,
      "outputs": []
    },
    {
      "cell_type": "code",
      "metadata": {
        "colab": {
          "base_uri": "https://localhost:8080/",
          "height": 225
        },
        "id": "aiOJePjAdx_w",
        "outputId": "cd2fce60-c89a-4901-f161-e6d280a3cf11"
      },
      "source": [
        "import seaborn as sns\n",
        "\n",
        "bins = np.linspace(df.Principal.min(), df.Principal.max(), 10)\n",
        "g = sns.FacetGrid(df, col=\"Gender\", hue=\"loan_status\", palette=\"Set1\", col_wrap=2)\n",
        "g.map(plt.hist, 'Principal', bins=bins, ec=\"k\")\n",
        "\n",
        "g.axes[-1].legend()\n",
        "plt.show()"
      ],
      "execution_count": 123,
      "outputs": [
        {
          "output_type": "display_data",
          "data": {
            "image/png": "[encoded data removed]",
            "text/plain": [
              "<Figure size 432x216 with 2 Axes>"
            ]
          },
          "metadata": {
            "tags": [],
            "needs_background": "light"
          }
        }
      ]
    },
    {
      "cell_type": "code",
      "metadata": {
        "button": false,
        "new_sheet": false,
        "run_control": {
          "read_only": false
        },
        "colab": {
          "base_uri": "https://localhost:8080/",
          "height": 225
        },
        "id": "xad0i_nqdx_w",
        "outputId": "b3bb0828-0ce2-402b-f502-ff8361283776"
      },
      "source": [
        "bins = np.linspace(df.age.min(), df.age.max(), 10)\n",
        "g = sns.FacetGrid(df, col=\"Gender\", hue=\"loan_status\", palette=\"Set1\", col_wrap=2)\n",
        "g.map(plt.hist, 'age', bins=bins, ec=\"k\")\n",
        "\n",
        "g.axes[-1].legend()\n",
        "plt.show()"
      ],
      "execution_count": 124,
      "outputs": [
        {
          "output_type": "display_data",
          "data": {
            "image/png": "[encoded data removed]",
            "text/plain": [
              "<Figure size 432x216 with 2 Axes>"
            ]
          },
          "metadata": {
            "tags": [],
            "needs_background": "light"
          }
        }
      ]
    },
    {
      "cell_type": "markdown",
      "metadata": {
        "button": false,
        "new_sheet": false,
        "run_control": {
          "read_only": false
        },
        "id": "iPJvZDgWdx_x"
      },
      "source": [
        "# Pre-processing:  Feature selection/extraction"
      ]
    },
    {
      "cell_type": "markdown",
      "metadata": {
        "button": false,
        "new_sheet": false,
        "run_control": {
          "read_only": false
        },
        "id": "TohgXJJhdx_x"
      },
      "source": [
        "### Lets look at the day of the week people get the loan "
      ]
    },
    {
      "cell_type": "code",
      "metadata": {
        "button": false,
        "new_sheet": false,
        "run_control": {
          "read_only": false
        },
        "colab": {
          "base_uri": "https://localhost:8080/",
          "height": 225
        },
        "id": "auY43aFsdx_x",
        "outputId": "1138aa76-a516-429c-b1bb-3f8c3f49c21e"
      },
      "source": [
        "df['dayofweek'] = df['effective_date'].dt.dayofweek\n",
        "bins = np.linspace(df.dayofweek.min(), df.dayofweek.max(), 10)\n",
        "g = sns.FacetGrid(df, col=\"Gender\", hue=\"loan_status\", palette=\"Set1\", col_wrap=2)\n",
        "g.map(plt.hist, 'dayofweek', bins=bins, ec=\"k\")\n",
        "g.axes[-1].legend()\n",
        "plt.show()\n"
      ],
      "execution_count": 125,
      "outputs": [
        {
          "output_type": "display_data",
          "data": {
            "image/png": "[encoded data removed]",
            "text/plain": [
              "<Figure size 432x216 with 2 Axes>"
            ]
          },
          "metadata": {
            "tags": [],
            "needs_background": "light"
          }
        }
      ]
    },
    {
      "cell_type": "markdown",
      "metadata": {
        "button": false,
        "new_sheet": false,
        "run_control": {
          "read_only": false
        },
        "id": "dHJBQFacdx_y"
      },
      "source": [
        "We see that people who get the loan at the end of the week dont pay it off, so lets use Feature binarization to set a threshold values less then day 4 "
      ]
    },
    {
      "cell_type": "code",
      "metadata": {
        "button": false,
        "new_sheet": false,
        "run_control": {
          "read_only": false
        },
        "colab": {
          "base_uri": "https://localhost:8080/",
          "height": 206
        },
        "id": "U5CUVBuEdx_z",
        "outputId": "1169d1dd-8ab3-41af-c218-4936db1eb809"
      },
      "source": [
        "df['weekend'] = df['dayofweek'].apply(lambda x: 1 if (x>3)  else 0)\n",
        "df.head()"
      ],
      "execution_count": 126,
      "outputs": [
        {
          "output_type": "execute_result",
          "data": {
            "text/html": [
              "<div>\n",
              "<style scoped>\n",
              "    .dataframe tbody tr th:only-of-type {\n",
              "        vertical-align: middle;\n",
              "    }\n",
              "\n",
              "    .dataframe tbody tr th {\n",
              "        vertical-align: top;\n",
              "    }\n",
              "\n",
              "    .dataframe thead th {\n",
              "        text-align: right;\n",
              "    }\n",
              "</style>\n",
              "<table border=\"1\" class=\"dataframe\">\n",
              "  <thead>\n",
              "    <tr style=\"text-align: right;\">\n",
              "      <th></th>\n",
              "      <th>Unnamed: 0</th>\n",
              "      <th>Unnamed: 0.1</th>\n",
              "      <th>loan_status</th>\n",
              "      <th>Principal</th>\n",
              "      <th>terms</th>\n",
              "      <th>effective_date</th>\n",
              "      <th>due_date</th>\n",
              "      <th>age</th>\n",
              "      <th>education</th>\n",
              "      <th>Gender</th>\n",
              "      <th>dayofweek</th>\n",
              "      <th>weekend</th>\n",
              "    </tr>\n",
              "  </thead>\n",
              "  <tbody>\n",
              "    <tr>\n",
              "      <th>0</th>\n",
              "      <td>0</td>\n",
              "      <td>0</td>\n",
              "      <td>PAIDOFF</td>\n",
              "      <td>1000</td>\n",
              "      <td>30</td>\n",
              "      <td>2016-09-08</td>\n",
              "      <td>2016-10-07</td>\n",
              "      <td>45</td>\n",
              "      <td>High School or Below</td>\n",
              "      <td>male</td>\n",
              "      <td>3</td>\n",
              "      <td>0</td>\n",
              "    </tr>\n",
              "    <tr>\n",
              "      <th>1</th>\n",
              "      <td>2</td>\n",
              "      <td>2</td>\n",
              "      <td>PAIDOFF</td>\n",
              "      <td>1000</td>\n",
              "      <td>30</td>\n",
              "      <td>2016-09-08</td>\n",
              "      <td>2016-10-07</td>\n",
              "      <td>33</td>\n",
              "      <td>Bechalor</td>\n",
              "      <td>female</td>\n",
              "      <td>3</td>\n",
              "      <td>0</td>\n",
              "    </tr>\n",
              "    <tr>\n",
              "      <th>2</th>\n",
              "      <td>3</td>\n",
              "      <td>3</td>\n",
              "      <td>PAIDOFF</td>\n",
              "      <td>1000</td>\n",
              "      <td>15</td>\n",
              "      <td>2016-09-08</td>\n",
              "      <td>2016-09-22</td>\n",
              "      <td>27</td>\n",
              "      <td>college</td>\n",
              "      <td>male</td>\n",
              "      <td>3</td>\n",
              "      <td>0</td>\n",
              "    </tr>\n",
              "    <tr>\n",
              "      <th>3</th>\n",
              "      <td>4</td>\n",
              "      <td>4</td>\n",
              "      <td>PAIDOFF</td>\n",
              "      <td>1000</td>\n",
              "      <td>30</td>\n",
              "      <td>2016-09-09</td>\n",
              "      <td>2016-10-08</td>\n",
              "      <td>28</td>\n",
              "      <td>college</td>\n",
              "      <td>female</td>\n",
              "      <td>4</td>\n",
              "      <td>1</td>\n",
              "    </tr>\n",
              "    <tr>\n",
              "      <th>4</th>\n",
              "      <td>6</td>\n",
              "      <td>6</td>\n",
              "      <td>PAIDOFF</td>\n",
              "      <td>1000</td>\n",
              "      <td>30</td>\n",
              "      <td>2016-09-09</td>\n",
              "      <td>2016-10-08</td>\n",
              "      <td>29</td>\n",
              "      <td>college</td>\n",
              "      <td>male</td>\n",
              "      <td>4</td>\n",
              "      <td>1</td>\n",
              "    </tr>\n",
              "  </tbody>\n",
              "</table>\n",
              "</div>"
            ],
            "text/plain": [
              "   Unnamed: 0  Unnamed: 0.1 loan_status  ...  Gender  dayofweek weekend\n",
              "0           0             0     PAIDOFF  ...    male          3       0\n",
              "1           2             2     PAIDOFF  ...  female          3       0\n",
              "2           3             3     PAIDOFF  ...    male          3       0\n",
              "3           4             4     PAIDOFF  ...  female          4       1\n",
              "4           6             6     PAIDOFF  ...    male          4       1\n",
              "\n",
              "[5 rows x 12 columns]"
            ]
          },
          "metadata": {
            "tags": []
          },
          "execution_count": 126
        }
      ]
    },
    {
      "cell_type": "markdown",
      "metadata": {
        "button": false,
        "new_sheet": false,
        "run_control": {
          "read_only": false
        },
        "id": "fZ2yBcmwdx_z"
      },
      "source": [
        "## Convert Categorical features to numerical values"
      ]
    },
    {
      "cell_type": "markdown",
      "metadata": {
        "button": false,
        "new_sheet": false,
        "run_control": {
          "read_only": false
        },
        "id": "C9hO3JrJdx_0"
      },
      "source": [
        "Lets look at gender:"
      ]
    },
    {
      "cell_type": "code",
      "metadata": {
        "button": false,
        "new_sheet": false,
        "run_control": {
          "read_only": false
        },
        "colab": {
          "base_uri": "https://localhost:8080/"
        },
        "id": "3jL5sGM3dx_0",
        "outputId": "4a27ddd7-2b1a-47ce-f738-ba9b3771318b"
      },
      "source": [
        "df.groupby(['Gender'])['loan_status'].value_counts(normalize=True)"
      ],
      "execution_count": 127,
      "outputs": [
        {
          "output_type": "execute_result",
          "data": {
            "text/plain": [
              "Gender  loan_status\n",
              "female  PAIDOFF        0.865385\n",
              "        COLLECTION     0.134615\n",
              "male    PAIDOFF        0.731293\n",
              "        COLLECTION     0.268707\n",
              "Name: loan_status, dtype: float64"
            ]
          },
          "metadata": {
            "tags": []
          },
          "execution_count": 127
        }
      ]
    },
    {
      "cell_type": "markdown",
      "metadata": {
        "button": false,
        "new_sheet": false,
        "run_control": {
          "read_only": false
        },
        "id": "fUGpoE4Ndx_0"
      },
      "source": [
        "86 % of female pay there loans while only 73 % of males pay there loan\n"
      ]
    },
    {
      "cell_type": "markdown",
      "metadata": {
        "button": false,
        "new_sheet": false,
        "run_control": {
          "read_only": false
        },
        "id": "MR0gq1pYdx_1"
      },
      "source": [
        "Lets convert male to 0 and female to 1:\n"
      ]
    },
    {
      "cell_type": "code",
      "metadata": {
        "button": false,
        "new_sheet": false,
        "run_control": {
          "read_only": false
        },
        "colab": {
          "base_uri": "https://localhost:8080/",
          "height": 206
        },
        "id": "SStFgxhZdx_1",
        "outputId": "1be3a08d-6cfb-464d-aff0-0fbd0ea7524a"
      },
      "source": [
        "df['Gender'].replace(to_replace=['male','female'], value=[0,1],inplace=True)\n",
        "df.head()"
      ],
      "execution_count": 128,
      "outputs": [
        {
          "output_type": "execute_result",
          "data": {
            "text/html": [
              "<div>\n",
              "<style scoped>\n",
              "    .dataframe tbody tr th:only-of-type {\n",
              "        vertical-align: middle;\n",
              "    }\n",
              "\n",
              "    .dataframe tbody tr th {\n",
              "        vertical-align: top;\n",
              "    }\n",
              "\n",
              "    .dataframe thead th {\n",
              "        text-align: right;\n",
              "    }\n",
              "</style>\n",
              "<table border=\"1\" class=\"dataframe\">\n",
              "  <thead>\n",
              "    <tr style=\"text-align: right;\">\n",
              "      <th></th>\n",
              "      <th>Unnamed: 0</th>\n",
              "      <th>Unnamed: 0.1</th>\n",
              "      <th>loan_status</th>\n",
              "      <th>Principal</th>\n",
              "      <th>terms</th>\n",
              "      <th>effective_date</th>\n",
              "      <th>due_date</th>\n",
              "      <th>age</th>\n",
              "      <th>education</th>\n",
              "      <th>Gender</th>\n",
              "      <th>dayofweek</th>\n",
              "      <th>weekend</th>\n",
              "    </tr>\n",
              "  </thead>\n",
              "  <tbody>\n",
              "    <tr>\n",
              "      <th>0</th>\n",
              "      <td>0</td>\n",
              "      <td>0</td>\n",
              "      <td>PAIDOFF</td>\n",
              "      <td>1000</td>\n",
              "      <td>30</td>\n",
              "      <td>2016-09-08</td>\n",
              "      <td>2016-10-07</td>\n",
              "      <td>45</td>\n",
              "      <td>High School or Below</td>\n",
              "      <td>0</td>\n",
              "      <td>3</td>\n",
              "      <td>0</td>\n",
              "    </tr>\n",
              "    <tr>\n",
              "      <th>1</th>\n",
              "      <td>2</td>\n",
              "      <td>2</td>\n",
              "      <td>PAIDOFF</td>\n",
              "      <td>1000</td>\n",
              "      <td>30</td>\n",
              "      <td>2016-09-08</td>\n",
              "      <td>2016-10-07</td>\n",
              "      <td>33</td>\n",
              "      <td>Bechalor</td>\n",
              "      <td>1</td>\n",
              "      <td>3</td>\n",
              "      <td>0</td>\n",
              "    </tr>\n",
              "    <tr>\n",
              "      <th>2</th>\n",
              "      <td>3</td>\n",
              "      <td>3</td>\n",
              "      <td>PAIDOFF</td>\n",
              "      <td>1000</td>\n",
              "      <td>15</td>\n",
              "      <td>2016-09-08</td>\n",
              "      <td>2016-09-22</td>\n",
              "      <td>27</td>\n",
              "      <td>college</td>\n",
              "      <td>0</td>\n",
              "      <td>3</td>\n",
              "      <td>0</td>\n",
              "    </tr>\n",
              "    <tr>\n",
              "      <th>3</th>\n",
              "      <td>4</td>\n",
              "      <td>4</td>\n",
              "      <td>PAIDOFF</td>\n",
              "      <td>1000</td>\n",
              "      <td>30</td>\n",
              "      <td>2016-09-09</td>\n",
              "      <td>2016-10-08</td>\n",
              "      <td>28</td>\n",
              "      <td>college</td>\n",
              "      <td>1</td>\n",
              "      <td>4</td>\n",
              "      <td>1</td>\n",
              "    </tr>\n",
              "    <tr>\n",
              "      <th>4</th>\n",
              "      <td>6</td>\n",
              "      <td>6</td>\n",
              "      <td>PAIDOFF</td>\n",
              "      <td>1000</td>\n",
              "      <td>30</td>\n",
              "      <td>2016-09-09</td>\n",
              "      <td>2016-10-08</td>\n",
              "      <td>29</td>\n",
              "      <td>college</td>\n",
              "      <td>0</td>\n",
              "      <td>4</td>\n",
              "      <td>1</td>\n",
              "    </tr>\n",
              "  </tbody>\n",
              "</table>\n",
              "</div>"
            ],
            "text/plain": [
              "   Unnamed: 0  Unnamed: 0.1 loan_status  ...  Gender  dayofweek weekend\n",
              "0           0             0     PAIDOFF  ...       0          3       0\n",
              "1           2             2     PAIDOFF  ...       1          3       0\n",
              "2           3             3     PAIDOFF  ...       0          3       0\n",
              "3           4             4     PAIDOFF  ...       1          4       1\n",
              "4           6             6     PAIDOFF  ...       0          4       1\n",
              "\n",
              "[5 rows x 12 columns]"
            ]
          },
          "metadata": {
            "tags": []
          },
          "execution_count": 128
        }
      ]
    },
    {
      "cell_type": "markdown",
      "metadata": {
        "button": false,
        "new_sheet": false,
        "run_control": {
          "read_only": false
        },
        "id": "c9DrKtLddx_1"
      },
      "source": [
        "## One Hot Encoding  \n",
        "#### How about education?"
      ]
    },
    {
      "cell_type": "code",
      "metadata": {
        "button": false,
        "new_sheet": false,
        "run_control": {
          "read_only": false
        },
        "colab": {
          "base_uri": "https://localhost:8080/"
        },
        "id": "S6auww6vdx_2",
        "outputId": "b014f72b-9c3f-4082-87e5-78fe64175dc8"
      },
      "source": [
        "df.groupby(['education'])['loan_status'].value_counts(normalize=True)"
      ],
      "execution_count": 129,
      "outputs": [
        {
          "output_type": "execute_result",
          "data": {
            "text/plain": [
              "education             loan_status\n",
              "Bechalor              PAIDOFF        0.750000\n",
              "                      COLLECTION     0.250000\n",
              "High School or Below  PAIDOFF        0.741722\n",
              "                      COLLECTION     0.258278\n",
              "Master or Above       COLLECTION     0.500000\n",
              "                      PAIDOFF        0.500000\n",
              "college               PAIDOFF        0.765101\n",
              "                      COLLECTION     0.234899\n",
              "Name: loan_status, dtype: float64"
            ]
          },
          "metadata": {
            "tags": []
          },
          "execution_count": 129
        }
      ]
    },
    {
      "cell_type": "raw",
      "metadata": {
        "button": false,
        "new_sheet": false,
        "run_control": {
          "read_only": false
        },
        "id": "Qy3xjIxldx_2"
      },
      "source": [
        "#### Feature before One Hot Encoding"
      ]
    },
    {
      "cell_type": "code",
      "metadata": {
        "button": false,
        "new_sheet": false,
        "run_control": {
          "read_only": false
        },
        "colab": {
          "base_uri": "https://localhost:8080/",
          "height": 0
        },
        "id": "k4e0Pht-dx_2",
        "outputId": "2f1a0c53-1ade-404f-be77-f3f05f1e2b26"
      },
      "source": [
        "df[['Principal','terms','age','Gender','education']].head()"
      ],
      "execution_count": 130,
      "outputs": [
        {
          "output_type": "execute_result",
          "data": {
            "text/html": [
              "<div>\n",
              "<style scoped>\n",
              "    .dataframe tbody tr th:only-of-type {\n",
              "        vertical-align: middle;\n",
              "    }\n",
              "\n",
              "    .dataframe tbody tr th {\n",
              "        vertical-align: top;\n",
              "    }\n",
              "\n",
              "    .dataframe thead th {\n",
              "        text-align: right;\n",
              "    }\n",
              "</style>\n",
              "<table border=\"1\" class=\"dataframe\">\n",
              "  <thead>\n",
              "    <tr style=\"text-align: right;\">\n",
              "      <th></th>\n",
              "      <th>Principal</th>\n",
              "      <th>terms</th>\n",
              "      <th>age</th>\n",
              "      <th>Gender</th>\n",
              "      <th>education</th>\n",
              "    </tr>\n",
              "  </thead>\n",
              "  <tbody>\n",
              "    <tr>\n",
              "      <th>0</th>\n",
              "      <td>1000</td>\n",
              "      <td>30</td>\n",
              "      <td>45</td>\n",
              "      <td>0</td>\n",
              "      <td>High School or Below</td>\n",
              "    </tr>\n",
              "    <tr>\n",
              "      <th>1</th>\n",
              "      <td>1000</td>\n",
              "      <td>30</td>\n",
              "      <td>33</td>\n",
              "      <td>1</td>\n",
              "      <td>Bechalor</td>\n",
              "    </tr>\n",
              "    <tr>\n",
              "      <th>2</th>\n",
              "      <td>1000</td>\n",
              "      <td>15</td>\n",
              "      <td>27</td>\n",
              "      <td>0</td>\n",
              "      <td>college</td>\n",
              "    </tr>\n",
              "    <tr>\n",
              "      <th>3</th>\n",
              "      <td>1000</td>\n",
              "      <td>30</td>\n",
              "      <td>28</td>\n",
              "      <td>1</td>\n",
              "      <td>college</td>\n",
              "    </tr>\n",
              "    <tr>\n",
              "      <th>4</th>\n",
              "      <td>1000</td>\n",
              "      <td>30</td>\n",
              "      <td>29</td>\n",
              "      <td>0</td>\n",
              "      <td>college</td>\n",
              "    </tr>\n",
              "  </tbody>\n",
              "</table>\n",
              "</div>"
            ],
            "text/plain": [
              "   Principal  terms  age  Gender             education\n",
              "0       1000     30   45       0  High School or Below\n",
              "1       1000     30   33       1              Bechalor\n",
              "2       1000     15   27       0               college\n",
              "3       1000     30   28       1               college\n",
              "4       1000     30   29       0               college"
            ]
          },
          "metadata": {
            "tags": []
          },
          "execution_count": 130
        }
      ]
    },
    {
      "cell_type": "markdown",
      "metadata": {
        "button": false,
        "new_sheet": false,
        "run_control": {
          "read_only": false
        },
        "id": "xT-_0G9ddx_3"
      },
      "source": [
        "#### Use one hot encoding technique to conver categorical varables to binary variables and append them to the feature Data Frame "
      ]
    },
    {
      "cell_type": "code",
      "metadata": {
        "button": false,
        "new_sheet": false,
        "run_control": {
          "read_only": false
        },
        "colab": {
          "base_uri": "https://localhost:8080/",
          "height": 206
        },
        "id": "9FCHTjlHdx_3",
        "outputId": "40cb5ad0-38d3-45f8-98f7-a9d78c465bd8"
      },
      "source": [
        "Feature = df[['Principal','terms','age','Gender','weekend']]\n",
        "Feature = pd.concat([Feature,pd.get_dummies(df['education'])], axis=1)\n",
        "Feature.drop(['Master or Above'], axis = 1,inplace=True)\n",
        "Feature.head()\n"
      ],
      "execution_count": 131,
      "outputs": [
        {
          "output_type": "execute_result",
          "data": {
            "text/html": [
              "<div>\n",
              "<style scoped>\n",
              "    .dataframe tbody tr th:only-of-type {\n",
              "        vertical-align: middle;\n",
              "    }\n",
              "\n",
              "    .dataframe tbody tr th {\n",
              "        vertical-align: top;\n",
              "    }\n",
              "\n",
              "    .dataframe thead th {\n",
              "        text-align: right;\n",
              "    }\n",
              "</style>\n",
              "<table border=\"1\" class=\"dataframe\">\n",
              "  <thead>\n",
              "    <tr style=\"text-align: right;\">\n",
              "      <th></th>\n",
              "      <th>Principal</th>\n",
              "      <th>terms</th>\n",
              "      <th>age</th>\n",
              "      <th>Gender</th>\n",
              "      <th>weekend</th>\n",
              "      <th>Bechalor</th>\n",
              "      <th>High School or Below</th>\n",
              "      <th>college</th>\n",
              "    </tr>\n",
              "  </thead>\n",
              "  <tbody>\n",
              "    <tr>\n",
              "      <th>0</th>\n",
              "      <td>1000</td>\n",
              "      <td>30</td>\n",
              "      <td>45</td>\n",
              "      <td>0</td>\n",
              "      <td>0</td>\n",
              "      <td>0</td>\n",
              "      <td>1</td>\n",
              "      <td>0</td>\n",
              "    </tr>\n",
              "    <tr>\n",
              "      <th>1</th>\n",
              "      <td>1000</td>\n",
              "      <td>30</td>\n",
              "      <td>33</td>\n",
              "      <td>1</td>\n",
              "      <td>0</td>\n",
              "      <td>1</td>\n",
              "      <td>0</td>\n",
              "      <td>0</td>\n",
              "    </tr>\n",
              "    <tr>\n",
              "      <th>2</th>\n",
              "      <td>1000</td>\n",
              "      <td>15</td>\n",
              "      <td>27</td>\n",
              "      <td>0</td>\n",
              "      <td>0</td>\n",
              "      <td>0</td>\n",
              "      <td>0</td>\n",
              "      <td>1</td>\n",
              "    </tr>\n",
              "    <tr>\n",
              "      <th>3</th>\n",
              "      <td>1000</td>\n",
              "      <td>30</td>\n",
              "      <td>28</td>\n",
              "      <td>1</td>\n",
              "      <td>1</td>\n",
              "      <td>0</td>\n",
              "      <td>0</td>\n",
              "      <td>1</td>\n",
              "    </tr>\n",
              "    <tr>\n",
              "      <th>4</th>\n",
              "      <td>1000</td>\n",
              "      <td>30</td>\n",
              "      <td>29</td>\n",
              "      <td>0</td>\n",
              "      <td>1</td>\n",
              "      <td>0</td>\n",
              "      <td>0</td>\n",
              "      <td>1</td>\n",
              "    </tr>\n",
              "  </tbody>\n",
              "</table>\n",
              "</div>"
            ],
            "text/plain": [
              "   Principal  terms  age  ...  Bechalor  High School or Below  college\n",
              "0       1000     30   45  ...         0                     1        0\n",
              "1       1000     30   33  ...         1                     0        0\n",
              "2       1000     15   27  ...         0                     0        1\n",
              "3       1000     30   28  ...         0                     0        1\n",
              "4       1000     30   29  ...         0                     0        1\n",
              "\n",
              "[5 rows x 8 columns]"
            ]
          },
          "metadata": {
            "tags": []
          },
          "execution_count": 131
        }
      ]
    },
    {
      "cell_type": "markdown",
      "metadata": {
        "button": false,
        "new_sheet": false,
        "run_control": {
          "read_only": false
        },
        "id": "PVwdInMvdx_4"
      },
      "source": [
        "### Feature selection"
      ]
    },
    {
      "cell_type": "markdown",
      "metadata": {
        "button": false,
        "new_sheet": false,
        "run_control": {
          "read_only": false
        },
        "id": "2k0yW2pJdx_5"
      },
      "source": [
        "Lets define feature sets, X:"
      ]
    },
    {
      "cell_type": "code",
      "metadata": {
        "button": false,
        "new_sheet": false,
        "run_control": {
          "read_only": false
        },
        "colab": {
          "base_uri": "https://localhost:8080/",
          "height": 206
        },
        "id": "ee1CXw2sdx_5",
        "outputId": "83cfb669-7b23-4d0b-8b81-766b5e216adf"
      },
      "source": [
        "X = Feature\n",
        "X[0:5]"
      ],
      "execution_count": 132,
      "outputs": [
        {
          "output_type": "execute_result",
          "data": {
            "text/html": [
              "<div>\n",
              "<style scoped>\n",
              "    .dataframe tbody tr th:only-of-type {\n",
              "        vertical-align: middle;\n",
              "    }\n",
              "\n",
              "    .dataframe tbody tr th {\n",
              "        vertical-align: top;\n",
              "    }\n",
              "\n",
              "    .dataframe thead th {\n",
              "        text-align: right;\n",
              "    }\n",
              "</style>\n",
              "<table border=\"1\" class=\"dataframe\">\n",
              "  <thead>\n",
              "    <tr style=\"text-align: right;\">\n",
              "      <th></th>\n",
              "      <th>Principal</th>\n",
              "      <th>terms</th>\n",
              "      <th>age</th>\n",
              "      <th>Gender</th>\n",
              "      <th>weekend</th>\n",
              "      <th>Bechalor</th>\n",
              "      <th>High School or Below</th>\n",
              "      <th>college</th>\n",
              "    </tr>\n",
              "  </thead>\n",
              "  <tbody>\n",
              "    <tr>\n",
              "      <th>0</th>\n",
              "      <td>1000</td>\n",
              "      <td>30</td>\n",
              "      <td>45</td>\n",
              "      <td>0</td>\n",
              "      <td>0</td>\n",
              "      <td>0</td>\n",
              "      <td>1</td>\n",
              "      <td>0</td>\n",
              "    </tr>\n",
              "    <tr>\n",
              "      <th>1</th>\n",
              "      <td>1000</td>\n",
              "      <td>30</td>\n",
              "      <td>33</td>\n",
              "      <td>1</td>\n",
              "      <td>0</td>\n",
              "      <td>1</td>\n",
              "      <td>0</td>\n",
              "      <td>0</td>\n",
              "    </tr>\n",
              "    <tr>\n",
              "      <th>2</th>\n",
              "      <td>1000</td>\n",
              "      <td>15</td>\n",
              "      <td>27</td>\n",
              "      <td>0</td>\n",
              "      <td>0</td>\n",
              "      <td>0</td>\n",
              "      <td>0</td>\n",
              "      <td>1</td>\n",
              "    </tr>\n",
              "    <tr>\n",
              "      <th>3</th>\n",
              "      <td>1000</td>\n",
              "      <td>30</td>\n",
              "      <td>28</td>\n",
              "      <td>1</td>\n",
              "      <td>1</td>\n",
              "      <td>0</td>\n",
              "      <td>0</td>\n",
              "      <td>1</td>\n",
              "    </tr>\n",
              "    <tr>\n",
              "      <th>4</th>\n",
              "      <td>1000</td>\n",
              "      <td>30</td>\n",
              "      <td>29</td>\n",
              "      <td>0</td>\n",
              "      <td>1</td>\n",
              "      <td>0</td>\n",
              "      <td>0</td>\n",
              "      <td>1</td>\n",
              "    </tr>\n",
              "  </tbody>\n",
              "</table>\n",
              "</div>"
            ],
            "text/plain": [
              "   Principal  terms  age  ...  Bechalor  High School or Below  college\n",
              "0       1000     30   45  ...         0                     1        0\n",
              "1       1000     30   33  ...         1                     0        0\n",
              "2       1000     15   27  ...         0                     0        1\n",
              "3       1000     30   28  ...         0                     0        1\n",
              "4       1000     30   29  ...         0                     0        1\n",
              "\n",
              "[5 rows x 8 columns]"
            ]
          },
          "metadata": {
            "tags": []
          },
          "execution_count": 132
        }
      ]
    },
    {
      "cell_type": "markdown",
      "metadata": {
        "button": false,
        "new_sheet": false,
        "run_control": {
          "read_only": false
        },
        "id": "qPwFs9Ridx_5"
      },
      "source": [
        "What are our lables?"
      ]
    },
    {
      "cell_type": "code",
      "metadata": {
        "button": false,
        "new_sheet": false,
        "run_control": {
          "read_only": false
        },
        "colab": {
          "base_uri": "https://localhost:8080/"
        },
        "id": "owlL8pmhdx_5",
        "outputId": "7d397690-be77-4e25-be08-17096ee10bd7"
      },
      "source": [
        "y = df['loan_status'].values\n",
        "y[0:5]"
      ],
      "execution_count": 133,
      "outputs": [
        {
          "output_type": "execute_result",
          "data": {
            "text/plain": [
              "array(['PAIDOFF', 'PAIDOFF', 'PAIDOFF', 'PAIDOFF', 'PAIDOFF'],\n",
              "      dtype=object)"
            ]
          },
          "metadata": {
            "tags": []
          },
          "execution_count": 133
        }
      ]
    },
    {
      "cell_type": "markdown",
      "metadata": {
        "button": false,
        "new_sheet": false,
        "run_control": {
          "read_only": false
        },
        "id": "DXg5kl8ndx_5"
      },
      "source": [
        "## Normalize Data [ + Oversampling of the minority class to address imbalancing -> removed]"
      ]
    },
    {
      "cell_type": "markdown",
      "metadata": {
        "button": false,
        "new_sheet": false,
        "run_control": {
          "read_only": false
        },
        "id": "d4QZip9Sdx_5"
      },
      "source": [
        "Data Standardization give data zero mean and unit variance (technically should be done after train test split )"
      ]
    },
    {
      "cell_type": "code",
      "metadata": {
        "button": false,
        "new_sheet": false,
        "run_control": {
          "read_only": false
        },
        "colab": {
          "base_uri": "https://localhost:8080/"
        },
        "id": "lba3iWgAdx_6",
        "outputId": "b5a91a3d-bf23-457a-d465-3ee4e60a721a"
      },
      "source": [
        "from imblearn.over_sampling  import SMOTE\n",
        "from imblearn.over_sampling  import ADASYN\n",
        "\n",
        "# transform the dataset\n",
        "# print(np.sum(y=='PAIDOFF'))\n",
        "# print(np.sum(y=='COLLECTION'))\n",
        "# oversample = SMOTE(random_state=42)\n",
        "# oversample = ADASYN()\n",
        "# X, y = oversample.fit_resample(X, y)\n",
        "\n",
        "X= preprocessing.StandardScaler().fit(X).transform(X)\n",
        "X[0:5]\n",
        "\n"
      ],
      "execution_count": 134,
      "outputs": [
        {
          "output_type": "execute_result",
          "data": {
            "text/plain": [
              "array([[ 0.51578458,  0.92071769,  2.33152555, -0.42056004, -1.20577805,\n",
              "        -0.38170062,  1.13639374, -0.86968108],\n",
              "       [ 0.51578458,  0.92071769,  0.34170148,  2.37778177, -1.20577805,\n",
              "         2.61985426, -0.87997669, -0.86968108],\n",
              "       [ 0.51578458, -0.95911111, -0.65321055, -0.42056004, -1.20577805,\n",
              "        -0.38170062, -0.87997669,  1.14984679],\n",
              "       [ 0.51578458,  0.92071769, -0.48739188,  2.37778177,  0.82934003,\n",
              "        -0.38170062, -0.87997669,  1.14984679],\n",
              "       [ 0.51578458,  0.92071769, -0.3215732 , -0.42056004,  0.82934003,\n",
              "        -0.38170062, -0.87997669,  1.14984679]])"
            ]
          },
          "metadata": {
            "tags": []
          },
          "execution_count": 134
        }
      ]
    },
    {
      "cell_type": "markdown",
      "metadata": {
        "button": false,
        "new_sheet": false,
        "run_control": {
          "read_only": false
        },
        "id": "-HHKHme1dx_6"
      },
      "source": [
        "# Classification "
      ]
    },
    {
      "cell_type": "markdown",
      "metadata": {
        "button": false,
        "new_sheet": false,
        "run_control": {
          "read_only": false
        },
        "id": "IEQdO0W4dx_7"
      },
      "source": [
        "Now, it is your turn, use the training set to build an accurate model. Then use the test set to report the accuracy of the model\n",
        "You should use the following algorithm:\n",
        "- K Nearest Neighbor(KNN)\n",
        "- Decision Tree\n",
        "- Support Vector Machine\n",
        "- Logistic Regression\n",
        "\n",
        "\n",
        "\n",
        "__ Notice:__ \n",
        "- You can go above and change the pre-processing, feature selection, feature-extraction, and so on, to make a better model.\n",
        "- You should use either scikit-learn, Scipy or Numpy libraries for developing the classification algorithms.\n",
        "- You should include the code of the algorithm in the following cells."
      ]
    },
    {
      "cell_type": "code",
      "metadata": {
        "colab": {
          "base_uri": "https://localhost:8080/"
        },
        "id": "sFBub_W9dx_8",
        "outputId": "65f21275-4325-4198-cdec-756cd064d6ca"
      },
      "source": [
        "# if our set has to be splitted\n",
        "from sklearn.neighbors       import KNeighborsClassifier\n",
        "from sklearn.tree            import DecisionTreeClassifier\n",
        "from sklearn.svm             import SVC\n",
        "from sklearn.model_selection import train_test_split\n",
        "from sklearn.linear_model    import LogisticRegression\n",
        "from sklearn.metrics         import confusion_matrix\n",
        "\n",
        "from sklearn                 import tree\n",
        "from sklearn.decomposition   import PCA\n",
        "\n",
        "from mpl_toolkits.mplot3d    import Axes3D\n",
        "from sklearn.model_selection import GridSearchCV\n",
        "\n",
        "from sklearn import metrics\n",
        "from sklearn.metrics         import log_loss\n",
        "\n",
        "# X_train, X_test, y_train, y_test = train_test_split( X, y, test_size=0.2, random_state=42)\n",
        "\n",
        "# # shape of data splitted\n",
        "# print(X_train.shape)\n",
        "# print(y_train.shape)\n",
        "\n",
        "# print(X_test.shape)\n",
        "# print(y_test.shape)\n",
        "\n",
        "# # transforming Y_train in a numeric field\n",
        "# y_train_num = [1 if y_i=='PAIDOFF' else 0 for y_i in y_train]\n",
        "# y_test_num  = [1 if y_i=='PAIDOFF' else 0 for y_i in y_test ]\n",
        "\n",
        "\n",
        "# # I want to visualize training set with target classes\n",
        "# pca = PCA(n_components=3)\n",
        "# X_reduced_PAIDOFF_train = pca.fit(X).transform(X_train)\n",
        "# X_reduced_PAIDOFF_test  = pca.fit(X).transform(X_test)\n",
        "# fig = plt.figure(1, figsize=(8, 6))                       \n",
        "# ax = Axes3D(fig)\n",
        "# # training data \n",
        "# # - will have a more transparency, black edge\n",
        "# ax.scatter(X_reduced_PAIDOFF_train[:, 0], X_reduced_PAIDOFF_train[:, 1], X_reduced_PAIDOFF_train[:, 2], c=y_train_num, cmap=plt.cm.Set1, edgecolor='k', s=40, alpha=0.4)\n",
        "# # test data, blue edge\n",
        "# ax.scatter(X_reduced_PAIDOFF_test[:, 0],  X_reduced_PAIDOFF_test[:, 1],  X_reduced_PAIDOFF_test[:, 2],  c=y_test_num, cmap=plt.cm.Set1, edgecolor='b', s=40)\n",
        "# ax.set_title(\"First three PCA directions\")\n",
        "# ax.set_xlabel(\"1st eigenvector\")\n",
        "# ax.w_xaxis.set_ticklabels([])\n",
        "# ax.set_ylabel(\"2nd eigenvector\")\n",
        "# ax.w_yaxis.set_ticklabels([])\n",
        "# plt.show()\n",
        "\n",
        "# if we have already splitted our set\n",
        "X_train = X\n",
        "y_train = y\n",
        "\n",
        "# shape of data splitted\n",
        "print(X_train.shape)\n",
        "print(y_train.shape)\n",
        "\n",
        "# transforming Y_train in a numeric field\n",
        "y_train_num = [1 if y_i=='PAIDOFF' else 0 for y_i in y_train]"
      ],
      "execution_count": 135,
      "outputs": [
        {
          "output_type": "stream",
          "text": [
            "(346, 8)\n",
            "(346,)\n"
          ],
          "name": "stdout"
        }
      ]
    },
    {
      "cell_type": "markdown",
      "metadata": {
        "id": "mxzkO4xSdx_9"
      },
      "source": [
        "# K Nearest Neighbor(KNN)\n",
        "Notice: You should find the best k to build the model with the best accuracy.  \n",
        "**warning:** You should not use the __loan_test.csv__ for finding the best k, however, you can split your train_loan.csv into train and test to find the best __k__."
      ]
    },
    {
      "cell_type": "code",
      "metadata": {
        "colab": {
          "base_uri": "https://localhost:8080/"
        },
        "id": "B9bBq0CUdx_9",
        "outputId": "6ee7ac69-ea01-4514-d8b3-3655be7a70d3"
      },
      "source": [
        "# setting hyperparameters grid\n",
        "parameters = {\n",
        "    'n_neighbors': np.linspace(1, int(X_train.shape[0]/2), int(X_train.shape[0]/2) -1).astype(int)\n",
        "}\n",
        "\n",
        "# instantiation the generic KNN classifier object\n",
        "knn_classifier_obj = KNeighborsClassifier()\n",
        "\n",
        "# grid searching the hyperparameters\n",
        "clf                = GridSearchCV(knn_classifier_obj, scoring='accuracy', param_grid=parameters)\n",
        "clf.fit(X_train, y_train_num)\n",
        "\n",
        "# retrieving best model paramters\n",
        "print(f'Best estimator: {clf.best_estimator_}. Best estimator type: {type(clf.best_estimator_)}')\n",
        "\n",
        "# referencing to the best estimator\n",
        "knn_classifier_obj = clf.best_estimator_"
      ],
      "execution_count": 136,
      "outputs": [
        {
          "output_type": "stream",
          "text": [
            "Best estimator: KNeighborsClassifier(algorithm='auto', leaf_size=30, metric='minkowski',\n",
            "                     metric_params=None, n_jobs=None, n_neighbors=47, p=2,\n",
            "                     weights='uniform'). Best estimator type: <class 'sklearn.neighbors._classification.KNeighborsClassifier'>\n"
          ],
          "name": "stdout"
        }
      ]
    },
    {
      "cell_type": "markdown",
      "metadata": {
        "id": "BeWYHN0Qdx_-"
      },
      "source": [
        "# Decision Tree"
      ]
    },
    {
      "cell_type": "code",
      "metadata": {
        "colab": {
          "base_uri": "https://localhost:8080/",
          "height": 1000
        },
        "id": "cQ9EhEXtdx__",
        "outputId": "4eda635e-7fa5-4c9f-a4e3-d66a0cd436a3"
      },
      "source": [
        "# setting hyperparameters grid\n",
        "parameters = {\n",
        "    'criterion'  : [\"gini\", \"entropy\"],\n",
        "    'splitter'   : [\"best\", \"random\"],\n",
        "    'max_depth'  : [X_train.shape[1]],\n",
        "}\n",
        "\n",
        "# instantiation the generic decision tree classifier object\n",
        "dt_classifier_obj = DecisionTreeClassifier(random_state=42)\n",
        "\n",
        "# grid searching the hyperparameters\n",
        "clf                = GridSearchCV(dt_classifier_obj, scoring='accuracy', param_grid=parameters)\n",
        "clf.fit(X_train, y_train_num)\n",
        "\n",
        "# retrieving best model paramters\n",
        "print(f'Best estimator: {clf.best_estimator_}. Best estimator type: {type(clf.best_estimator_)}')\n",
        "\n",
        "# referencing to the best estimator\n",
        "dt_classifier_obj = clf.best_estimator_\n",
        "tree.plot_tree(dt_classifier_obj) "
      ],
      "execution_count": 137,
      "outputs": [
        {
          "output_type": "stream",
          "text": [
            "Best estimator: DecisionTreeClassifier(ccp_alpha=0.0, class_weight=None, criterion='entropy',\n",
            "                       max_depth=8, max_features=None, max_leaf_nodes=None,\n",
            "                       min_impurity_decrease=0.0, min_impurity_split=None,\n",
            "                       min_samples_leaf=1, min_samples_split=2,\n",
            "                       min_weight_fraction_leaf=0.0, presort='deprecated',\n",
            "                       random_state=42, splitter='random'). Best estimator type: <class 'sklearn.tree._classes.DecisionTreeClassifier'>\n"
          ],
          "name": "stdout"
        },
        {
          "output_type": "execute_result",
          "data": {
            "text/plain": [
              "[Text(141.70263157894738, 205.35999999999999, 'X[4] <= 0.225\\nentropy = 0.809\\nsamples = 346\\nvalue = [86, 260]'),\n",
              " Text(35.242105263157896, 181.2, 'X[7] <= -0.695\\nentropy = 0.149\\nsamples = 141\\nvalue = [3, 138]'),\n",
              " Text(29.368421052631582, 157.04, 'entropy = 0.0\\nsamples = 84\\nvalue = [0, 84]'),\n",
              " Text(41.11578947368422, 157.04, 'X[3] <= 1.639\\nentropy = 0.297\\nsamples = 57\\nvalue = [3, 54]'),\n",
              " Text(35.242105263157896, 132.88, 'X[1] <= -0.025\\nentropy = 0.342\\nsamples = 47\\nvalue = [3, 44]'),\n",
              " Text(23.494736842105265, 108.72, 'X[0] <= 0.28\\nentropy = 0.25\\nsamples = 24\\nvalue = [1, 23]'),\n",
              " Text(17.621052631578948, 84.56, 'X[2] <= 2.381\\nentropy = 0.353\\nsamples = 15\\nvalue = [1, 14]'),\n",
              " Text(11.747368421052633, 60.400000000000006, 'X[2] <= 0.647\\nentropy = 0.371\\nsamples = 14\\nvalue = [1, 13]'),\n",
              " Text(5.873684210526316, 36.24000000000001, 'entropy = 0.0\\nsamples = 9\\nvalue = [0, 9]'),\n",
              " Text(17.621052631578948, 36.24000000000001, 'X[2] <= 1.864\\nentropy = 0.722\\nsamples = 5\\nvalue = [1, 4]'),\n",
              " Text(11.747368421052633, 12.079999999999984, 'entropy = 0.811\\nsamples = 4\\nvalue = [1, 3]'),\n",
              " Text(23.494736842105265, 12.079999999999984, 'entropy = 0.0\\nsamples = 1\\nvalue = [0, 1]'),\n",
              " Text(23.494736842105265, 60.400000000000006, 'entropy = 0.0\\nsamples = 1\\nvalue = [0, 1]'),\n",
              " Text(29.368421052631582, 84.56, 'entropy = 0.0\\nsamples = 9\\nvalue = [0, 9]'),\n",
              " Text(46.98947368421053, 108.72, 'X[0] <= -0.072\\nentropy = 0.426\\nsamples = 23\\nvalue = [2, 21]'),\n",
              " Text(41.11578947368422, 84.56, 'entropy = 0.0\\nsamples = 1\\nvalue = [0, 1]'),\n",
              " Text(52.863157894736844, 84.56, 'X[2] <= 0.167\\nentropy = 0.439\\nsamples = 22\\nvalue = [2, 20]'),\n",
              " Text(46.98947368421053, 60.400000000000006, 'X[2] <= -1.741\\nentropy = 0.523\\nsamples = 17\\nvalue = [2, 15]'),\n",
              " Text(41.11578947368422, 36.24000000000001, 'entropy = 0.0\\nsamples = 1\\nvalue = [0, 1]'),\n",
              " Text(52.863157894736844, 36.24000000000001, 'X[2] <= -0.648\\nentropy = 0.544\\nsamples = 16\\nvalue = [2, 14]'),\n",
              " Text(46.98947368421053, 12.079999999999984, 'entropy = 0.722\\nsamples = 5\\nvalue = [1, 4]'),\n",
              " Text(58.736842105263165, 12.079999999999984, 'entropy = 0.439\\nsamples = 11\\nvalue = [1, 10]'),\n",
              " Text(58.736842105263165, 60.400000000000006, 'entropy = 0.0\\nsamples = 5\\nvalue = [0, 5]'),\n",
              " Text(46.98947368421053, 132.88, 'entropy = 0.0\\nsamples = 10\\nvalue = [0, 10]'),\n",
              " Text(248.16315789473686, 181.2, 'X[3] <= 0.099\\nentropy = 0.974\\nsamples = 205\\nvalue = [83, 122]'),\n",
              " Text(179.14736842105265, 157.04, 'X[7] <= 0.857\\nentropy = 0.984\\nsamples = 179\\nvalue = [76, 103]'),\n",
              " Text(114.53684210526316, 132.88, 'X[1] <= -1.532\\nentropy = 0.998\\nsamples = 99\\nvalue = [47, 52]'),\n",
              " Text(108.66315789473686, 108.72, 'entropy = 0.0\\nsamples = 3\\nvalue = [0, 3]'),\n",
              " Text(120.41052631578948, 108.72, 'X[2] <= -1.191\\nentropy = 1.0\\nsamples = 96\\nvalue = [47, 49]'),\n",
              " Text(82.23157894736843, 84.56, 'X[2] <= -1.536\\nentropy = 0.946\\nsamples = 11\\nvalue = [4, 7]'),\n",
              " Text(70.48421052631579, 60.400000000000006, 'X[6] <= -0.629\\nentropy = 0.811\\nsamples = 4\\nvalue = [1, 3]'),\n",
              " Text(64.61052631578949, 36.24000000000001, 'entropy = 0.0\\nsamples = 1\\nvalue = [0, 1]'),\n",
              " Text(76.35789473684211, 36.24000000000001, 'X[2] <= -1.667\\nentropy = 0.918\\nsamples = 3\\nvalue = [1, 2]'),\n",
              " Text(70.48421052631579, 12.079999999999984, 'entropy = 0.0\\nsamples = 1\\nvalue = [0, 1]'),\n",
              " Text(82.23157894736843, 12.079999999999984, 'entropy = 1.0\\nsamples = 2\\nvalue = [1, 1]'),\n",
              " Text(93.97894736842106, 60.400000000000006, 'X[6] <= 0.713\\nentropy = 0.985\\nsamples = 7\\nvalue = [3, 4]'),\n",
              " Text(88.10526315789474, 36.24000000000001, 'entropy = 0.0\\nsamples = 1\\nvalue = [1, 0]'),\n",
              " Text(99.85263157894738, 36.24000000000001, 'X[2] <= -1.377\\nentropy = 0.918\\nsamples = 6\\nvalue = [2, 4]'),\n",
              " Text(93.97894736842106, 12.079999999999984, 'entropy = 0.0\\nsamples = 3\\nvalue = [0, 3]'),\n",
              " Text(105.72631578947369, 12.079999999999984, 'entropy = 0.918\\nsamples = 3\\nvalue = [2, 1]'),\n",
              " Text(158.58947368421053, 84.56, 'X[2] <= -0.335\\nentropy = 1.0\\nsamples = 85\\nvalue = [43, 42]'),\n",
              " Text(135.09473684210528, 60.400000000000006, 'X[5] <= 0.802\\nentropy = 0.985\\nsamples = 28\\nvalue = [16, 12]'),\n",
              " Text(123.34736842105264, 36.24000000000001, 'X[1] <= 0.704\\nentropy = 0.998\\nsamples = 21\\nvalue = [11, 10]'),\n",
              " Text(117.47368421052633, 12.079999999999984, 'entropy = 0.722\\nsamples = 5\\nvalue = [1, 4]'),\n",
              " Text(129.22105263157897, 12.079999999999984, 'entropy = 0.954\\nsamples = 16\\nvalue = [10, 6]'),\n",
              " Text(146.84210526315792, 36.24000000000001, 'X[1] <= -0.458\\nentropy = 0.863\\nsamples = 7\\nvalue = [5, 2]'),\n",
              " Text(140.96842105263158, 12.079999999999984, 'entropy = 0.0\\nsamples = 3\\nvalue = [3, 0]'),\n",
              " Text(152.71578947368423, 12.079999999999984, 'entropy = 1.0\\nsamples = 4\\nvalue = [2, 2]'),\n",
              " Text(182.08421052631581, 60.400000000000006, 'X[5] <= 0.922\\nentropy = 0.998\\nsamples = 57\\nvalue = [27, 30]'),\n",
              " Text(170.33684210526317, 36.24000000000001, 'X[2] <= 2.525\\nentropy = 1.0\\nsamples = 45\\nvalue = [22, 23]'),\n",
              " Text(164.46315789473687, 12.079999999999984, 'entropy = 1.0\\nsamples = 42\\nvalue = [21, 21]'),\n",
              " Text(176.21052631578948, 12.079999999999984, 'entropy = 0.918\\nsamples = 3\\nvalue = [1, 2]'),\n",
              " Text(193.83157894736843, 36.24000000000001, 'X[2] <= 2.035\\nentropy = 0.98\\nsamples = 12\\nvalue = [5, 7]'),\n",
              " Text(187.95789473684212, 12.079999999999984, 'entropy = 0.946\\nsamples = 11\\nvalue = [4, 7]'),\n",
              " Text(199.70526315789476, 12.079999999999984, 'entropy = 0.0\\nsamples = 1\\nvalue = [1, 0]'),\n",
              " Text(243.75789473684213, 132.88, 'X[1] <= -1.065\\nentropy = 0.945\\nsamples = 80\\nvalue = [29, 51]'),\n",
              " Text(237.8842105263158, 108.72, 'entropy = 0.0\\nsamples = 3\\nvalue = [0, 3]'),\n",
              " Text(249.63157894736844, 108.72, 'X[0] <= -1.065\\nentropy = 0.956\\nsamples = 77\\nvalue = [29, 48]'),\n",
              " Text(234.94736842105266, 84.56, 'X[1] <= 0.825\\nentropy = 0.874\\nsamples = 17\\nvalue = [5, 12]'),\n",
              " Text(229.07368421052632, 60.400000000000006, 'X[2] <= -0.152\\nentropy = 0.896\\nsamples = 16\\nvalue = [5, 11]'),\n",
              " Text(217.3263157894737, 36.24000000000001, 'X[2] <= -1.29\\nentropy = 0.881\\nsamples = 10\\nvalue = [3, 7]'),\n",
              " Text(211.45263157894738, 12.079999999999984, 'entropy = 0.0\\nsamples = 1\\nvalue = [1, 0]'),\n",
              " Text(223.20000000000002, 12.079999999999984, 'entropy = 0.764\\nsamples = 9\\nvalue = [2, 7]'),\n",
              " Text(240.82105263157897, 36.24000000000001, 'X[2] <= 0.49\\nentropy = 0.918\\nsamples = 6\\nvalue = [2, 4]'),\n",
              " Text(234.94736842105266, 12.079999999999984, 'entropy = 0.918\\nsamples = 3\\nvalue = [1, 2]'),\n",
              " Text(246.69473684210527, 12.079999999999984, 'entropy = 0.918\\nsamples = 3\\nvalue = [1, 2]'),\n",
              " Text(240.82105263157897, 60.400000000000006, 'entropy = 0.0\\nsamples = 1\\nvalue = [0, 1]'),\n",
              " Text(264.3157894736842, 84.56, 'X[0] <= -0.219\\nentropy = 0.971\\nsamples = 60\\nvalue = [24, 36]'),\n",
              " Text(258.44210526315794, 60.400000000000006, 'entropy = 0.0\\nsamples = 1\\nvalue = [0, 1]'),\n",
              " Text(270.18947368421055, 60.400000000000006, 'X[2] <= 2.224\\nentropy = 0.975\\nsamples = 59\\nvalue = [24, 35]'),\n",
              " Text(264.3157894736842, 36.24000000000001, 'X[2] <= -1.531\\nentropy = 0.978\\nsamples = 58\\nvalue = [24, 34]'),\n",
              " Text(258.44210526315794, 12.079999999999984, 'entropy = 1.0\\nsamples = 2\\nvalue = [1, 1]'),\n",
              " Text(270.18947368421055, 12.079999999999984, 'entropy = 0.977\\nsamples = 56\\nvalue = [23, 33]'),\n",
              " Text(276.0631578947369, 36.24000000000001, 'entropy = 0.0\\nsamples = 1\\nvalue = [0, 1]'),\n",
              " Text(317.17894736842106, 157.04, 'X[5] <= 2.448\\nentropy = 0.84\\nsamples = 26\\nvalue = [7, 19]'),\n",
              " Text(311.3052631578948, 132.88, 'X[2] <= 1.394\\nentropy = 0.918\\nsamples = 21\\nvalue = [7, 14]'),\n",
              " Text(305.43157894736845, 108.72, 'X[7] <= 0.762\\nentropy = 0.964\\nsamples = 18\\nvalue = [7, 11]'),\n",
              " Text(287.8105263157895, 84.56, 'X[2] <= -1.037\\nentropy = 0.918\\nsamples = 6\\nvalue = [4, 2]'),\n",
              " Text(281.93684210526317, 60.400000000000006, 'entropy = 0.0\\nsamples = 1\\nvalue = [0, 1]'),\n",
              " Text(293.68421052631584, 60.400000000000006, 'X[0] <= 0.196\\nentropy = 0.722\\nsamples = 5\\nvalue = [4, 1]'),\n",
              " Text(287.8105263157895, 36.24000000000001, 'X[2] <= 0.151\\nentropy = 1.0\\nsamples = 2\\nvalue = [1, 1]'),\n",
              " Text(281.93684210526317, 12.079999999999984, 'entropy = 0.0\\nsamples = 1\\nvalue = [1, 0]'),\n",
              " Text(293.68421052631584, 12.079999999999984, 'entropy = 0.0\\nsamples = 1\\nvalue = [0, 1]'),\n",
              " Text(299.5578947368421, 36.24000000000001, 'entropy = 0.0\\nsamples = 3\\nvalue = [3, 0]'),\n",
              " Text(323.0526315789474, 84.56, 'X[2] <= 0.692\\nentropy = 0.811\\nsamples = 12\\nvalue = [3, 9]'),\n",
              " Text(317.17894736842106, 60.400000000000006, 'X[2] <= 0.14\\nentropy = 0.684\\nsamples = 11\\nvalue = [2, 9]'),\n",
              " Text(311.3052631578948, 36.24000000000001, 'X[1] <= -1.75\\nentropy = 0.863\\nsamples = 7\\nvalue = [2, 5]'),\n",
              " Text(305.43157894736845, 12.079999999999984, 'entropy = 0.0\\nsamples = 1\\nvalue = [0, 1]'),\n",
              " Text(317.17894736842106, 12.079999999999984, 'entropy = 0.918\\nsamples = 6\\nvalue = [2, 4]'),\n",
              " Text(323.0526315789474, 36.24000000000001, 'entropy = 0.0\\nsamples = 4\\nvalue = [0, 4]'),\n",
              " Text(328.92631578947373, 60.400000000000006, 'entropy = 0.0\\nsamples = 1\\nvalue = [1, 0]'),\n",
              " Text(317.17894736842106, 108.72, 'entropy = 0.0\\nsamples = 3\\nvalue = [0, 3]'),\n",
              " Text(323.0526315789474, 132.88, 'entropy = 0.0\\nsamples = 5\\nvalue = [0, 5]')]"
            ]
          },
          "metadata": {
            "tags": []
          },
          "execution_count": 137
        },
        {
          "output_type": "display_data",
          "data": {
            "image/png": "[encoded data removed]",
            "text/plain": [
              "<Figure size 432x288 with 1 Axes>"
            ]
          },
          "metadata": {
            "tags": [],
            "needs_background": "light"
          }
        }
      ]
    },
    {
      "cell_type": "markdown",
      "metadata": {
        "id": "5Kq8yaDrdx__"
      },
      "source": [
        "# Support Vector Machine"
      ]
    },
    {
      "cell_type": "code",
      "metadata": {
        "colab": {
          "base_uri": "https://localhost:8080/"
        },
        "id": "TDevSYthdx__",
        "outputId": "bd71a2cc-c67e-4498-fc01-2855f6ea0c06"
      },
      "source": [
        "# setting hyperparameters grid\n",
        "parameters = {\n",
        "    'kernel'  : ['linear', 'poly', 'rbf', 'sigmoid'],\n",
        "    'degree'  : np.linspace(1, 10, 10),\n",
        "    'gamma'   : ['scale', 'auto']\n",
        "}\n",
        "\n",
        "# instantiation the generic SVM classifier object\n",
        "SVM_classifier_obj = SVC(random_state=42)\n",
        "\n",
        "# grid searching the hyperparameters\n",
        "clf                = GridSearchCV(SVM_classifier_obj, scoring='accuracy', param_grid=parameters)\n",
        "clf.fit(X_train, y_train_num)\n",
        "\n",
        "# retrieving best model paramters\n",
        "print(f'Best estimator: {clf.best_estimator_}. Best estimator type: {type(clf.best_estimator_)}')\n",
        "\n",
        "# referencing to the best estimator\n",
        "SVM_classifier_obj = clf.best_estimator_\n"
      ],
      "execution_count": 138,
      "outputs": [
        {
          "output_type": "stream",
          "text": [
            "Best estimator: SVC(C=1.0, break_ties=False, cache_size=200, class_weight=None, coef0=0.0,\n",
            "    decision_function_shape='ovr', degree=2.0, gamma='scale', kernel='poly',\n",
            "    max_iter=-1, probability=False, random_state=42, shrinking=True, tol=0.001,\n",
            "    verbose=False). Best estimator type: <class 'sklearn.svm._classes.SVC'>\n"
          ],
          "name": "stdout"
        }
      ]
    },
    {
      "cell_type": "markdown",
      "metadata": {
        "id": "0QCK75C6dyAB"
      },
      "source": [
        "# Logistic Regression"
      ]
    },
    {
      "cell_type": "code",
      "metadata": {
        "colab": {
          "base_uri": "https://localhost:8080/"
        },
        "id": "_UI1XU9gdyAB",
        "outputId": "88dc6e03-f6c7-402b-9c49-f29221e0e1ae"
      },
      "source": [
        "parameters = {\n",
        "   'penalty'     : ['l2', 'l1'],\n",
        "   'tol'         : [1e-03, 1e-04, 1e-05],\n",
        "   'C'           : [1e-5, 0.001, 0.01, 0.05, 0.5, 1, 2],\n",
        "   'solver'      : ['liblinear'],\n",
        "   'class_weight': ['balanced', None]\n",
        "}\n",
        "\n",
        "\n",
        "\n",
        "LR_obj = LogisticRegression(random_state=42, max_iter=1000)\n",
        "\n",
        "# grid searching the hyperparameters\n",
        "clf                = GridSearchCV(LR_obj, scoring='accuracy', param_grid=parameters)\n",
        "clf.fit(X_train, y_train_num)\n",
        "\n",
        "\n",
        "# retrieving best model paramters\n",
        "print(f'Best estimator: {clf.best_estimator_}. Best estimator type: {type(clf.best_estimator_)}')\n",
        "\n",
        "# referencing to the best estimator\n",
        "LR_obj = clf.best_estimator_"
      ],
      "execution_count": 139,
      "outputs": [
        {
          "output_type": "stream",
          "text": [
            "Best estimator: LogisticRegression(C=2, class_weight=None, dual=False, fit_intercept=True,\n",
            "                   intercept_scaling=1, l1_ratio=None, max_iter=1000,\n",
            "                   multi_class='auto', n_jobs=None, penalty='l2',\n",
            "                   random_state=42, solver='liblinear', tol=0.001, verbose=0,\n",
            "                   warm_start=False). Best estimator type: <class 'sklearn.linear_model._logistic.LogisticRegression'>\n"
          ],
          "name": "stdout"
        }
      ]
    },
    {
      "cell_type": "markdown",
      "metadata": {
        "id": "qSzWYI3kdyAB"
      },
      "source": [
        "# Model Evaluation using Test set"
      ]
    },
    {
      "cell_type": "code",
      "metadata": {
        "id": "xpcd8KfcdyAB"
      },
      "source": [
        "from sklearn.metrics import jaccard_score\n",
        "from sklearn.metrics import f1_score\n",
        "from sklearn.metrics import log_loss"
      ],
      "execution_count": 140,
      "outputs": []
    },
    {
      "cell_type": "markdown",
      "metadata": {
        "id": "yQ_z1j5FdyAC"
      },
      "source": [
        "First, download and load the test set:"
      ]
    },
    {
      "cell_type": "code",
      "metadata": {
        "colab": {
          "base_uri": "https://localhost:8080/"
        },
        "id": "5f-WX5GJdyAC",
        "outputId": "731c16bc-303a-40e4-e9ef-ab5eb32c1ff4"
      },
      "source": [
        "!wget -O loan_test.csv https://s3-api.us-geo.objectstorage.softlayer.net/cf-courses-data/CognitiveClass/ML0101ENv3/labs/loan_test.csv"
      ],
      "execution_count": 141,
      "outputs": [
        {
          "output_type": "stream",
          "text": [
            "--2021-05-09 23:50:20--  https://s3-api.us-geo.objectstorage.softlayer.net/cf-courses-data/CognitiveClass/ML0101ENv3/labs/loan_test.csv\n",
            "Resolving s3-api.us-geo.objectstorage.softlayer.net (s3-api.us-geo.objectstorage.softlayer.net)... 67.228.254.196\n",
            "Connecting to s3-api.us-geo.objectstorage.softlayer.net (s3-api.us-geo.objectstorage.softlayer.net)|67.228.254.196|:443... connected.\n",
            "HTTP request sent, awaiting response... 200 OK\n",
            "Length: 3642 (3.6K) [text/csv]\n",
            "Saving to: ‘loan_test.csv’\n",
            "\n",
            "loan_test.csv       100%[===================>]   3.56K  --.-KB/s    in 0s      \n",
            "\n",
            "2021-05-09 23:50:21 (611 MB/s) - ‘loan_test.csv’ saved [3642/3642]\n",
            "\n"
          ],
          "name": "stdout"
        }
      ]
    },
    {
      "cell_type": "markdown",
      "metadata": {
        "button": false,
        "new_sheet": false,
        "run_control": {
          "read_only": false
        },
        "id": "FOnzxUkhdyAD"
      },
      "source": [
        "### Load Test set for evaluation "
      ]
    },
    {
      "cell_type": "code",
      "metadata": {
        "button": false,
        "new_sheet": false,
        "run_control": {
          "read_only": false
        },
        "colab": {
          "base_uri": "https://localhost:8080/",
          "height": 206
        },
        "id": "seXJOUsPdyAD",
        "outputId": "71dfb647-4b63-482a-8e51-9e54f65cfb65"
      },
      "source": [
        "test_df = pd.read_csv('loan_test.csv')\n",
        "test_df.head()"
      ],
      "execution_count": 142,
      "outputs": [
        {
          "output_type": "execute_result",
          "data": {
            "text/html": [
              "<div>\n",
              "<style scoped>\n",
              "    .dataframe tbody tr th:only-of-type {\n",
              "        vertical-align: middle;\n",
              "    }\n",
              "\n",
              "    .dataframe tbody tr th {\n",
              "        vertical-align: top;\n",
              "    }\n",
              "\n",
              "    .dataframe thead th {\n",
              "        text-align: right;\n",
              "    }\n",
              "</style>\n",
              "<table border=\"1\" class=\"dataframe\">\n",
              "  <thead>\n",
              "    <tr style=\"text-align: right;\">\n",
              "      <th></th>\n",
              "      <th>Unnamed: 0</th>\n",
              "      <th>Unnamed: 0.1</th>\n",
              "      <th>loan_status</th>\n",
              "      <th>Principal</th>\n",
              "      <th>terms</th>\n",
              "      <th>effective_date</th>\n",
              "      <th>due_date</th>\n",
              "      <th>age</th>\n",
              "      <th>education</th>\n",
              "      <th>Gender</th>\n",
              "    </tr>\n",
              "  </thead>\n",
              "  <tbody>\n",
              "    <tr>\n",
              "      <th>0</th>\n",
              "      <td>1</td>\n",
              "      <td>1</td>\n",
              "      <td>PAIDOFF</td>\n",
              "      <td>1000</td>\n",
              "      <td>30</td>\n",
              "      <td>9/8/2016</td>\n",
              "      <td>10/7/2016</td>\n",
              "      <td>50</td>\n",
              "      <td>Bechalor</td>\n",
              "      <td>female</td>\n",
              "    </tr>\n",
              "    <tr>\n",
              "      <th>1</th>\n",
              "      <td>5</td>\n",
              "      <td>5</td>\n",
              "      <td>PAIDOFF</td>\n",
              "      <td>300</td>\n",
              "      <td>7</td>\n",
              "      <td>9/9/2016</td>\n",
              "      <td>9/15/2016</td>\n",
              "      <td>35</td>\n",
              "      <td>Master or Above</td>\n",
              "      <td>male</td>\n",
              "    </tr>\n",
              "    <tr>\n",
              "      <th>2</th>\n",
              "      <td>21</td>\n",
              "      <td>21</td>\n",
              "      <td>PAIDOFF</td>\n",
              "      <td>1000</td>\n",
              "      <td>30</td>\n",
              "      <td>9/10/2016</td>\n",
              "      <td>10/9/2016</td>\n",
              "      <td>43</td>\n",
              "      <td>High School or Below</td>\n",
              "      <td>female</td>\n",
              "    </tr>\n",
              "    <tr>\n",
              "      <th>3</th>\n",
              "      <td>24</td>\n",
              "      <td>24</td>\n",
              "      <td>PAIDOFF</td>\n",
              "      <td>1000</td>\n",
              "      <td>30</td>\n",
              "      <td>9/10/2016</td>\n",
              "      <td>10/9/2016</td>\n",
              "      <td>26</td>\n",
              "      <td>college</td>\n",
              "      <td>male</td>\n",
              "    </tr>\n",
              "    <tr>\n",
              "      <th>4</th>\n",
              "      <td>35</td>\n",
              "      <td>35</td>\n",
              "      <td>PAIDOFF</td>\n",
              "      <td>800</td>\n",
              "      <td>15</td>\n",
              "      <td>9/11/2016</td>\n",
              "      <td>9/25/2016</td>\n",
              "      <td>29</td>\n",
              "      <td>Bechalor</td>\n",
              "      <td>male</td>\n",
              "    </tr>\n",
              "  </tbody>\n",
              "</table>\n",
              "</div>"
            ],
            "text/plain": [
              "   Unnamed: 0  Unnamed: 0.1 loan_status  ...  age             education  Gender\n",
              "0           1             1     PAIDOFF  ...   50              Bechalor  female\n",
              "1           5             5     PAIDOFF  ...   35       Master or Above    male\n",
              "2          21            21     PAIDOFF  ...   43  High School or Below  female\n",
              "3          24            24     PAIDOFF  ...   26               college    male\n",
              "4          35            35     PAIDOFF  ...   29              Bechalor    male\n",
              "\n",
              "[5 rows x 10 columns]"
            ]
          },
          "metadata": {
            "tags": []
          },
          "execution_count": 142
        }
      ]
    },
    {
      "cell_type": "code",
      "metadata": {
        "colab": {
          "base_uri": "https://localhost:8080/"
        },
        "id": "2cnaJ5JmdyAD",
        "outputId": "9984590e-3efe-4e6f-b4e5-a864d39afc1a"
      },
      "source": [
        "print('data size: ', test_df.shape)\n",
        "\n",
        "# transforng to date into datetime\n",
        "test_df['due_date']        = pd.to_datetime(test_df['due_date'])\n",
        "test_df['effective_date']  = pd.to_datetime(test_df['effective_date'])\n",
        "\n",
        "# retrieve dayofweek\n",
        "test_df['dayofweek']       = test_df['effective_date'].dt.dayofweek\n",
        "\n",
        "# transforming dayofweek into boolean weekend flag\n",
        "test_df['weekend']         = test_df['dayofweek'].apply(lambda x: 1 if (x>3)  else 0)\n",
        "\n",
        "test_df['Gender'].replace(to_replace=['male','female'], value=[0,1],inplace=True)\n",
        "\n",
        "print('NaN sum for each column _______________________')\n",
        "for column in test_df.columns:\n",
        "    print(f'{column}:', test_df[column].isnull().sum())\n",
        "print('_______________________________________________')\n",
        "\n",
        "\n",
        "\n",
        "Feature = test_df[['Principal','terms','age','Gender','weekend']]\n",
        "Feature = pd.concat([Feature, pd.get_dummies(test_df['education'])], axis=1)\n",
        "Feature.drop(['Master or Above'], axis = 1,inplace=True)\n",
        "print('\\n_ Head' + 15*'_' + '\\n', Feature.head(), end=2*'\\n'+ '_ Description' + 15*'_' + '\\n')\n",
        "print(Feature.describe(), end=3*'\\n')\n",
        "\n",
        "print('NaN sum for each column _______________________')\n",
        "for column in Feature.columns:\n",
        "    print(f'{column}:', Feature[column].isnull().sum())\n",
        "print('_______________________________________________')\n",
        "\n",
        "# FEATURES SET -> TEST FETURES SET\n",
        "\n",
        "X_test = Feature\n",
        "X_test = preprocessing.StandardScaler().fit(X_test).transform(X_test)\n",
        "\n",
        "\n",
        "# TEST TARGET VARIABLE \n",
        "# transforming Y_train in a numeric field\n",
        "y_test     = test_df['loan_status']\n",
        "y_test_num = [1 if y_i=='PAIDOFF' else 0 for y_i in y_test]\n",
        "\n"
      ],
      "execution_count": 143,
      "outputs": [
        {
          "output_type": "stream",
          "text": [
            "data size:  (54, 10)\n",
            "NaN sum for each column _______________________\n",
            "Unnamed: 0: 0\n",
            "Unnamed: 0.1: 0\n",
            "loan_status: 0\n",
            "Principal: 0\n",
            "terms: 0\n",
            "effective_date: 0\n",
            "due_date: 0\n",
            "age: 0\n",
            "education: 0\n",
            "Gender: 0\n",
            "dayofweek: 0\n",
            "weekend: 0\n",
            "_______________________________________________\n",
            "\n",
            "_ Head_______________\n",
            "    Principal  terms  age  ...  Bechalor  High School or Below  college\n",
            "0       1000     30   50  ...         1                     0        0\n",
            "1        300      7   35  ...         0                     0        0\n",
            "2       1000     30   43  ...         0                     1        0\n",
            "3       1000     30   26  ...         0                     0        1\n",
            "4        800     15   29  ...         1                     0        0\n",
            "\n",
            "[5 rows x 8 columns]\n",
            "\n",
            "_ Description_______________\n",
            "         Principal      terms  ...  High School or Below    college\n",
            "count    54.000000  54.000000  ...             54.000000  54.000000\n",
            "mean    914.814815  21.888889  ...              0.388889   0.425926\n",
            "std     174.190751   8.818220  ...              0.492076   0.499126\n",
            "min     300.000000   7.000000  ...              0.000000   0.000000\n",
            "25%     800.000000  15.000000  ...              0.000000   0.000000\n",
            "50%    1000.000000  30.000000  ...              0.000000   0.000000\n",
            "75%    1000.000000  30.000000  ...              1.000000   1.000000\n",
            "max    1000.000000  30.000000  ...              1.000000   1.000000\n",
            "\n",
            "[8 rows x 8 columns]\n",
            "\n",
            "\n",
            "NaN sum for each column _______________________\n",
            "Principal: 0\n",
            "terms: 0\n",
            "age: 0\n",
            "Gender: 0\n",
            "weekend: 0\n",
            "Bechalor: 0\n",
            "High School or Below: 0\n",
            "college: 0\n",
            "_______________________________________________\n"
          ],
          "name": "stdout"
        }
      ]
    },
    {
      "cell_type": "code",
      "metadata": {
        "colab": {
          "base_uri": "https://localhost:8080/"
        },
        "id": "F7xDYCwedyAE",
        "outputId": "263d6cd8-4b84-44ac-b10d-db32354f6d1e"
      },
      "source": [
        "# estimation of predicted classes\n",
        "yhat = knn_classifier_obj.predict(X_test)\n",
        "\n",
        "print(\"->Train<- set Accuracy: \", metrics.accuracy_score(y_train_num, knn_classifier_obj.predict(X_train)))\n",
        "print(len(yhat), len(y_test_num))\n",
        "\n",
        "print(\"Test set Accuracy     : \", metrics.accuracy_score(y_test_num , yhat))\n",
        "print(\"Test set Jaccard      : \", metrics.jaccard_score(y_test_num , yhat))\n",
        "print(\"Test set F1           : \", metrics.f1_score(y_test_num , yhat))"
      ],
      "execution_count": 144,
      "outputs": [
        {
          "output_type": "stream",
          "text": [
            "->Train<- set Accuracy:  0.7543352601156069\n",
            "54 54\n",
            "Test set Accuracy     :  0.7777777777777778\n",
            "Test set Jaccard      :  0.7692307692307693\n",
            "Test set F1           :  0.8695652173913044\n"
          ],
          "name": "stdout"
        }
      ]
    },
    {
      "cell_type": "code",
      "metadata": {
        "colab": {
          "base_uri": "https://localhost:8080/"
        },
        "id": "pCgVHH8ydyAE",
        "outputId": "8d73c29b-f3be-4f4d-a000-814ba2ecc921"
      },
      "source": [
        "# estimation of predicted classes\n",
        "yhat = dt_classifier_obj.predict(X_test)\n",
        "\n",
        "print(\"->Train<- set Accuracy: \", metrics.accuracy_score(y_train_num, dt_classifier_obj.predict(X_train)))\n",
        "print(\"Test set Accuracy     : \", metrics.accuracy_score(y_test_num , yhat))\n",
        "print(\"Test set Jaccard      : \", metrics.jaccard_score(y_test_num , yhat))\n",
        "print(\"Test set F1           : \", metrics.f1_score(y_test_num , yhat))"
      ],
      "execution_count": 145,
      "outputs": [
        {
          "output_type": "stream",
          "text": [
            "->Train<- set Accuracy:  0.7976878612716763\n",
            "Test set Accuracy     :  0.7407407407407407\n",
            "Test set Jaccard      :  0.7083333333333334\n",
            "Test set F1           :  0.8292682926829269\n"
          ],
          "name": "stdout"
        }
      ]
    },
    {
      "cell_type": "code",
      "metadata": {
        "colab": {
          "base_uri": "https://localhost:8080/"
        },
        "id": "LBbtdPXHdyAF",
        "outputId": "947d8457-49e3-4740-99df-5a43329ab915"
      },
      "source": [
        "# estimation of predicted classes\n",
        "yhat = SVM_classifier_obj.predict(X_test)\n",
        "\n",
        "print(\"->Train<- set Accuracy: \", metrics.accuracy_score(y_train_num, SVM_classifier_obj.predict(X_train)))\n",
        "print(\"Test set Accuracy     : \", metrics.accuracy_score(y_test_num , yhat))\n",
        "print(\"Test set Jaccard      : \", metrics.jaccard_score(y_test_num , yhat))\n",
        "print(\"Test set F1           : \", metrics.f1_score(y_test_num , yhat))"
      ],
      "execution_count": 146,
      "outputs": [
        {
          "output_type": "stream",
          "text": [
            "->Train<- set Accuracy:  0.7514450867052023\n",
            "Test set Accuracy     :  0.7407407407407407\n",
            "Test set Jaccard      :  0.7407407407407407\n",
            "Test set F1           :  0.851063829787234\n"
          ],
          "name": "stdout"
        }
      ]
    },
    {
      "cell_type": "code",
      "metadata": {
        "colab": {
          "base_uri": "https://localhost:8080/"
        },
        "id": "A2kUQbFddyAG",
        "outputId": "1332ff1a-783e-443e-fc49-a98f4b4b9be8"
      },
      "source": [
        "# estimation of predicted classes\n",
        "yhat      = LR_obj.predict(X_test)\n",
        "yhat_prob = LR_obj.predict_proba(X_test)\n",
        "\n",
        "print(\"->Train<- set Accuracy: \", metrics.accuracy_score(y_train_num, LR_obj.predict(X_train)))\n",
        "print(\"Test set Accuracy     : \", metrics.accuracy_score(y_test_num , yhat))\n",
        "print(\"Test set Jaccard      : \", metrics.jaccard_score(y_test_num , yhat))\n",
        "print(\"Test set F1           : \", metrics.f1_score(y_test_num , yhat))\n",
        "print(\"Test log loss         : \", metrics.log_loss(y_test_num , yhat_prob))"
      ],
      "execution_count": 147,
      "outputs": [
        {
          "output_type": "stream",
          "text": [
            "->Train<- set Accuracy:  0.7543352601156069\n",
            "Test set Accuracy     :  0.7592592592592593\n",
            "Test set Jaccard      :  0.7547169811320755\n",
            "Test set F1           :  0.8602150537634409\n",
            "Test log loss         :  0.48189790404856275\n"
          ],
          "name": "stdout"
        }
      ]
    },
    {
      "cell_type": "markdown",
      "metadata": {
        "id": "GlIErbADdyAG"
      },
      "source": [
        "# Report\n",
        "You should be able to report the accuracy of the built model using different evaluation metrics:\n",
        "\n",
        "1.   Without SMOTE"
      ]
    },
    {
      "cell_type": "markdown",
      "metadata": {
        "id": "U54j2DvwdyAG"
      },
      "source": [
        "| Algorithm          | Jaccard | F1-score | LogLoss |\n",
        "|--------------------|---------|----------|---------|\n",
        "| KNN                | 0.77    | 0.87     | NA      |\n",
        "| Decision Tree      | 0.71    | 0.83     | NA      |\n",
        "| SVM                | 0.74    | 0.85     | NA      |\n",
        "| LogisticRegression | 0.75    | 0.86     | 0.48    |"
      ]
    },
    {
      "cell_type": "markdown",
      "metadata": {
        "id": "ngL_eWSDe0IS"
      },
      "source": [
        "2.   With SMOTE\n",
        "\n",
        "| Algorithm          | Jaccard | F1-score | LogLoss |\n",
        "|--------------------|---------|----------|---------|\n",
        "| KNN                | 0.64    | 0.78     | NA      |\n",
        "| Decision Tree      | 0.60    | 0.75    | NA      |\n",
        "| SVM                | 0.55    | 0.71     | NA      |\n",
        "| LogisticRegression | 0.48   | 0.65     | 0.73    |\n",
        "\n"
      ]
    },
    {
      "cell_type": "markdown",
      "metadata": {
        "button": false,
        "new_sheet": false,
        "run_control": {
          "read_only": false
        },
        "id": "nDa5kCvfdyAG"
      },
      "source": [
        "<h2>Want to learn more?</h2>\n",
        "\n",
        "IBM SPSS Modeler is a comprehensive analytics platform that has many machine learning algorithms. It has been designed to bring predictive intelligence to decisions made by individuals, by groups, by systems – by your enterprise as a whole. A free trial is available through this course, available here: <a href=\"http://cocl.us/ML0101EN-SPSSModeler\">SPSS Modeler</a>\n",
        "\n",
        "Also, you can use Watson Studio to run these notebooks faster with bigger datasets. Watson Studio is IBM's leading cloud solution for data scientists, built by data scientists. With Jupyter notebooks, RStudio, Apache Spark and popular libraries pre-packaged in the cloud, Watson Studio enables data scientists to collaborate on their projects without having to install anything. Join the fast-growing community of Watson Studio users today with a free account at <a href=\"https://cocl.us/ML0101EN_DSX\">Watson Studio</a>\n",
        "\n",
        "<h3>Thanks for completing this lesson!</h3>\n",
        "\n",
        "<h4>Author:  <a href=\"https://ca.linkedin.com/in/saeedaghabozorgi\">Saeed Aghabozorgi</a></h4>\n",
        "<p><a href=\"https://ca.linkedin.com/in/saeedaghabozorgi\">Saeed Aghabozorgi</a>, PhD is a Data Scientist in IBM with a track record of developing enterprise level applications that substantially increases clients’ ability to turn data into actionable knowledge. He is a researcher in data mining field and expert in developing advanced analytic methods like machine learning and statistical modelling on large datasets.</p>\n",
        "\n",
        "<hr>\n",
        "\n",
        "<p>Copyright &copy; 2018 <a href=\"https://cocl.us/DX0108EN_CC\">Cognitive Class</a>. This notebook and its source code are released under the terms of the <a href=\"https://bigdatauniversity.com/mit-license/\">MIT License</a>.</p>"
      ]
    }
  ]
}