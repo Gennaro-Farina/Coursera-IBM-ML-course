{
  "nbformat": 4,
  "nbformat_minor": 0,
  "metadata": {
    "kernelspec": {
      "display_name": "Python 3.7",
      "language": "python",
      "name": "python3"
    },
    "language_info": {
      "codemirror_mode": {
        "name": "ipython",
        "version": 3
      },
      "file_extension": ".py",
      "mimetype": "text/x-python",
      "name": "python",
      "nbconvert_exporter": "python",
      "pygments_lexer": "ipython3",
      "version": "3.7.10"
    },
    "colab": {
      "name": "Ml0101ENv3 - Coursera IBM ML Course.ipynb",
      "provenance": [],
      "include_colab_link": true
    }
  },
  "cells": [
    {
      "cell_type": "markdown",
      "metadata": {
        "id": "view-in-github",
        "colab_type": "text"
      },
      "source": [
        "<a href=\"https://colab.research.google.com/github/Gennaro-Farina/Coursera-IBM-ML-course/blob/master/Ml0101ENv3%20-%20Coursera%20IBM%20ML%20Course.ipynb\" target=\"_parent\"><img src=\"https://colab.research.google.com/assets/colab-badge.svg\" alt=\"Open In Colab\"/></a>"
      ]
    },
    {
      "cell_type": "markdown",
      "metadata": {
        "button": false,
        "new_sheet": false,
        "run_control": {
          "read_only": false
        },
        "id": "eCzMhkP1dx_N"
      },
      "source": [
        "<a href=\"https://www.bigdatauniversity.com\"><img src=\"https://ibm.box.com/shared/static/cw2c7r3o20w9zn8gkecaeyjhgw3xdgbj.png\" width=\"400\" align=\"center\"></a>\n",
        "\n",
        "<h1 align=\"center\"><font size=\"5\">Classification with Python</font></h1>"
      ]
    },
    {
      "cell_type": "markdown",
      "metadata": {
        "button": false,
        "new_sheet": false,
        "run_control": {
          "read_only": false
        },
        "id": "R4ZEl_Ykdx_a"
      },
      "source": [
        "In this notebook we try to practice all the classification algorithms that we learned in this course.\n",
        "\n",
        "We load a dataset using Pandas library, and apply the following algorithms, and find the best one for this specific dataset by accuracy evaluation methods.\n",
        "\n",
        "Lets first load required libraries:"
      ]
    },
    {
      "cell_type": "code",
      "metadata": {
        "button": false,
        "new_sheet": false,
        "run_control": {
          "read_only": false
        },
        "id": "92EbIBcYdx_c"
      },
      "source": [
        "import itertools\n",
        "import numpy as np\n",
        "import matplotlib.pyplot as plt\n",
        "from matplotlib.ticker import NullFormatter\n",
        "import pandas as pd\n",
        "import numpy as np\n",
        "import matplotlib.ticker as ticker\n",
        "from sklearn import preprocessing\n",
        "%matplotlib inline"
      ],
      "execution_count": 2,
      "outputs": []
    },
    {
      "cell_type": "markdown",
      "metadata": {
        "button": false,
        "new_sheet": false,
        "run_control": {
          "read_only": false
        },
        "id": "jX0K2vo4dx_e"
      },
      "source": [
        "### About dataset"
      ]
    },
    {
      "cell_type": "markdown",
      "metadata": {
        "button": false,
        "new_sheet": false,
        "run_control": {
          "read_only": false
        },
        "id": "y-CLZCUndx_f"
      },
      "source": [
        "This dataset is about past loans. The __Loan_train.csv__ data set includes details of 346 customers whose loan are already paid off or defaulted. It includes following fields:\n",
        "\n",
        "| Field          | Description                                                                           |\n",
        "|----------------|---------------------------------------------------------------------------------------|\n",
        "| Loan_status    | Whether a loan is paid off on in collection                                           |\n",
        "| Principal      | Basic principal loan amount at the                                                    |\n",
        "| Terms          | Origination terms which can be weekly (7 days), biweekly, and monthly payoff schedule |\n",
        "| Effective_date | When the loan got originated and took effects                                         |\n",
        "| Due_date       | Since it’s one-time payoff schedule, each loan has one single due date                |\n",
        "| Age            | Age of applicant                                                                      |\n",
        "| Education      | Education of applicant                                                                |\n",
        "| Gender         | The gender of applicant                                                               |"
      ]
    },
    {
      "cell_type": "markdown",
      "metadata": {
        "button": false,
        "new_sheet": false,
        "run_control": {
          "read_only": false
        },
        "id": "y95tfC1vdx_g"
      },
      "source": [
        "Lets download the dataset"
      ]
    },
    {
      "cell_type": "code",
      "metadata": {
        "button": false,
        "new_sheet": false,
        "run_control": {
          "read_only": false
        },
        "id": "USOtGg31dx_i",
        "outputId": "c85444c2-5489-49e5-8cf1-e2bfff8cd9c8",
        "colab": {
          "base_uri": "https://localhost:8080/"
        }
      },
      "source": [
        "!wget -O loan_train.csv https://s3-api.us-geo.objectstorage.softlayer.net/cf-courses-data/CognitiveClass/ML0101ENv3/labs/loan_train.csv"
      ],
      "execution_count": 3,
      "outputs": [
        {
          "output_type": "stream",
          "text": [
            "--2021-05-09 23:30:34--  https://s3-api.us-geo.objectstorage.softlayer.net/cf-courses-data/CognitiveClass/ML0101ENv3/labs/loan_train.csv\n",
            "Resolving s3-api.us-geo.objectstorage.softlayer.net (s3-api.us-geo.objectstorage.softlayer.net)... 67.228.254.196\n",
            "Connecting to s3-api.us-geo.objectstorage.softlayer.net (s3-api.us-geo.objectstorage.softlayer.net)|67.228.254.196|:443... connected.\n",
            "HTTP request sent, awaiting response... 200 OK\n",
            "Length: 23101 (23K) [text/csv]\n",
            "Saving to: ‘loan_train.csv’\n",
            "\n",
            "loan_train.csv      100%[===================>]  22.56K  --.-KB/s    in 0.02s   \n",
            "\n",
            "2021-05-09 23:30:34 (1.09 MB/s) - ‘loan_train.csv’ saved [23101/23101]\n",
            "\n"
          ],
          "name": "stdout"
        }
      ]
    },
    {
      "cell_type": "markdown",
      "metadata": {
        "button": false,
        "new_sheet": false,
        "run_control": {
          "read_only": false
        },
        "id": "ro38bjNtdx_k"
      },
      "source": [
        "### Load Data From CSV File  "
      ]
    },
    {
      "cell_type": "code",
      "metadata": {
        "button": false,
        "new_sheet": false,
        "run_control": {
          "read_only": false
        },
        "id": "qI5ywASHdx_l",
        "outputId": "4e65435a-723c-463a-aacb-4af5c3a5cb99",
        "colab": {
          "base_uri": "https://localhost:8080/",
          "height": 206
        }
      },
      "source": [
        "df = pd.read_csv('loan_train.csv')\n",
        "df.head()"
      ],
      "execution_count": 4,
      "outputs": [
        {
          "output_type": "execute_result",
          "data": {
            "text/html": [
              "<div>\n",
              "<style scoped>\n",
              "    .dataframe tbody tr th:only-of-type {\n",
              "        vertical-align: middle;\n",
              "    }\n",
              "\n",
              "    .dataframe tbody tr th {\n",
              "        vertical-align: top;\n",
              "    }\n",
              "\n",
              "    .dataframe thead th {\n",
              "        text-align: right;\n",
              "    }\n",
              "</style>\n",
              "<table border=\"1\" class=\"dataframe\">\n",
              "  <thead>\n",
              "    <tr style=\"text-align: right;\">\n",
              "      <th></th>\n",
              "      <th>Unnamed: 0</th>\n",
              "      <th>Unnamed: 0.1</th>\n",
              "      <th>loan_status</th>\n",
              "      <th>Principal</th>\n",
              "      <th>terms</th>\n",
              "      <th>effective_date</th>\n",
              "      <th>due_date</th>\n",
              "      <th>age</th>\n",
              "      <th>education</th>\n",
              "      <th>Gender</th>\n",
              "    </tr>\n",
              "  </thead>\n",
              "  <tbody>\n",
              "    <tr>\n",
              "      <th>0</th>\n",
              "      <td>0</td>\n",
              "      <td>0</td>\n",
              "      <td>PAIDOFF</td>\n",
              "      <td>1000</td>\n",
              "      <td>30</td>\n",
              "      <td>9/8/2016</td>\n",
              "      <td>10/7/2016</td>\n",
              "      <td>45</td>\n",
              "      <td>High School or Below</td>\n",
              "      <td>male</td>\n",
              "    </tr>\n",
              "    <tr>\n",
              "      <th>1</th>\n",
              "      <td>2</td>\n",
              "      <td>2</td>\n",
              "      <td>PAIDOFF</td>\n",
              "      <td>1000</td>\n",
              "      <td>30</td>\n",
              "      <td>9/8/2016</td>\n",
              "      <td>10/7/2016</td>\n",
              "      <td>33</td>\n",
              "      <td>Bechalor</td>\n",
              "      <td>female</td>\n",
              "    </tr>\n",
              "    <tr>\n",
              "      <th>2</th>\n",
              "      <td>3</td>\n",
              "      <td>3</td>\n",
              "      <td>PAIDOFF</td>\n",
              "      <td>1000</td>\n",
              "      <td>15</td>\n",
              "      <td>9/8/2016</td>\n",
              "      <td>9/22/2016</td>\n",
              "      <td>27</td>\n",
              "      <td>college</td>\n",
              "      <td>male</td>\n",
              "    </tr>\n",
              "    <tr>\n",
              "      <th>3</th>\n",
              "      <td>4</td>\n",
              "      <td>4</td>\n",
              "      <td>PAIDOFF</td>\n",
              "      <td>1000</td>\n",
              "      <td>30</td>\n",
              "      <td>9/9/2016</td>\n",
              "      <td>10/8/2016</td>\n",
              "      <td>28</td>\n",
              "      <td>college</td>\n",
              "      <td>female</td>\n",
              "    </tr>\n",
              "    <tr>\n",
              "      <th>4</th>\n",
              "      <td>6</td>\n",
              "      <td>6</td>\n",
              "      <td>PAIDOFF</td>\n",
              "      <td>1000</td>\n",
              "      <td>30</td>\n",
              "      <td>9/9/2016</td>\n",
              "      <td>10/8/2016</td>\n",
              "      <td>29</td>\n",
              "      <td>college</td>\n",
              "      <td>male</td>\n",
              "    </tr>\n",
              "  </tbody>\n",
              "</table>\n",
              "</div>"
            ],
            "text/plain": [
              "   Unnamed: 0  Unnamed: 0.1 loan_status  ...  age             education  Gender\n",
              "0           0             0     PAIDOFF  ...   45  High School or Below    male\n",
              "1           2             2     PAIDOFF  ...   33              Bechalor  female\n",
              "2           3             3     PAIDOFF  ...   27               college    male\n",
              "3           4             4     PAIDOFF  ...   28               college  female\n",
              "4           6             6     PAIDOFF  ...   29               college    male\n",
              "\n",
              "[5 rows x 10 columns]"
            ]
          },
          "metadata": {
            "tags": []
          },
          "execution_count": 4
        }
      ]
    },
    {
      "cell_type": "code",
      "metadata": {
        "id": "WXr8zLuzdx_n",
        "outputId": "1f20a39c-6760-429d-e988-e568458d1a9e",
        "colab": {
          "base_uri": "https://localhost:8080/"
        }
      },
      "source": [
        "df.shape"
      ],
      "execution_count": 5,
      "outputs": [
        {
          "output_type": "execute_result",
          "data": {
            "text/plain": [
              "(346, 10)"
            ]
          },
          "metadata": {
            "tags": []
          },
          "execution_count": 5
        }
      ]
    },
    {
      "cell_type": "code",
      "metadata": {
        "id": "kPEak92Bdx_o",
        "outputId": "ea200296-1275-4c65-c38c-5bde5ace20ad",
        "colab": {
          "base_uri": "https://localhost:8080/",
          "height": 1000
        }
      },
      "source": [
        "print(df.columns)\n",
        "for column in df[df.columns[2:]].columns:\n",
        "    plt.title('column: ' + column)\n",
        "    df[column].hist()\n",
        "    plt.show()"
      ],
      "execution_count": 6,
      "outputs": [
        {
          "output_type": "stream",
          "text": [
            "Index(['Unnamed: 0', 'Unnamed: 0.1', 'loan_status', 'Principal', 'terms',\n",
            "       'effective_date', 'due_date', 'age', 'education', 'Gender'],\n",
            "      dtype='object')\n"
          ],
          "name": "stdout"
        },
        {
          "output_type": "display_data",
          "data": {
            "image/png": "[encoded data removed]",
            "text/plain": [
              "<Figure size 432x288 with 1 Axes>"
            ]
          },
          "metadata": {
            "tags": [],
            "needs_background": "light"
          }
        },
        {
          "output_type": "display_data",
          "data": {
            "image/png": "[encoded data removed]",
            "text/plain": [
              "<Figure size 432x288 with 1 Axes>"
            ]
          },
          "metadata": {
            "tags": [],
            "needs_background": "light"
          }
        },
        {
          "output_type": "display_data",
          "data": {
            "image/png": "[encoded data removed]",
            "text/plain": [
              "<Figure size 432x288 with 1 Axes>"
            ]
          },
          "metadata": {
            "tags": [],
            "needs_background": "light"
          }
        },
        {
          "output_type": "display_data",
          "data": {
            "image/png": "[encoded data removed]",
            "text/plain": [
              "<Figure size 432x288 with 1 Axes>"
            ]
          },
          "metadata": {
            "tags": [],
            "needs_background": "light"
          }
        },
        {
          "output_type": "display_data",
          "data": {
            "image/png": "[encoded data removed]",
            "text/plain": [
              "<Figure size 432x288 with 1 Axes>"
            ]
          },
          "metadata": {
            "tags": [],
            "needs_background": "light"
          }
        },
        {
          "output_type": "display_data",
          "data": {
            "image/png": "[encoded data removed]",
            "text/plain": [
              "<Figure size 432x288 with 1 Axes>"
            ]
          },
          "metadata": {
            "tags": [],
            "needs_background": "light"
          }
        },
        {
          "output_type": "display_data",
          "data": {
            "image/png": "[encoded data removed]",
            "text/plain": [
              "<Figure size 432x288 with 1 Axes>"
            ]
          },
          "metadata": {
            "tags": [],
            "needs_background": "light"
          }
        },
        {
          "output_type": "display_data",
          "data": {
            "image/png": "[encoded data removed]",
            "text/plain": [
              "<Figure size 432x288 with 1 Axes>"
            ]
          },
          "metadata": {
            "tags": [],
            "needs_background": "light"
          }
        }
      ]
    },
    {
      "cell_type": "markdown",
      "metadata": {
        "button": false,
        "new_sheet": false,
        "run_control": {
          "read_only": false
        },
        "id": "MZYYgzABdx_r"
      },
      "source": [
        "### Convert to date time object "
      ]
    },
    {
      "cell_type": "code",
      "metadata": {
        "button": false,
        "new_sheet": false,
        "run_control": {
          "read_only": false
        },
        "id": "mTo80p8hdx_r",
        "outputId": "5c1a44e2-15b6-43ba-908a-7fe2b5ab0cbf",
        "colab": {
          "base_uri": "https://localhost:8080/",
          "height": 206
        }
      },
      "source": [
        "df['due_date']       = pd.to_datetime(df['due_date'])\n",
        "df['effective_date'] = pd.to_datetime(df['effective_date'])\n",
        "df.head()"
      ],
      "execution_count": 7,
      "outputs": [
        {
          "output_type": "execute_result",
          "data": {
            "text/html": [
              "<div>\n",
              "<style scoped>\n",
              "    .dataframe tbody tr th:only-of-type {\n",
              "        vertical-align: middle;\n",
              "    }\n",
              "\n",
              "    .dataframe tbody tr th {\n",
              "        vertical-align: top;\n",
              "    }\n",
              "\n",
              "    .dataframe thead th {\n",
              "        text-align: right;\n",
              "    }\n",
              "</style>\n",
              "<table border=\"1\" class=\"dataframe\">\n",
              "  <thead>\n",
              "    <tr style=\"text-align: right;\">\n",
              "      <th></th>\n",
              "      <th>Unnamed: 0</th>\n",
              "      <th>Unnamed: 0.1</th>\n",
              "      <th>loan_status</th>\n",
              "      <th>Principal</th>\n",
              "      <th>terms</th>\n",
              "      <th>effective_date</th>\n",
              "      <th>due_date</th>\n",
              "      <th>age</th>\n",
              "      <th>education</th>\n",
              "      <th>Gender</th>\n",
              "    </tr>\n",
              "  </thead>\n",
              "  <tbody>\n",
              "    <tr>\n",
              "      <th>0</th>\n",
              "      <td>0</td>\n",
              "      <td>0</td>\n",
              "      <td>PAIDOFF</td>\n",
              "      <td>1000</td>\n",
              "      <td>30</td>\n",
              "      <td>2016-09-08</td>\n",
              "      <td>2016-10-07</td>\n",
              "      <td>45</td>\n",
              "      <td>High School or Below</td>\n",
              "      <td>male</td>\n",
              "    </tr>\n",
              "    <tr>\n",
              "      <th>1</th>\n",
              "      <td>2</td>\n",
              "      <td>2</td>\n",
              "      <td>PAIDOFF</td>\n",
              "      <td>1000</td>\n",
              "      <td>30</td>\n",
              "      <td>2016-09-08</td>\n",
              "      <td>2016-10-07</td>\n",
              "      <td>33</td>\n",
              "      <td>Bechalor</td>\n",
              "      <td>female</td>\n",
              "    </tr>\n",
              "    <tr>\n",
              "      <th>2</th>\n",
              "      <td>3</td>\n",
              "      <td>3</td>\n",
              "      <td>PAIDOFF</td>\n",
              "      <td>1000</td>\n",
              "      <td>15</td>\n",
              "      <td>2016-09-08</td>\n",
              "      <td>2016-09-22</td>\n",
              "      <td>27</td>\n",
              "      <td>college</td>\n",
              "      <td>male</td>\n",
              "    </tr>\n",
              "    <tr>\n",
              "      <th>3</th>\n",
              "      <td>4</td>\n",
              "      <td>4</td>\n",
              "      <td>PAIDOFF</td>\n",
              "      <td>1000</td>\n",
              "      <td>30</td>\n",
              "      <td>2016-09-09</td>\n",
              "      <td>2016-10-08</td>\n",
              "      <td>28</td>\n",
              "      <td>college</td>\n",
              "      <td>female</td>\n",
              "    </tr>\n",
              "    <tr>\n",
              "      <th>4</th>\n",
              "      <td>6</td>\n",
              "      <td>6</td>\n",
              "      <td>PAIDOFF</td>\n",
              "      <td>1000</td>\n",
              "      <td>30</td>\n",
              "      <td>2016-09-09</td>\n",
              "      <td>2016-10-08</td>\n",
              "      <td>29</td>\n",
              "      <td>college</td>\n",
              "      <td>male</td>\n",
              "    </tr>\n",
              "  </tbody>\n",
              "</table>\n",
              "</div>"
            ],
            "text/plain": [
              "   Unnamed: 0  Unnamed: 0.1 loan_status  ...  age             education  Gender\n",
              "0           0             0     PAIDOFF  ...   45  High School or Below    male\n",
              "1           2             2     PAIDOFF  ...   33              Bechalor  female\n",
              "2           3             3     PAIDOFF  ...   27               college    male\n",
              "3           4             4     PAIDOFF  ...   28               college  female\n",
              "4           6             6     PAIDOFF  ...   29               college    male\n",
              "\n",
              "[5 rows x 10 columns]"
            ]
          },
          "metadata": {
            "tags": []
          },
          "execution_count": 7
        }
      ]
    },
    {
      "cell_type": "markdown",
      "metadata": {
        "button": false,
        "new_sheet": false,
        "run_control": {
          "read_only": false
        },
        "id": "vhBj6EQhdx_s"
      },
      "source": [
        "# Data visualization and pre-processing\n",
        "\n"
      ]
    },
    {
      "cell_type": "markdown",
      "metadata": {
        "button": false,
        "new_sheet": false,
        "run_control": {
          "read_only": false
        },
        "id": "_DW0uT-Idx_t"
      },
      "source": [
        "Let’s see how many of each class is in our data set "
      ]
    },
    {
      "cell_type": "code",
      "metadata": {
        "button": false,
        "new_sheet": false,
        "run_control": {
          "read_only": false
        },
        "id": "b6PqW2UTdx_t",
        "outputId": "6c2a3554-1557-4fa3-e56a-9c5f72b05219",
        "colab": {
          "base_uri": "https://localhost:8080/"
        }
      },
      "source": [
        "df['loan_status'].value_counts()"
      ],
      "execution_count": 8,
      "outputs": [
        {
          "output_type": "execute_result",
          "data": {
            "text/plain": [
              "PAIDOFF       260\n",
              "COLLECTION     86\n",
              "Name: loan_status, dtype: int64"
            ]
          },
          "metadata": {
            "tags": []
          },
          "execution_count": 8
        }
      ]
    },
    {
      "cell_type": "markdown",
      "metadata": {
        "button": false,
        "new_sheet": false,
        "run_control": {
          "read_only": false
        },
        "id": "dplQj-RJdx_u"
      },
      "source": [
        "260 people have paid off the loan on time while 86 have gone into collection \n"
      ]
    },
    {
      "cell_type": "markdown",
      "metadata": {
        "id": "HDOiyvgFdx_u"
      },
      "source": [
        "Lets plot some columns to underestand data better:"
      ]
    },
    {
      "cell_type": "code",
      "metadata": {
        "id": "QfOIuoNzdx_v",
        "outputId": "d806dba1-96b5-45ae-a158-45f04888b5a0",
        "colab": {
          "base_uri": "https://localhost:8080/"
        }
      },
      "source": [
        "# notice: installing seaborn might takes a few minutes\n",
        "! conda install -c anaconda seaborn -y\n",
        "! conda install scikit-learn imbalanced-learn -c conda-forge\n",
        "\n",
        "! pip install seaborn scikit-learn imbalanced-learn"
      ],
      "execution_count": 11,
      "outputs": [
        {
          "output_type": "stream",
          "text": [
            "/bin/bash: conda: command not found\n",
            "/bin/bash: conda: command not found\n",
            "Requirement already satisfied: seaborn in /usr/local/lib/python3.7/dist-packages (0.11.1)\n",
            "Requirement already satisfied: scikit-learn in /usr/local/lib/python3.7/dist-packages (0.22.2.post1)\n",
            "Requirement already satisfied: imbalanced-learn in /usr/local/lib/python3.7/dist-packages (0.4.3)\n",
            "Requirement already satisfied: pandas>=0.23 in /usr/local/lib/python3.7/dist-packages (from seaborn) (1.1.5)\n",
            "Requirement already satisfied: numpy>=1.15 in /usr/local/lib/python3.7/dist-packages (from seaborn) (1.19.5)\n",
            "Requirement already satisfied: matplotlib>=2.2 in /usr/local/lib/python3.7/dist-packages (from seaborn) (3.2.2)\n",
            "Requirement already satisfied: scipy>=1.0 in /usr/local/lib/python3.7/dist-packages (from seaborn) (1.4.1)\n",
            "Requirement already satisfied: joblib>=0.11 in /usr/local/lib/python3.7/dist-packages (from scikit-learn) (1.0.1)\n",
            "Requirement already satisfied: pytz>=2017.2 in /usr/local/lib/python3.7/dist-packages (from pandas>=0.23->seaborn) (2018.9)\n",
            "Requirement already satisfied: python-dateutil>=2.7.3 in /usr/local/lib/python3.7/dist-packages (from pandas>=0.23->seaborn) (2.8.1)\n",
            "Requirement already satisfied: pyparsing!=2.0.4,!=2.1.2,!=2.1.6,>=2.0.1 in /usr/local/lib/python3.7/dist-packages (from matplotlib>=2.2->seaborn) (2.4.7)\n",
            "Requirement already satisfied: cycler>=0.10 in /usr/local/lib/python3.7/dist-packages (from matplotlib>=2.2->seaborn) (0.10.0)\n",
            "Requirement already satisfied: kiwisolver>=1.0.1 in /usr/local/lib/python3.7/dist-packages (from matplotlib>=2.2->seaborn) (1.3.1)\n",
            "Requirement already satisfied: six>=1.5 in /usr/local/lib/python3.7/dist-packages (from python-dateutil>=2.7.3->pandas>=0.23->seaborn) (1.15.0)\n"
          ],
          "name": "stdout"
        }
      ]
    },
    {
      "cell_type": "code",
      "metadata": {
        "id": "b8DWVehBdx_v"
      },
      "source": [
        "#! conda install nb_conda # to grant to select conda environments as core of jupyter notebook"
      ],
      "execution_count": 10,
      "outputs": []
    },
    {
      "cell_type": "code",
      "metadata": {
        "id": "aiOJePjAdx_w",
        "outputId": "d94f7e66-3cf3-40c1-9275-464cd17246e2",
        "colab": {
          "base_uri": "https://localhost:8080/",
          "height": 225
        }
      },
      "source": [
        "import seaborn as sns\n",
        "\n",
        "bins = np.linspace(df.Principal.min(), df.Principal.max(), 10)\n",
        "g = sns.FacetGrid(df, col=\"Gender\", hue=\"loan_status\", palette=\"Set1\", col_wrap=2)\n",
        "g.map(plt.hist, 'Principal', bins=bins, ec=\"k\")\n",
        "\n",
        "g.axes[-1].legend()\n",
        "plt.show()"
      ],
      "execution_count": 12,
      "outputs": [
        {
          "output_type": "display_data",
          "data": {
            "image/png": "[encoded data removed]",
            "text/plain": [
              "<Figure size 432x216 with 2 Axes>"
            ]
          },
          "metadata": {
            "tags": [],
            "needs_background": "light"
          }
        }
      ]
    },
    {
      "cell_type": "code",
      "metadata": {
        "button": false,
        "new_sheet": false,
        "run_control": {
          "read_only": false
        },
        "id": "xad0i_nqdx_w",
        "outputId": "2b3c456e-554c-4ac1-9d49-f30a910e6077",
        "colab": {
          "base_uri": "https://localhost:8080/",
          "height": 225
        }
      },
      "source": [
        "bins = np.linspace(df.age.min(), df.age.max(), 10)\n",
        "g = sns.FacetGrid(df, col=\"Gender\", hue=\"loan_status\", palette=\"Set1\", col_wrap=2)\n",
        "g.map(plt.hist, 'age', bins=bins, ec=\"k\")\n",
        "\n",
        "g.axes[-1].legend()\n",
        "plt.show()"
      ],
      "execution_count": 13,
      "outputs": [
        {
          "output_type": "display_data",
          "data": {
            "image/png": "[encoded data removed]",
            "text/plain": [
              "<Figure size 432x216 with 2 Axes>"
            ]
          },
          "metadata": {
            "tags": [],
            "needs_background": "light"
          }
        }
      ]
    },
    {
      "cell_type": "markdown",
      "metadata": {
        "button": false,
        "new_sheet": false,
        "run_control": {
          "read_only": false
        },
        "id": "iPJvZDgWdx_x"
      },
      "source": [
        "# Pre-processing:  Feature selection/extraction"
      ]
    },
    {
      "cell_type": "markdown",
      "metadata": {
        "button": false,
        "new_sheet": false,
        "run_control": {
          "read_only": false
        },
        "id": "TohgXJJhdx_x"
      },
      "source": [
        "### Lets look at the day of the week people get the loan "
      ]
    },
    {
      "cell_type": "code",
      "metadata": {
        "button": false,
        "new_sheet": false,
        "run_control": {
          "read_only": false
        },
        "id": "auY43aFsdx_x",
        "outputId": "1eb07bb8-d994-47b6-d92b-6deadf7d17a5",
        "colab": {
          "base_uri": "https://localhost:8080/",
          "height": 225
        }
      },
      "source": [
        "df['dayofweek'] = df['effective_date'].dt.dayofweek\n",
        "bins = np.linspace(df.dayofweek.min(), df.dayofweek.max(), 10)\n",
        "g = sns.FacetGrid(df, col=\"Gender\", hue=\"loan_status\", palette=\"Set1\", col_wrap=2)\n",
        "g.map(plt.hist, 'dayofweek', bins=bins, ec=\"k\")\n",
        "g.axes[-1].legend()\n",
        "plt.show()\n"
      ],
      "execution_count": 14,
      "outputs": [
        {
          "output_type": "display_data",
          "data": {
            "image/png": "[encoded data removed]",
            "text/plain": [
              "<Figure size 432x216 with 2 Axes>"
            ]
          },
          "metadata": {
            "tags": [],
            "needs_background": "light"
          }
        }
      ]
    },
    {
      "cell_type": "markdown",
      "metadata": {
        "button": false,
        "new_sheet": false,
        "run_control": {
          "read_only": false
        },
        "id": "dHJBQFacdx_y"
      },
      "source": [
        "We see that people who get the loan at the end of the week dont pay it off, so lets use Feature binarization to set a threshold values less then day 4 "
      ]
    },
    {
      "cell_type": "code",
      "metadata": {
        "button": false,
        "new_sheet": false,
        "run_control": {
          "read_only": false
        },
        "id": "U5CUVBuEdx_z",
        "outputId": "b48ede30-afc1-4b58-886f-c3881e0dbc52",
        "colab": {
          "base_uri": "https://localhost:8080/",
          "height": 206
        }
      },
      "source": [
        "df['weekend'] = df['dayofweek'].apply(lambda x: 1 if (x>3)  else 0)\n",
        "df.head()"
      ],
      "execution_count": 15,
      "outputs": [
        {
          "output_type": "execute_result",
          "data": {
            "text/html": [
              "<div>\n",
              "<style scoped>\n",
              "    .dataframe tbody tr th:only-of-type {\n",
              "        vertical-align: middle;\n",
              "    }\n",
              "\n",
              "    .dataframe tbody tr th {\n",
              "        vertical-align: top;\n",
              "    }\n",
              "\n",
              "    .dataframe thead th {\n",
              "        text-align: right;\n",
              "    }\n",
              "</style>\n",
              "<table border=\"1\" class=\"dataframe\">\n",
              "  <thead>\n",
              "    <tr style=\"text-align: right;\">\n",
              "      <th></th>\n",
              "      <th>Unnamed: 0</th>\n",
              "      <th>Unnamed: 0.1</th>\n",
              "      <th>loan_status</th>\n",
              "      <th>Principal</th>\n",
              "      <th>terms</th>\n",
              "      <th>effective_date</th>\n",
              "      <th>due_date</th>\n",
              "      <th>age</th>\n",
              "      <th>education</th>\n",
              "      <th>Gender</th>\n",
              "      <th>dayofweek</th>\n",
              "      <th>weekend</th>\n",
              "    </tr>\n",
              "  </thead>\n",
              "  <tbody>\n",
              "    <tr>\n",
              "      <th>0</th>\n",
              "      <td>0</td>\n",
              "      <td>0</td>\n",
              "      <td>PAIDOFF</td>\n",
              "      <td>1000</td>\n",
              "      <td>30</td>\n",
              "      <td>2016-09-08</td>\n",
              "      <td>2016-10-07</td>\n",
              "      <td>45</td>\n",
              "      <td>High School or Below</td>\n",
              "      <td>male</td>\n",
              "      <td>3</td>\n",
              "      <td>0</td>\n",
              "    </tr>\n",
              "    <tr>\n",
              "      <th>1</th>\n",
              "      <td>2</td>\n",
              "      <td>2</td>\n",
              "      <td>PAIDOFF</td>\n",
              "      <td>1000</td>\n",
              "      <td>30</td>\n",
              "      <td>2016-09-08</td>\n",
              "      <td>2016-10-07</td>\n",
              "      <td>33</td>\n",
              "      <td>Bechalor</td>\n",
              "      <td>female</td>\n",
              "      <td>3</td>\n",
              "      <td>0</td>\n",
              "    </tr>\n",
              "    <tr>\n",
              "      <th>2</th>\n",
              "      <td>3</td>\n",
              "      <td>3</td>\n",
              "      <td>PAIDOFF</td>\n",
              "      <td>1000</td>\n",
              "      <td>15</td>\n",
              "      <td>2016-09-08</td>\n",
              "      <td>2016-09-22</td>\n",
              "      <td>27</td>\n",
              "      <td>college</td>\n",
              "      <td>male</td>\n",
              "      <td>3</td>\n",
              "      <td>0</td>\n",
              "    </tr>\n",
              "    <tr>\n",
              "      <th>3</th>\n",
              "      <td>4</td>\n",
              "      <td>4</td>\n",
              "      <td>PAIDOFF</td>\n",
              "      <td>1000</td>\n",
              "      <td>30</td>\n",
              "      <td>2016-09-09</td>\n",
              "      <td>2016-10-08</td>\n",
              "      <td>28</td>\n",
              "      <td>college</td>\n",
              "      <td>female</td>\n",
              "      <td>4</td>\n",
              "      <td>1</td>\n",
              "    </tr>\n",
              "    <tr>\n",
              "      <th>4</th>\n",
              "      <td>6</td>\n",
              "      <td>6</td>\n",
              "      <td>PAIDOFF</td>\n",
              "      <td>1000</td>\n",
              "      <td>30</td>\n",
              "      <td>2016-09-09</td>\n",
              "      <td>2016-10-08</td>\n",
              "      <td>29</td>\n",
              "      <td>college</td>\n",
              "      <td>male</td>\n",
              "      <td>4</td>\n",
              "      <td>1</td>\n",
              "    </tr>\n",
              "  </tbody>\n",
              "</table>\n",
              "</div>"
            ],
            "text/plain": [
              "   Unnamed: 0  Unnamed: 0.1 loan_status  ...  Gender  dayofweek weekend\n",
              "0           0             0     PAIDOFF  ...    male          3       0\n",
              "1           2             2     PAIDOFF  ...  female          3       0\n",
              "2           3             3     PAIDOFF  ...    male          3       0\n",
              "3           4             4     PAIDOFF  ...  female          4       1\n",
              "4           6             6     PAIDOFF  ...    male          4       1\n",
              "\n",
              "[5 rows x 12 columns]"
            ]
          },
          "metadata": {
            "tags": []
          },
          "execution_count": 15
        }
      ]
    },
    {
      "cell_type": "markdown",
      "metadata": {
        "button": false,
        "new_sheet": false,
        "run_control": {
          "read_only": false
        },
        "id": "fZ2yBcmwdx_z"
      },
      "source": [
        "## Convert Categorical features to numerical values"
      ]
    },
    {
      "cell_type": "markdown",
      "metadata": {
        "button": false,
        "new_sheet": false,
        "run_control": {
          "read_only": false
        },
        "id": "C9hO3JrJdx_0"
      },
      "source": [
        "Lets look at gender:"
      ]
    },
    {
      "cell_type": "code",
      "metadata": {
        "button": false,
        "new_sheet": false,
        "run_control": {
          "read_only": false
        },
        "id": "3jL5sGM3dx_0",
        "outputId": "3d002081-6dc8-4b74-da67-94b38392e3cd",
        "colab": {
          "base_uri": "https://localhost:8080/"
        }
      },
      "source": [
        "df.groupby(['Gender'])['loan_status'].value_counts(normalize=True)"
      ],
      "execution_count": 16,
      "outputs": [
        {
          "output_type": "execute_result",
          "data": {
            "text/plain": [
              "Gender  loan_status\n",
              "female  PAIDOFF        0.865385\n",
              "        COLLECTION     0.134615\n",
              "male    PAIDOFF        0.731293\n",
              "        COLLECTION     0.268707\n",
              "Name: loan_status, dtype: float64"
            ]
          },
          "metadata": {
            "tags": []
          },
          "execution_count": 16
        }
      ]
    },
    {
      "cell_type": "markdown",
      "metadata": {
        "button": false,
        "new_sheet": false,
        "run_control": {
          "read_only": false
        },
        "id": "fUGpoE4Ndx_0"
      },
      "source": [
        "86 % of female pay there loans while only 73 % of males pay there loan\n"
      ]
    },
    {
      "cell_type": "markdown",
      "metadata": {
        "button": false,
        "new_sheet": false,
        "run_control": {
          "read_only": false
        },
        "id": "MR0gq1pYdx_1"
      },
      "source": [
        "Lets convert male to 0 and female to 1:\n"
      ]
    },
    {
      "cell_type": "code",
      "metadata": {
        "button": false,
        "new_sheet": false,
        "run_control": {
          "read_only": false
        },
        "id": "SStFgxhZdx_1",
        "outputId": "d6d8d393-0e70-4898-8c57-2445c781e56b",
        "colab": {
          "base_uri": "https://localhost:8080/",
          "height": 206
        }
      },
      "source": [
        "df['Gender'].replace(to_replace=['male','female'], value=[0,1],inplace=True)\n",
        "df.head()"
      ],
      "execution_count": 17,
      "outputs": [
        {
          "output_type": "execute_result",
          "data": {
            "text/html": [
              "<div>\n",
              "<style scoped>\n",
              "    .dataframe tbody tr th:only-of-type {\n",
              "        vertical-align: middle;\n",
              "    }\n",
              "\n",
              "    .dataframe tbody tr th {\n",
              "        vertical-align: top;\n",
              "    }\n",
              "\n",
              "    .dataframe thead th {\n",
              "        text-align: right;\n",
              "    }\n",
              "</style>\n",
              "<table border=\"1\" class=\"dataframe\">\n",
              "  <thead>\n",
              "    <tr style=\"text-align: right;\">\n",
              "      <th></th>\n",
              "      <th>Unnamed: 0</th>\n",
              "      <th>Unnamed: 0.1</th>\n",
              "      <th>loan_status</th>\n",
              "      <th>Principal</th>\n",
              "      <th>terms</th>\n",
              "      <th>effective_date</th>\n",
              "      <th>due_date</th>\n",
              "      <th>age</th>\n",
              "      <th>education</th>\n",
              "      <th>Gender</th>\n",
              "      <th>dayofweek</th>\n",
              "      <th>weekend</th>\n",
              "    </tr>\n",
              "  </thead>\n",
              "  <tbody>\n",
              "    <tr>\n",
              "      <th>0</th>\n",
              "      <td>0</td>\n",
              "      <td>0</td>\n",
              "      <td>PAIDOFF</td>\n",
              "      <td>1000</td>\n",
              "      <td>30</td>\n",
              "      <td>2016-09-08</td>\n",
              "      <td>2016-10-07</td>\n",
              "      <td>45</td>\n",
              "      <td>High School or Below</td>\n",
              "      <td>0</td>\n",
              "      <td>3</td>\n",
              "      <td>0</td>\n",
              "    </tr>\n",
              "    <tr>\n",
              "      <th>1</th>\n",
              "      <td>2</td>\n",
              "      <td>2</td>\n",
              "      <td>PAIDOFF</td>\n",
              "      <td>1000</td>\n",
              "      <td>30</td>\n",
              "      <td>2016-09-08</td>\n",
              "      <td>2016-10-07</td>\n",
              "      <td>33</td>\n",
              "      <td>Bechalor</td>\n",
              "      <td>1</td>\n",
              "      <td>3</td>\n",
              "      <td>0</td>\n",
              "    </tr>\n",
              "    <tr>\n",
              "      <th>2</th>\n",
              "      <td>3</td>\n",
              "      <td>3</td>\n",
              "      <td>PAIDOFF</td>\n",
              "      <td>1000</td>\n",
              "      <td>15</td>\n",
              "      <td>2016-09-08</td>\n",
              "      <td>2016-09-22</td>\n",
              "      <td>27</td>\n",
              "      <td>college</td>\n",
              "      <td>0</td>\n",
              "      <td>3</td>\n",
              "      <td>0</td>\n",
              "    </tr>\n",
              "    <tr>\n",
              "      <th>3</th>\n",
              "      <td>4</td>\n",
              "      <td>4</td>\n",
              "      <td>PAIDOFF</td>\n",
              "      <td>1000</td>\n",
              "      <td>30</td>\n",
              "      <td>2016-09-09</td>\n",
              "      <td>2016-10-08</td>\n",
              "      <td>28</td>\n",
              "      <td>college</td>\n",
              "      <td>1</td>\n",
              "      <td>4</td>\n",
              "      <td>1</td>\n",
              "    </tr>\n",
              "    <tr>\n",
              "      <th>4</th>\n",
              "      <td>6</td>\n",
              "      <td>6</td>\n",
              "      <td>PAIDOFF</td>\n",
              "      <td>1000</td>\n",
              "      <td>30</td>\n",
              "      <td>2016-09-09</td>\n",
              "      <td>2016-10-08</td>\n",
              "      <td>29</td>\n",
              "      <td>college</td>\n",
              "      <td>0</td>\n",
              "      <td>4</td>\n",
              "      <td>1</td>\n",
              "    </tr>\n",
              "  </tbody>\n",
              "</table>\n",
              "</div>"
            ],
            "text/plain": [
              "   Unnamed: 0  Unnamed: 0.1 loan_status  ...  Gender  dayofweek weekend\n",
              "0           0             0     PAIDOFF  ...       0          3       0\n",
              "1           2             2     PAIDOFF  ...       1          3       0\n",
              "2           3             3     PAIDOFF  ...       0          3       0\n",
              "3           4             4     PAIDOFF  ...       1          4       1\n",
              "4           6             6     PAIDOFF  ...       0          4       1\n",
              "\n",
              "[5 rows x 12 columns]"
            ]
          },
          "metadata": {
            "tags": []
          },
          "execution_count": 17
        }
      ]
    },
    {
      "cell_type": "markdown",
      "metadata": {
        "button": false,
        "new_sheet": false,
        "run_control": {
          "read_only": false
        },
        "id": "c9DrKtLddx_1"
      },
      "source": [
        "## One Hot Encoding  \n",
        "#### How about education?"
      ]
    },
    {
      "cell_type": "code",
      "metadata": {
        "button": false,
        "new_sheet": false,
        "run_control": {
          "read_only": false
        },
        "id": "S6auww6vdx_2",
        "outputId": "763bedb8-9e63-4cda-a782-e7a3cd0306ec",
        "colab": {
          "base_uri": "https://localhost:8080/"
        }
      },
      "source": [
        "df.groupby(['education'])['loan_status'].value_counts(normalize=True)"
      ],
      "execution_count": 18,
      "outputs": [
        {
          "output_type": "execute_result",
          "data": {
            "text/plain": [
              "education             loan_status\n",
              "Bechalor              PAIDOFF        0.750000\n",
              "                      COLLECTION     0.250000\n",
              "High School or Below  PAIDOFF        0.741722\n",
              "                      COLLECTION     0.258278\n",
              "Master or Above       COLLECTION     0.500000\n",
              "                      PAIDOFF        0.500000\n",
              "college               PAIDOFF        0.765101\n",
              "                      COLLECTION     0.234899\n",
              "Name: loan_status, dtype: float64"
            ]
          },
          "metadata": {
            "tags": []
          },
          "execution_count": 18
        }
      ]
    },
    {
      "cell_type": "raw",
      "metadata": {
        "button": false,
        "new_sheet": false,
        "run_control": {
          "read_only": false
        },
        "id": "Qy3xjIxldx_2"
      },
      "source": [
        "#### Feature before One Hot Encoding"
      ]
    },
    {
      "cell_type": "code",
      "metadata": {
        "button": false,
        "new_sheet": false,
        "run_control": {
          "read_only": false
        },
        "id": "k4e0Pht-dx_2",
        "outputId": "64739760-0f9e-44b3-954d-0be3d0d25718",
        "colab": {
          "base_uri": "https://localhost:8080/",
          "height": 0
        }
      },
      "source": [
        "df[['Principal','terms','age','Gender','education']].head()"
      ],
      "execution_count": 19,
      "outputs": [
        {
          "output_type": "execute_result",
          "data": {
            "text/html": [
              "<div>\n",
              "<style scoped>\n",
              "    .dataframe tbody tr th:only-of-type {\n",
              "        vertical-align: middle;\n",
              "    }\n",
              "\n",
              "    .dataframe tbody tr th {\n",
              "        vertical-align: top;\n",
              "    }\n",
              "\n",
              "    .dataframe thead th {\n",
              "        text-align: right;\n",
              "    }\n",
              "</style>\n",
              "<table border=\"1\" class=\"dataframe\">\n",
              "  <thead>\n",
              "    <tr style=\"text-align: right;\">\n",
              "      <th></th>\n",
              "      <th>Principal</th>\n",
              "      <th>terms</th>\n",
              "      <th>age</th>\n",
              "      <th>Gender</th>\n",
              "      <th>education</th>\n",
              "    </tr>\n",
              "  </thead>\n",
              "  <tbody>\n",
              "    <tr>\n",
              "      <th>0</th>\n",
              "      <td>1000</td>\n",
              "      <td>30</td>\n",
              "      <td>45</td>\n",
              "      <td>0</td>\n",
              "      <td>High School or Below</td>\n",
              "    </tr>\n",
              "    <tr>\n",
              "      <th>1</th>\n",
              "      <td>1000</td>\n",
              "      <td>30</td>\n",
              "      <td>33</td>\n",
              "      <td>1</td>\n",
              "      <td>Bechalor</td>\n",
              "    </tr>\n",
              "    <tr>\n",
              "      <th>2</th>\n",
              "      <td>1000</td>\n",
              "      <td>15</td>\n",
              "      <td>27</td>\n",
              "      <td>0</td>\n",
              "      <td>college</td>\n",
              "    </tr>\n",
              "    <tr>\n",
              "      <th>3</th>\n",
              "      <td>1000</td>\n",
              "      <td>30</td>\n",
              "      <td>28</td>\n",
              "      <td>1</td>\n",
              "      <td>college</td>\n",
              "    </tr>\n",
              "    <tr>\n",
              "      <th>4</th>\n",
              "      <td>1000</td>\n",
              "      <td>30</td>\n",
              "      <td>29</td>\n",
              "      <td>0</td>\n",
              "      <td>college</td>\n",
              "    </tr>\n",
              "  </tbody>\n",
              "</table>\n",
              "</div>"
            ],
            "text/plain": [
              "   Principal  terms  age  Gender             education\n",
              "0       1000     30   45       0  High School or Below\n",
              "1       1000     30   33       1              Bechalor\n",
              "2       1000     15   27       0               college\n",
              "3       1000     30   28       1               college\n",
              "4       1000     30   29       0               college"
            ]
          },
          "metadata": {
            "tags": []
          },
          "execution_count": 19
        }
      ]
    },
    {
      "cell_type": "markdown",
      "metadata": {
        "button": false,
        "new_sheet": false,
        "run_control": {
          "read_only": false
        },
        "id": "xT-_0G9ddx_3"
      },
      "source": [
        "#### Use one hot encoding technique to conver categorical varables to binary variables and append them to the feature Data Frame "
      ]
    },
    {
      "cell_type": "code",
      "metadata": {
        "button": false,
        "new_sheet": false,
        "run_control": {
          "read_only": false
        },
        "id": "9FCHTjlHdx_3",
        "outputId": "32b32f92-ff65-41c5-aaac-dd89d6b4a315",
        "colab": {
          "base_uri": "https://localhost:8080/",
          "height": 206
        }
      },
      "source": [
        "Feature = df[['Principal','terms','age','Gender','weekend']]\n",
        "Feature = pd.concat([Feature,pd.get_dummies(df['education'])], axis=1)\n",
        "Feature.drop(['Master or Above'], axis = 1,inplace=True)\n",
        "Feature.head()\n"
      ],
      "execution_count": 20,
      "outputs": [
        {
          "output_type": "execute_result",
          "data": {
            "text/html": [
              "<div>\n",
              "<style scoped>\n",
              "    .dataframe tbody tr th:only-of-type {\n",
              "        vertical-align: middle;\n",
              "    }\n",
              "\n",
              "    .dataframe tbody tr th {\n",
              "        vertical-align: top;\n",
              "    }\n",
              "\n",
              "    .dataframe thead th {\n",
              "        text-align: right;\n",
              "    }\n",
              "</style>\n",
              "<table border=\"1\" class=\"dataframe\">\n",
              "  <thead>\n",
              "    <tr style=\"text-align: right;\">\n",
              "      <th></th>\n",
              "      <th>Principal</th>\n",
              "      <th>terms</th>\n",
              "      <th>age</th>\n",
              "      <th>Gender</th>\n",
              "      <th>weekend</th>\n",
              "      <th>Bechalor</th>\n",
              "      <th>High School or Below</th>\n",
              "      <th>college</th>\n",
              "    </tr>\n",
              "  </thead>\n",
              "  <tbody>\n",
              "    <tr>\n",
              "      <th>0</th>\n",
              "      <td>1000</td>\n",
              "      <td>30</td>\n",
              "      <td>45</td>\n",
              "      <td>0</td>\n",
              "      <td>0</td>\n",
              "      <td>0</td>\n",
              "      <td>1</td>\n",
              "      <td>0</td>\n",
              "    </tr>\n",
              "    <tr>\n",
              "      <th>1</th>\n",
              "      <td>1000</td>\n",
              "      <td>30</td>\n",
              "      <td>33</td>\n",
              "      <td>1</td>\n",
              "      <td>0</td>\n",
              "      <td>1</td>\n",
              "      <td>0</td>\n",
              "      <td>0</td>\n",
              "    </tr>\n",
              "    <tr>\n",
              "      <th>2</th>\n",
              "      <td>1000</td>\n",
              "      <td>15</td>\n",
              "      <td>27</td>\n",
              "      <td>0</td>\n",
              "      <td>0</td>\n",
              "      <td>0</td>\n",
              "      <td>0</td>\n",
              "      <td>1</td>\n",
              "    </tr>\n",
              "    <tr>\n",
              "      <th>3</th>\n",
              "      <td>1000</td>\n",
              "      <td>30</td>\n",
              "      <td>28</td>\n",
              "      <td>1</td>\n",
              "      <td>1</td>\n",
              "      <td>0</td>\n",
              "      <td>0</td>\n",
              "      <td>1</td>\n",
              "    </tr>\n",
              "    <tr>\n",
              "      <th>4</th>\n",
              "      <td>1000</td>\n",
              "      <td>30</td>\n",
              "      <td>29</td>\n",
              "      <td>0</td>\n",
              "      <td>1</td>\n",
              "      <td>0</td>\n",
              "      <td>0</td>\n",
              "      <td>1</td>\n",
              "    </tr>\n",
              "  </tbody>\n",
              "</table>\n",
              "</div>"
            ],
            "text/plain": [
              "   Principal  terms  age  ...  Bechalor  High School or Below  college\n",
              "0       1000     30   45  ...         0                     1        0\n",
              "1       1000     30   33  ...         1                     0        0\n",
              "2       1000     15   27  ...         0                     0        1\n",
              "3       1000     30   28  ...         0                     0        1\n",
              "4       1000     30   29  ...         0                     0        1\n",
              "\n",
              "[5 rows x 8 columns]"
            ]
          },
          "metadata": {
            "tags": []
          },
          "execution_count": 20
        }
      ]
    },
    {
      "cell_type": "markdown",
      "metadata": {
        "button": false,
        "new_sheet": false,
        "run_control": {
          "read_only": false
        },
        "id": "PVwdInMvdx_4"
      },
      "source": [
        "### Feature selection"
      ]
    },
    {
      "cell_type": "markdown",
      "metadata": {
        "button": false,
        "new_sheet": false,
        "run_control": {
          "read_only": false
        },
        "id": "2k0yW2pJdx_5"
      },
      "source": [
        "Lets define feature sets, X:"
      ]
    },
    {
      "cell_type": "code",
      "metadata": {
        "button": false,
        "new_sheet": false,
        "run_control": {
          "read_only": false
        },
        "id": "ee1CXw2sdx_5",
        "outputId": "32eb1301-065a-4fda-a36b-145939694dd5",
        "colab": {
          "base_uri": "https://localhost:8080/",
          "height": 206
        }
      },
      "source": [
        "X = Feature\n",
        "X[0:5]"
      ],
      "execution_count": 21,
      "outputs": [
        {
          "output_type": "execute_result",
          "data": {
            "text/html": [
              "<div>\n",
              "<style scoped>\n",
              "    .dataframe tbody tr th:only-of-type {\n",
              "        vertical-align: middle;\n",
              "    }\n",
              "\n",
              "    .dataframe tbody tr th {\n",
              "        vertical-align: top;\n",
              "    }\n",
              "\n",
              "    .dataframe thead th {\n",
              "        text-align: right;\n",
              "    }\n",
              "</style>\n",
              "<table border=\"1\" class=\"dataframe\">\n",
              "  <thead>\n",
              "    <tr style=\"text-align: right;\">\n",
              "      <th></th>\n",
              "      <th>Principal</th>\n",
              "      <th>terms</th>\n",
              "      <th>age</th>\n",
              "      <th>Gender</th>\n",
              "      <th>weekend</th>\n",
              "      <th>Bechalor</th>\n",
              "      <th>High School or Below</th>\n",
              "      <th>college</th>\n",
              "    </tr>\n",
              "  </thead>\n",
              "  <tbody>\n",
              "    <tr>\n",
              "      <th>0</th>\n",
              "      <td>1000</td>\n",
              "      <td>30</td>\n",
              "      <td>45</td>\n",
              "      <td>0</td>\n",
              "      <td>0</td>\n",
              "      <td>0</td>\n",
              "      <td>1</td>\n",
              "      <td>0</td>\n",
              "    </tr>\n",
              "    <tr>\n",
              "      <th>1</th>\n",
              "      <td>1000</td>\n",
              "      <td>30</td>\n",
              "      <td>33</td>\n",
              "      <td>1</td>\n",
              "      <td>0</td>\n",
              "      <td>1</td>\n",
              "      <td>0</td>\n",
              "      <td>0</td>\n",
              "    </tr>\n",
              "    <tr>\n",
              "      <th>2</th>\n",
              "      <td>1000</td>\n",
              "      <td>15</td>\n",
              "      <td>27</td>\n",
              "      <td>0</td>\n",
              "      <td>0</td>\n",
              "      <td>0</td>\n",
              "      <td>0</td>\n",
              "      <td>1</td>\n",
              "    </tr>\n",
              "    <tr>\n",
              "      <th>3</th>\n",
              "      <td>1000</td>\n",
              "      <td>30</td>\n",
              "      <td>28</td>\n",
              "      <td>1</td>\n",
              "      <td>1</td>\n",
              "      <td>0</td>\n",
              "      <td>0</td>\n",
              "      <td>1</td>\n",
              "    </tr>\n",
              "    <tr>\n",
              "      <th>4</th>\n",
              "      <td>1000</td>\n",
              "      <td>30</td>\n",
              "      <td>29</td>\n",
              "      <td>0</td>\n",
              "      <td>1</td>\n",
              "      <td>0</td>\n",
              "      <td>0</td>\n",
              "      <td>1</td>\n",
              "    </tr>\n",
              "  </tbody>\n",
              "</table>\n",
              "</div>"
            ],
            "text/plain": [
              "   Principal  terms  age  ...  Bechalor  High School or Below  college\n",
              "0       1000     30   45  ...         0                     1        0\n",
              "1       1000     30   33  ...         1                     0        0\n",
              "2       1000     15   27  ...         0                     0        1\n",
              "3       1000     30   28  ...         0                     0        1\n",
              "4       1000     30   29  ...         0                     0        1\n",
              "\n",
              "[5 rows x 8 columns]"
            ]
          },
          "metadata": {
            "tags": []
          },
          "execution_count": 21
        }
      ]
    },
    {
      "cell_type": "markdown",
      "metadata": {
        "button": false,
        "new_sheet": false,
        "run_control": {
          "read_only": false
        },
        "id": "qPwFs9Ridx_5"
      },
      "source": [
        "What are our lables?"
      ]
    },
    {
      "cell_type": "code",
      "metadata": {
        "button": false,
        "new_sheet": false,
        "run_control": {
          "read_only": false
        },
        "id": "owlL8pmhdx_5",
        "outputId": "f6d1d57a-8267-4473-ea56-5d5fa525ff17",
        "colab": {
          "base_uri": "https://localhost:8080/"
        }
      },
      "source": [
        "y = df['loan_status'].values\n",
        "y[0:5]"
      ],
      "execution_count": 22,
      "outputs": [
        {
          "output_type": "execute_result",
          "data": {
            "text/plain": [
              "array(['PAIDOFF', 'PAIDOFF', 'PAIDOFF', 'PAIDOFF', 'PAIDOFF'],\n",
              "      dtype=object)"
            ]
          },
          "metadata": {
            "tags": []
          },
          "execution_count": 22
        }
      ]
    },
    {
      "cell_type": "markdown",
      "metadata": {
        "button": false,
        "new_sheet": false,
        "run_control": {
          "read_only": false
        },
        "id": "DXg5kl8ndx_5"
      },
      "source": [
        "## Normalize Data + Oversampling of the minority class to address imbalancing"
      ]
    },
    {
      "cell_type": "markdown",
      "metadata": {
        "button": false,
        "new_sheet": false,
        "run_control": {
          "read_only": false
        },
        "id": "d4QZip9Sdx_5"
      },
      "source": [
        "Data Standardization give data zero mean and unit variance (technically should be done after train test split )"
      ]
    },
    {
      "cell_type": "code",
      "metadata": {
        "button": false,
        "new_sheet": false,
        "run_control": {
          "read_only": false
        },
        "id": "lba3iWgAdx_6",
        "outputId": "de225307-cc80-4339-a16a-bf49e1105484",
        "colab": {
          "base_uri": "https://localhost:8080/"
        }
      },
      "source": [
        "from imblearn.over_sampling import SMOTE\n",
        "\n",
        "# transform the dataset\n",
        "oversample = SMOTE(random_state=42)\n",
        "X, y = oversample.fit_resample(X, y)\n",
        "\n",
        "X= preprocessing.StandardScaler().fit(X).transform(X)\n",
        "X[0:5]"
      ],
      "execution_count": 24,
      "outputs": [
        {
          "output_type": "execute_result",
          "data": {
            "text/plain": [
              "array([[ 0.51726166,  0.91294118,  2.49359185, -0.33688331, -1.57056253,\n",
              "        -0.3040345 ,  1.24963049, -0.74937411],\n",
              "       [ 0.51726166,  0.91294118,  0.39796718,  2.96838689, -1.57056253,\n",
              "         3.28910046, -0.80023656, -0.74937411],\n",
              "       [ 0.51726166, -1.00904025, -0.64984515, -0.33688331, -1.57056253,\n",
              "        -0.3040345 , -0.80023656,  1.33444695],\n",
              "       [ 0.51726166,  0.91294118, -0.47520976,  2.96838689,  0.63671454,\n",
              "        -0.3040345 , -0.80023656,  1.33444695],\n",
              "       [ 0.51726166,  0.91294118, -0.30057437, -0.33688331,  0.63671454,\n",
              "        -0.3040345 , -0.80023656,  1.33444695]])"
            ]
          },
          "metadata": {
            "tags": []
          },
          "execution_count": 24
        }
      ]
    },
    {
      "cell_type": "markdown",
      "metadata": {
        "button": false,
        "new_sheet": false,
        "run_control": {
          "read_only": false
        },
        "id": "-HHKHme1dx_6"
      },
      "source": [
        "# Classification "
      ]
    },
    {
      "cell_type": "markdown",
      "metadata": {
        "button": false,
        "new_sheet": false,
        "run_control": {
          "read_only": false
        },
        "id": "IEQdO0W4dx_7"
      },
      "source": [
        "Now, it is your turn, use the training set to build an accurate model. Then use the test set to report the accuracy of the model\n",
        "You should use the following algorithm:\n",
        "- K Nearest Neighbor(KNN)\n",
        "- Decision Tree\n",
        "- Support Vector Machine\n",
        "- Logistic Regression\n",
        "\n",
        "\n",
        "\n",
        "__ Notice:__ \n",
        "- You can go above and change the pre-processing, feature selection, feature-extraction, and so on, to make a better model.\n",
        "- You should use either scikit-learn, Scipy or Numpy libraries for developing the classification algorithms.\n",
        "- You should include the code of the algorithm in the following cells."
      ]
    },
    {
      "cell_type": "code",
      "metadata": {
        "id": "sFBub_W9dx_8",
        "outputId": "2c600a3e-d412-4f38-ad6f-d1b19da27cfd",
        "colab": {
          "base_uri": "https://localhost:8080/"
        }
      },
      "source": [
        "# if our set has to be splitted\n",
        "from sklearn.neighbors       import KNeighborsClassifier\n",
        "from sklearn.tree            import DecisionTreeClassifier\n",
        "from sklearn.svm             import SVC\n",
        "from sklearn.model_selection import train_test_split\n",
        "from sklearn.linear_model    import LogisticRegression\n",
        "from sklearn.metrics         import confusion_matrix\n",
        "\n",
        "\n",
        "from sklearn                 import tree\n",
        "from sklearn.decomposition   import PCA\n",
        "\n",
        "from mpl_toolkits.mplot3d    import Axes3D\n",
        "from sklearn.model_selection import GridSearchCV\n",
        "\n",
        "from sklearn import metrics\n",
        "from sklearn.metrics         import log_loss\n",
        "\n",
        "# X_train, X_test, y_train, y_test = train_test_split( X, y, test_size=0.2, random_state=42)\n",
        "\n",
        "# # shape of data splitted\n",
        "# print(X_train.shape)\n",
        "# print(y_train.shape)\n",
        "\n",
        "# print(X_test.shape)\n",
        "# print(y_test.shape)\n",
        "\n",
        "# # transforming Y_train in a numeric field\n",
        "# y_train_num = [1 if y_i=='PAIDOFF' else 0 for y_i in y_train]\n",
        "# y_test_num  = [1 if y_i=='PAIDOFF' else 0 for y_i in y_test ]\n",
        "\n",
        "\n",
        "# # I want to visualize training set with target classes\n",
        "# pca = PCA(n_components=3)\n",
        "# X_reduced_PAIDOFF_train = pca.fit(X).transform(X_train)\n",
        "# X_reduced_PAIDOFF_test  = pca.fit(X).transform(X_test)\n",
        "# fig = plt.figure(1, figsize=(8, 6))                       \n",
        "# ax = Axes3D(fig)\n",
        "# # training data \n",
        "# # - will have a more transparency, black edge\n",
        "# ax.scatter(X_reduced_PAIDOFF_train[:, 0], X_reduced_PAIDOFF_train[:, 1], X_reduced_PAIDOFF_train[:, 2], c=y_train_num, cmap=plt.cm.Set1, edgecolor='k', s=40, alpha=0.4)\n",
        "# # test data, blue edge\n",
        "# ax.scatter(X_reduced_PAIDOFF_test[:, 0],  X_reduced_PAIDOFF_test[:, 1],  X_reduced_PAIDOFF_test[:, 2],  c=y_test_num, cmap=plt.cm.Set1, edgecolor='b', s=40)\n",
        "# ax.set_title(\"First three PCA directions\")\n",
        "# ax.set_xlabel(\"1st eigenvector\")\n",
        "# ax.w_xaxis.set_ticklabels([])\n",
        "# ax.set_ylabel(\"2nd eigenvector\")\n",
        "# ax.w_yaxis.set_ticklabels([])\n",
        "# plt.show()\n",
        "\n",
        "# if we have already splitted our set\n",
        "X_train = X\n",
        "y_train = y\n",
        "\n",
        "# shape of data splitted\n",
        "print(X_train.shape)\n",
        "print(y_train.shape)\n",
        "\n",
        "# transforming Y_train in a numeric field\n",
        "y_train_num = [1 if y_i=='PAIDOFF' else 0 for y_i in y_train]"
      ],
      "execution_count": 25,
      "outputs": [
        {
          "output_type": "stream",
          "text": [
            "(520, 8)\n",
            "(520,)\n"
          ],
          "name": "stdout"
        }
      ]
    },
    {
      "cell_type": "markdown",
      "metadata": {
        "id": "mxzkO4xSdx_9"
      },
      "source": [
        "# K Nearest Neighbor(KNN)\n",
        "Notice: You should find the best k to build the model with the best accuracy.  \n",
        "**warning:** You should not use the __loan_test.csv__ for finding the best k, however, you can split your train_loan.csv into train and test to find the best __k__."
      ]
    },
    {
      "cell_type": "code",
      "metadata": {
        "id": "B9bBq0CUdx_9",
        "outputId": "4c71f57b-5d1f-4375-f571-a55a1a0257d4",
        "colab": {
          "base_uri": "https://localhost:8080/"
        }
      },
      "source": [
        "# setting hyperparameters grid\n",
        "parameters = {\n",
        "    'n_neighbors': np.linspace(1, int(X_train.shape[0]/2), int(X_train.shape[0]/2) -1).astype(int)\n",
        "}\n",
        "\n",
        "# instantiation the generic KNN classifier object\n",
        "knn_classifier_obj = KNeighborsClassifier()\n",
        "\n",
        "# grid searching the hyperparameters\n",
        "clf                = GridSearchCV(knn_classifier_obj, scoring='accuracy', param_grid=parameters)\n",
        "clf.fit(X_train, y_train_num)\n",
        "\n",
        "# retrieving best model paramters\n",
        "print(f'Best estimator: {clf.best_estimator_}. Best estimator type: {type(clf.best_estimator_)}')\n",
        "\n",
        "# referencing to the best estimator\n",
        "knn_classifier_obj = clf.best_estimator_"
      ],
      "execution_count": 26,
      "outputs": [
        {
          "output_type": "stream",
          "text": [
            "Best estimator: KNeighborsClassifier(algorithm='auto', leaf_size=30, metric='minkowski',\n",
            "                     metric_params=None, n_jobs=None, n_neighbors=7, p=2,\n",
            "                     weights='uniform'). Best estimator type: <class 'sklearn.neighbors._classification.KNeighborsClassifier'>\n"
          ],
          "name": "stdout"
        }
      ]
    },
    {
      "cell_type": "markdown",
      "metadata": {
        "id": "BeWYHN0Qdx_-"
      },
      "source": [
        "# Decision Tree"
      ]
    },
    {
      "cell_type": "code",
      "metadata": {
        "id": "cQ9EhEXtdx__",
        "outputId": "a77042f5-62b7-43cb-99ff-e90dc40de2b9",
        "colab": {
          "base_uri": "https://localhost:8080/",
          "height": 1000
        }
      },
      "source": [
        "# setting hyperparameters grid\n",
        "parameters = {\n",
        "    'criterion'  : [\"gini\", \"entropy\"],\n",
        "    'splitter'   : [\"best\", \"random\"],\n",
        "    'max_depth'  : [X_train.shape[1]],\n",
        "}\n",
        "\n",
        "# instantiation the generic decision tree classifier object\n",
        "dt_classifier_obj = DecisionTreeClassifier(random_state=42)\n",
        "\n",
        "# grid searching the hyperparameters\n",
        "clf                = GridSearchCV(dt_classifier_obj, scoring='accuracy', param_grid=parameters)\n",
        "clf.fit(X_train, y_train_num)\n",
        "\n",
        "# retrieving best model paramters\n",
        "print(f'Best estimator: {clf.best_estimator_}. Best estimator type: {type(clf.best_estimator_)}')\n",
        "\n",
        "# referencing to the best estimator\n",
        "dt_classifier_obj = clf.best_estimator_\n",
        "tree.plot_tree(dt_classifier_obj) "
      ],
      "execution_count": 27,
      "outputs": [
        {
          "output_type": "stream",
          "text": [
            "Best estimator: DecisionTreeClassifier(ccp_alpha=0.0, class_weight=None, criterion='gini',\n",
            "                       max_depth=8, max_features=None, max_leaf_nodes=None,\n",
            "                       min_impurity_decrease=0.0, min_impurity_split=None,\n",
            "                       min_samples_leaf=1, min_samples_split=2,\n",
            "                       min_weight_fraction_leaf=0.0, presort='deprecated',\n",
            "                       random_state=42, splitter='random'). Best estimator type: <class 'sklearn.tree._classes.DecisionTreeClassifier'>\n"
          ],
          "name": "stdout"
        },
        {
          "output_type": "execute_result",
          "data": {
            "text/plain": [
              "[Text(116.13375, 205.35999999999999, 'X[4] <= -0.019\\ngini = 0.5\\nsamples = 520\\nvalue = [260, 260]'),\n",
              " Text(26.040000000000003, 181.2, 'X[6] <= -0.16\\ngini = 0.147\\nsamples = 150\\nvalue = [12, 138]'),\n",
              " Text(22.32, 157.04, 'X[5] <= 0.987\\ngini = 0.247\\nsamples = 83\\nvalue = [12, 71]'),\n",
              " Text(18.6, 132.88, 'X[7] <= 0.107\\ngini = 0.298\\nsamples = 66\\nvalue = [12, 54]'),\n",
              " Text(14.88, 108.72, 'gini = 0.0\\nsamples = 5\\nvalue = [5, 0]'),\n",
              " Text(22.32, 108.72, 'X[1] <= 0.353\\ngini = 0.203\\nsamples = 61\\nvalue = [7, 54]'),\n",
              " Text(14.88, 84.56, 'X[3] <= 0.423\\ngini = 0.121\\nsamples = 31\\nvalue = [2, 29]'),\n",
              " Text(11.16, 60.400000000000006, 'X[0] <= 0.406\\ngini = 0.147\\nsamples = 25\\nvalue = [2, 23]'),\n",
              " Text(7.44, 36.24000000000001, 'X[2] <= -1.204\\ngini = 0.219\\nsamples = 16\\nvalue = [2, 14]'),\n",
              " Text(3.72, 12.079999999999984, 'gini = 0.0\\nsamples = 2\\nvalue = [0, 2]'),\n",
              " Text(11.16, 12.079999999999984, 'gini = 0.245\\nsamples = 14\\nvalue = [2, 12]'),\n",
              " Text(14.88, 36.24000000000001, 'gini = 0.0\\nsamples = 9\\nvalue = [0, 9]'),\n",
              " Text(18.6, 60.400000000000006, 'gini = 0.0\\nsamples = 6\\nvalue = [0, 6]'),\n",
              " Text(29.76, 84.56, 'X[2] <= -0.116\\ngini = 0.278\\nsamples = 30\\nvalue = [5, 25]'),\n",
              " Text(26.040000000000003, 60.400000000000006, 'X[2] <= -1.117\\ngini = 0.375\\nsamples = 20\\nvalue = [5, 15]'),\n",
              " Text(22.32, 36.24000000000001, 'gini = 0.0\\nsamples = 4\\nvalue = [0, 4]'),\n",
              " Text(29.76, 36.24000000000001, 'X[2] <= -0.202\\ngini = 0.43\\nsamples = 16\\nvalue = [5, 11]'),\n",
              " Text(26.040000000000003, 12.079999999999984, 'gini = 0.459\\nsamples = 14\\nvalue = [5, 9]'),\n",
              " Text(33.480000000000004, 12.079999999999984, 'gini = 0.0\\nsamples = 2\\nvalue = [0, 2]'),\n",
              " Text(33.480000000000004, 60.400000000000006, 'gini = 0.0\\nsamples = 10\\nvalue = [0, 10]'),\n",
              " Text(26.040000000000003, 132.88, 'gini = 0.0\\nsamples = 17\\nvalue = [0, 17]'),\n",
              " Text(29.76, 157.04, 'gini = 0.0\\nsamples = 67\\nvalue = [0, 67]'),\n",
              " Text(206.22750000000002, 181.2, 'X[7] <= -0.672\\ngini = 0.442\\nsamples = 370\\nvalue = [248, 122]'),\n",
              " Text(132.525, 157.04, 'X[5] <= 1.488\\ngini = 0.379\\nsamples = 244\\nvalue = [182, 62]'),\n",
              " Text(79.98, 132.88, 'X[6] <= -0.551\\ngini = 0.334\\nsamples = 217\\nvalue = [171, 46]'),\n",
              " Text(48.36, 108.72, 'X[0] <= 0.132\\ngini = 0.024\\nsamples = 81\\nvalue = [80, 1]'),\n",
              " Text(44.64, 84.56, 'X[2] <= 0.523\\ngini = 0.074\\nsamples = 26\\nvalue = [25, 1]'),\n",
              " Text(40.92, 60.400000000000006, 'gini = 0.0\\nsamples = 19\\nvalue = [19, 0]'),\n",
              " Text(48.36, 60.400000000000006, 'X[2] <= 1.307\\ngini = 0.245\\nsamples = 7\\nvalue = [6, 1]'),\n",
              " Text(44.64, 36.24000000000001, 'gini = 0.0\\nsamples = 5\\nvalue = [5, 0]'),\n",
              " Text(52.080000000000005, 36.24000000000001, 'gini = 0.5\\nsamples = 2\\nvalue = [1, 1]'),\n",
              " Text(52.080000000000005, 84.56, 'gini = 0.0\\nsamples = 55\\nvalue = [55, 0]'),\n",
              " Text(111.60000000000001, 108.72, 'X[1] <= -0.009\\ngini = 0.443\\nsamples = 136\\nvalue = [91, 45]'),\n",
              " Text(81.84, 84.56, 'X[2] <= 1.206\\ngini = 0.498\\nsamples = 36\\nvalue = [17, 19]'),\n",
              " Text(66.96000000000001, 60.400000000000006, 'X[0] <= -0.036\\ngini = 0.491\\nsamples = 23\\nvalue = [13, 10]'),\n",
              " Text(59.52, 36.24000000000001, 'X[1] <= -1.414\\ngini = 0.43\\nsamples = 16\\nvalue = [11, 5]'),\n",
              " Text(55.800000000000004, 12.079999999999984, 'gini = 0.0\\nsamples = 1\\nvalue = [0, 1]'),\n",
              " Text(63.24, 12.079999999999984, 'gini = 0.391\\nsamples = 15\\nvalue = [11, 4]'),\n",
              " Text(74.4, 36.24000000000001, 'X[2] <= -0.761\\ngini = 0.408\\nsamples = 7\\nvalue = [2, 5]'),\n",
              " Text(70.68, 12.079999999999984, 'gini = 0.0\\nsamples = 2\\nvalue = [0, 2]'),\n",
              " Text(78.12, 12.079999999999984, 'gini = 0.48\\nsamples = 5\\nvalue = [2, 3]'),\n",
              " Text(96.72, 60.400000000000006, 'X[0] <= -1.426\\ngini = 0.426\\nsamples = 13\\nvalue = [4, 9]'),\n",
              " Text(89.28, 36.24000000000001, 'X[2] <= 2.391\\ngini = 0.245\\nsamples = 7\\nvalue = [1, 6]'),\n",
              " Text(85.56, 12.079999999999984, 'gini = 0.0\\nsamples = 4\\nvalue = [0, 4]'),\n",
              " Text(93.0, 12.079999999999984, 'gini = 0.444\\nsamples = 3\\nvalue = [1, 2]'),\n",
              " Text(104.16000000000001, 36.24000000000001, 'X[2] <= 2.152\\ngini = 0.5\\nsamples = 6\\nvalue = [3, 3]'),\n",
              " Text(100.44000000000001, 12.079999999999984, 'gini = 0.375\\nsamples = 4\\nvalue = [3, 1]'),\n",
              " Text(107.88000000000001, 12.079999999999984, 'gini = 0.0\\nsamples = 2\\nvalue = [0, 2]'),\n",
              " Text(141.36, 84.56, 'X[3] <= 1.691\\ngini = 0.385\\nsamples = 100\\nvalue = [74, 26]'),\n",
              " Text(126.48, 60.400000000000006, 'X[2] <= 0.341\\ngini = 0.378\\nsamples = 95\\nvalue = [71, 24]'),\n",
              " Text(119.04, 36.24000000000001, 'X[2] <= -0.801\\ngini = 0.417\\nsamples = 64\\nvalue = [45, 19]'),\n",
              " Text(115.32000000000001, 12.079999999999984, 'gini = 0.4\\nsamples = 29\\nvalue = [21, 8]'),\n",
              " Text(122.76, 12.079999999999984, 'gini = 0.431\\nsamples = 35\\nvalue = [24, 11]'),\n",
              " Text(133.92000000000002, 36.24000000000001, 'X[2] <= 0.821\\ngini = 0.271\\nsamples = 31\\nvalue = [26, 5]'),\n",
              " Text(130.20000000000002, 12.079999999999984, 'gini = 0.337\\nsamples = 14\\nvalue = [11, 3]'),\n",
              " Text(137.64000000000001, 12.079999999999984, 'gini = 0.208\\nsamples = 17\\nvalue = [15, 2]'),\n",
              " Text(156.24, 60.400000000000006, 'X[2] <= -0.576\\ngini = 0.48\\nsamples = 5\\nvalue = [3, 2]'),\n",
              " Text(148.8, 36.24000000000001, 'X[2] <= -0.804\\ngini = 0.5\\nsamples = 2\\nvalue = [1, 1]'),\n",
              " Text(145.08, 12.079999999999984, 'gini = 0.0\\nsamples = 1\\nvalue = [0, 1]'),\n",
              " Text(152.52, 12.079999999999984, 'gini = 0.0\\nsamples = 1\\nvalue = [1, 0]'),\n",
              " Text(163.68, 36.24000000000001, 'X[2] <= 2.031\\ngini = 0.444\\nsamples = 3\\nvalue = [2, 1]'),\n",
              " Text(159.96, 12.079999999999984, 'gini = 0.0\\nsamples = 2\\nvalue = [2, 0]'),\n",
              " Text(167.4, 12.079999999999984, 'gini = 0.0\\nsamples = 1\\nvalue = [0, 1]'),\n",
              " Text(185.07000000000002, 132.88, 'X[3] <= -0.163\\ngini = 0.483\\nsamples = 27\\nvalue = [11, 16]'),\n",
              " Text(181.35000000000002, 108.72, 'X[0] <= -1.209\\ngini = 0.5\\nsamples = 22\\nvalue = [11, 11]'),\n",
              " Text(171.12, 84.56, 'X[2] <= 1.383\\ngini = 0.32\\nsamples = 5\\nvalue = [4, 1]'),\n",
              " Text(167.4, 60.400000000000006, 'gini = 0.0\\nsamples = 4\\nvalue = [4, 0]'),\n",
              " Text(174.84, 60.400000000000006, 'gini = 0.0\\nsamples = 1\\nvalue = [0, 1]'),\n",
              " Text(191.58, 84.56, 'X[1] <= -0.467\\ngini = 0.484\\nsamples = 17\\nvalue = [7, 10]'),\n",
              " Text(182.28, 60.400000000000006, 'X[2] <= 1.267\\ngini = 0.5\\nsamples = 6\\nvalue = [3, 3]'),\n",
              " Text(178.56, 36.24000000000001, 'X[2] <= -0.611\\ngini = 0.48\\nsamples = 5\\nvalue = [2, 3]'),\n",
              " Text(174.84, 12.079999999999984, 'gini = 0.0\\nsamples = 1\\nvalue = [1, 0]'),\n",
              " Text(182.28, 12.079999999999984, 'gini = 0.375\\nsamples = 4\\nvalue = [1, 3]'),\n",
              " Text(186.0, 36.24000000000001, 'gini = 0.0\\nsamples = 1\\nvalue = [1, 0]'),\n",
              " Text(200.88000000000002, 60.400000000000006, 'X[2] <= 1.271\\ngini = 0.463\\nsamples = 11\\nvalue = [4, 7]'),\n",
              " Text(193.44, 36.24000000000001, 'X[2] <= 0.266\\ngini = 0.444\\nsamples = 9\\nvalue = [3, 6]'),\n",
              " Text(189.72, 12.079999999999984, 'gini = 0.5\\nsamples = 6\\nvalue = [3, 3]'),\n",
              " Text(197.16, 12.079999999999984, 'gini = 0.0\\nsamples = 3\\nvalue = [0, 3]'),\n",
              " Text(208.32000000000002, 36.24000000000001, 'X[2] <= 2.207\\ngini = 0.5\\nsamples = 2\\nvalue = [1, 1]'),\n",
              " Text(204.60000000000002, 12.079999999999984, 'gini = 0.0\\nsamples = 1\\nvalue = [0, 1]'),\n",
              " Text(212.04000000000002, 12.079999999999984, 'gini = 0.0\\nsamples = 1\\nvalue = [1, 0]'),\n",
              " Text(188.79000000000002, 108.72, 'gini = 0.0\\nsamples = 5\\nvalue = [0, 5]'),\n",
              " Text(279.93, 157.04, 'X[1] <= -2.02\\ngini = 0.499\\nsamples = 126\\nvalue = [66, 60]'),\n",
              " Text(276.21000000000004, 132.88, 'gini = 0.0\\nsamples = 4\\nvalue = [0, 4]'),\n",
              " Text(283.65000000000003, 132.88, 'X[3] <= 2.419\\ngini = 0.497\\nsamples = 122\\nvalue = [66, 56]'),\n",
              " Text(254.82000000000002, 108.72, 'X[0] <= 0.468\\ngini = 0.491\\nsamples = 111\\nvalue = [63, 48]'),\n",
              " Text(234.36, 84.56, 'X[0] <= -1.351\\ngini = 0.472\\nsamples = 21\\nvalue = [8, 13]'),\n",
              " Text(230.64000000000001, 60.400000000000006, 'X[2] <= 0.326\\ngini = 0.48\\nsamples = 20\\nvalue = [8, 12]'),\n",
              " Text(223.20000000000002, 36.24000000000001, 'X[2] <= -1.395\\ngini = 0.498\\nsamples = 15\\nvalue = [7, 8]'),\n",
              " Text(219.48000000000002, 12.079999999999984, 'gini = 0.0\\nsamples = 1\\nvalue = [1, 0]'),\n",
              " Text(226.92000000000002, 12.079999999999984, 'gini = 0.49\\nsamples = 14\\nvalue = [6, 8]'),\n",
              " Text(238.08, 36.24000000000001, 'X[2] <= 0.398\\ngini = 0.32\\nsamples = 5\\nvalue = [1, 4]'),\n",
              " Text(234.36, 12.079999999999984, 'gini = 0.0\\nsamples = 2\\nvalue = [0, 2]'),\n",
              " Text(241.8, 12.079999999999984, 'gini = 0.444\\nsamples = 3\\nvalue = [1, 2]'),\n",
              " Text(238.08, 60.400000000000006, 'gini = 0.0\\nsamples = 1\\nvalue = [0, 1]'),\n",
              " Text(275.28000000000003, 84.56, 'X[2] <= -0.094\\ngini = 0.475\\nsamples = 90\\nvalue = [55, 35]'),\n",
              " Text(260.40000000000003, 60.400000000000006, 'X[2] <= -0.655\\ngini = 0.436\\nsamples = 56\\nvalue = [38, 18]'),\n",
              " Text(252.96, 36.24000000000001, 'X[1] <= 0.359\\ngini = 0.444\\nsamples = 27\\nvalue = [18, 9]'),\n",
              " Text(249.24, 12.079999999999984, 'gini = 0.48\\nsamples = 10\\nvalue = [4, 6]'),\n",
              " Text(256.68, 12.079999999999984, 'gini = 0.291\\nsamples = 17\\nvalue = [14, 3]'),\n",
              " Text(267.84000000000003, 36.24000000000001, 'X[1] <= 0.548\\ngini = 0.428\\nsamples = 29\\nvalue = [20, 9]'),\n",
              " Text(264.12, 12.079999999999984, 'gini = 0.231\\nsamples = 15\\nvalue = [13, 2]'),\n",
              " Text(271.56, 12.079999999999984, 'gini = 0.5\\nsamples = 14\\nvalue = [7, 7]'),\n",
              " Text(290.16, 60.400000000000006, 'X[2] <= 0.888\\ngini = 0.5\\nsamples = 34\\nvalue = [17, 17]'),\n",
              " Text(282.72, 36.24000000000001, 'X[2] <= 0.295\\ngini = 0.483\\nsamples = 27\\nvalue = [16, 11]'),\n",
              " Text(279.0, 12.079999999999984, 'gini = 0.337\\nsamples = 14\\nvalue = [11, 3]'),\n",
              " Text(286.44, 12.079999999999984, 'gini = 0.473\\nsamples = 13\\nvalue = [5, 8]'),\n",
              " Text(297.6, 36.24000000000001, 'X[2] <= 0.96\\ngini = 0.245\\nsamples = 7\\nvalue = [1, 6]'),\n",
              " Text(293.88, 12.079999999999984, 'gini = 0.0\\nsamples = 2\\nvalue = [0, 2]'),\n",
              " Text(301.32, 12.079999999999984, 'gini = 0.32\\nsamples = 5\\nvalue = [1, 4]'),\n",
              " Text(312.48, 108.72, 'X[0] <= -0.518\\ngini = 0.397\\nsamples = 11\\nvalue = [3, 8]'),\n",
              " Text(308.76, 84.56, 'gini = 0.0\\nsamples = 2\\nvalue = [0, 2]'),\n",
              " Text(316.2, 84.56, 'X[2] <= -0.691\\ngini = 0.444\\nsamples = 9\\nvalue = [3, 6]'),\n",
              " Text(312.48, 60.400000000000006, 'gini = 0.0\\nsamples = 1\\nvalue = [0, 1]'),\n",
              " Text(319.92, 60.400000000000006, 'X[1] <= -0.417\\ngini = 0.469\\nsamples = 8\\nvalue = [3, 5]'),\n",
              " Text(312.48, 36.24000000000001, 'X[2] <= 0.069\\ngini = 0.5\\nsamples = 2\\nvalue = [1, 1]'),\n",
              " Text(308.76, 12.079999999999984, 'gini = 0.0\\nsamples = 1\\nvalue = [1, 0]'),\n",
              " Text(316.2, 12.079999999999984, 'gini = 0.0\\nsamples = 1\\nvalue = [0, 1]'),\n",
              " Text(327.36, 36.24000000000001, 'X[2] <= -0.387\\ngini = 0.444\\nsamples = 6\\nvalue = [2, 4]'),\n",
              " Text(323.64000000000004, 12.079999999999984, 'gini = 0.0\\nsamples = 3\\nvalue = [0, 3]'),\n",
              " Text(331.08000000000004, 12.079999999999984, 'gini = 0.444\\nsamples = 3\\nvalue = [2, 1]')]"
            ]
          },
          "metadata": {
            "tags": []
          },
          "execution_count": 27
        },
        {
          "output_type": "display_data",
          "data": {
            "image/png": "[encoded data removed]",
            "text/plain": [
              "<Figure size 432x288 with 1 Axes>"
            ]
          },
          "metadata": {
            "tags": [],
            "needs_background": "light"
          }
        }
      ]
    },
    {
      "cell_type": "markdown",
      "metadata": {
        "id": "5Kq8yaDrdx__"
      },
      "source": [
        "# Support Vector Machine"
      ]
    },
    {
      "cell_type": "code",
      "metadata": {
        "id": "TDevSYthdx__",
        "outputId": "cece0d20-9e64-4751-f01d-039c0ac981ad",
        "colab": {
          "base_uri": "https://localhost:8080/"
        }
      },
      "source": [
        "# setting hyperparameters grid\n",
        "parameters = {\n",
        "    'kernel'  : ['linear', 'poly', 'rbf', 'sigmoid'],\n",
        "    'degree'  : np.linspace(1, 10, 10),\n",
        "    'gamma'   : ['scale', 'auto']\n",
        "}\n",
        "\n",
        "# instantiation the generic SVM classifier object\n",
        "SVM_classifier_obj = SVC(random_state=42)\n",
        "\n",
        "# grid searching the hyperparameters\n",
        "clf                = GridSearchCV(SVM_classifier_obj, scoring='accuracy', param_grid=parameters)\n",
        "clf.fit(X_train, y_train_num)\n",
        "\n",
        "# retrieving best model paramters\n",
        "print(f'Best estimator: {clf.best_estimator_}. Best estimator type: {type(clf.best_estimator_)}')\n",
        "\n",
        "# referencing to the best estimator\n",
        "SVM_classifier_obj = clf.best_estimator_\n"
      ],
      "execution_count": 29,
      "outputs": [
        {
          "output_type": "stream",
          "text": [
            "Best estimator: SVC(C=1.0, break_ties=False, cache_size=200, class_weight=None, coef0=0.0,\n",
            "    decision_function_shape='ovr', degree=4.0, gamma='auto', kernel='poly',\n",
            "    max_iter=-1, probability=False, random_state=42, shrinking=True, tol=0.001,\n",
            "    verbose=False). Best estimator type: <class 'sklearn.svm._classes.SVC'>\n"
          ],
          "name": "stdout"
        }
      ]
    },
    {
      "cell_type": "markdown",
      "metadata": {
        "id": "0QCK75C6dyAB"
      },
      "source": [
        "# Logistic Regression"
      ]
    },
    {
      "cell_type": "code",
      "metadata": {
        "id": "_UI1XU9gdyAB",
        "outputId": "c3f8b85b-33ae-4bdd-d9a5-ce7ae7f40c73",
        "colab": {
          "base_uri": "https://localhost:8080/"
        }
      },
      "source": [
        "parameters = {\n",
        "   'penalty'     : ['l2', 'l1'],\n",
        "   'tol'         : [1e-03, 1e-04, 1e-05],\n",
        "   'C'           : [1e-5, 0.001, 0.01, 0.05, 0.5, 1, 2],\n",
        "   'solver'      : ['liblinear'],\n",
        "   'class_weight': ['balanced', None]\n",
        "}\n",
        "\n",
        "\n",
        "\n",
        "LR_obj = LogisticRegression(random_state=42, max_iter=1000)\n",
        "\n",
        "# grid searching the hyperparameters\n",
        "clf                = GridSearchCV(LR_obj, scoring='accuracy', param_grid=parameters)\n",
        "clf.fit(X_train, y_train_num)\n",
        "\n",
        "\n",
        "# retrieving best model paramters\n",
        "print(f'Best estimator: {clf.best_estimator_}. Best estimator type: {type(clf.best_estimator_)}')\n",
        "\n",
        "# referencing to the best estimator\n",
        "LR_obj = clf.best_estimator_"
      ],
      "execution_count": 30,
      "outputs": [
        {
          "output_type": "stream",
          "text": [
            "Best estimator: LogisticRegression(C=1, class_weight='balanced', dual=False, fit_intercept=True,\n",
            "                   intercept_scaling=1, l1_ratio=None, max_iter=1000,\n",
            "                   multi_class='auto', n_jobs=None, penalty='l2',\n",
            "                   random_state=42, solver='liblinear', tol=0.001, verbose=0,\n",
            "                   warm_start=False). Best estimator type: <class 'sklearn.linear_model._logistic.LogisticRegression'>\n"
          ],
          "name": "stdout"
        }
      ]
    },
    {
      "cell_type": "markdown",
      "metadata": {
        "id": "qSzWYI3kdyAB"
      },
      "source": [
        "# Model Evaluation using Test set"
      ]
    },
    {
      "cell_type": "code",
      "metadata": {
        "id": "xpcd8KfcdyAB"
      },
      "source": [
        "from sklearn.metrics import jaccard_score\n",
        "from sklearn.metrics import f1_score\n",
        "from sklearn.metrics import log_loss"
      ],
      "execution_count": 31,
      "outputs": []
    },
    {
      "cell_type": "markdown",
      "metadata": {
        "id": "yQ_z1j5FdyAC"
      },
      "source": [
        "First, download and load the test set:"
      ]
    },
    {
      "cell_type": "code",
      "metadata": {
        "id": "5f-WX5GJdyAC",
        "outputId": "59a41755-6828-4021-d4b5-4442fa6dfcf9",
        "colab": {
          "base_uri": "https://localhost:8080/"
        }
      },
      "source": [
        "!wget -O loan_test.csv https://s3-api.us-geo.objectstorage.softlayer.net/cf-courses-data/CognitiveClass/ML0101ENv3/labs/loan_test.csv"
      ],
      "execution_count": 32,
      "outputs": [
        {
          "output_type": "stream",
          "text": [
            "--2021-05-09 23:33:05--  https://s3-api.us-geo.objectstorage.softlayer.net/cf-courses-data/CognitiveClass/ML0101ENv3/labs/loan_test.csv\n",
            "Resolving s3-api.us-geo.objectstorage.softlayer.net (s3-api.us-geo.objectstorage.softlayer.net)... 67.228.254.196\n",
            "Connecting to s3-api.us-geo.objectstorage.softlayer.net (s3-api.us-geo.objectstorage.softlayer.net)|67.228.254.196|:443... connected.\n",
            "HTTP request sent, awaiting response... 200 OK\n",
            "Length: 3642 (3.6K) [text/csv]\n",
            "Saving to: ‘loan_test.csv’\n",
            "\n",
            "loan_test.csv       100%[===================>]   3.56K  --.-KB/s    in 0s      \n",
            "\n",
            "2021-05-09 23:33:05 (570 MB/s) - ‘loan_test.csv’ saved [3642/3642]\n",
            "\n"
          ],
          "name": "stdout"
        }
      ]
    },
    {
      "cell_type": "markdown",
      "metadata": {
        "button": false,
        "new_sheet": false,
        "run_control": {
          "read_only": false
        },
        "id": "FOnzxUkhdyAD"
      },
      "source": [
        "### Load Test set for evaluation "
      ]
    },
    {
      "cell_type": "code",
      "metadata": {
        "button": false,
        "new_sheet": false,
        "run_control": {
          "read_only": false
        },
        "id": "seXJOUsPdyAD",
        "outputId": "10f2d70e-58cb-49ae-ff71-9e71f70df207",
        "colab": {
          "base_uri": "https://localhost:8080/",
          "height": 206
        }
      },
      "source": [
        "test_df = pd.read_csv('loan_test.csv')\n",
        "test_df.head()"
      ],
      "execution_count": 33,
      "outputs": [
        {
          "output_type": "execute_result",
          "data": {
            "text/html": [
              "<div>\n",
              "<style scoped>\n",
              "    .dataframe tbody tr th:only-of-type {\n",
              "        vertical-align: middle;\n",
              "    }\n",
              "\n",
              "    .dataframe tbody tr th {\n",
              "        vertical-align: top;\n",
              "    }\n",
              "\n",
              "    .dataframe thead th {\n",
              "        text-align: right;\n",
              "    }\n",
              "</style>\n",
              "<table border=\"1\" class=\"dataframe\">\n",
              "  <thead>\n",
              "    <tr style=\"text-align: right;\">\n",
              "      <th></th>\n",
              "      <th>Unnamed: 0</th>\n",
              "      <th>Unnamed: 0.1</th>\n",
              "      <th>loan_status</th>\n",
              "      <th>Principal</th>\n",
              "      <th>terms</th>\n",
              "      <th>effective_date</th>\n",
              "      <th>due_date</th>\n",
              "      <th>age</th>\n",
              "      <th>education</th>\n",
              "      <th>Gender</th>\n",
              "    </tr>\n",
              "  </thead>\n",
              "  <tbody>\n",
              "    <tr>\n",
              "      <th>0</th>\n",
              "      <td>1</td>\n",
              "      <td>1</td>\n",
              "      <td>PAIDOFF</td>\n",
              "      <td>1000</td>\n",
              "      <td>30</td>\n",
              "      <td>9/8/2016</td>\n",
              "      <td>10/7/2016</td>\n",
              "      <td>50</td>\n",
              "      <td>Bechalor</td>\n",
              "      <td>female</td>\n",
              "    </tr>\n",
              "    <tr>\n",
              "      <th>1</th>\n",
              "      <td>5</td>\n",
              "      <td>5</td>\n",
              "      <td>PAIDOFF</td>\n",
              "      <td>300</td>\n",
              "      <td>7</td>\n",
              "      <td>9/9/2016</td>\n",
              "      <td>9/15/2016</td>\n",
              "      <td>35</td>\n",
              "      <td>Master or Above</td>\n",
              "      <td>male</td>\n",
              "    </tr>\n",
              "    <tr>\n",
              "      <th>2</th>\n",
              "      <td>21</td>\n",
              "      <td>21</td>\n",
              "      <td>PAIDOFF</td>\n",
              "      <td>1000</td>\n",
              "      <td>30</td>\n",
              "      <td>9/10/2016</td>\n",
              "      <td>10/9/2016</td>\n",
              "      <td>43</td>\n",
              "      <td>High School or Below</td>\n",
              "      <td>female</td>\n",
              "    </tr>\n",
              "    <tr>\n",
              "      <th>3</th>\n",
              "      <td>24</td>\n",
              "      <td>24</td>\n",
              "      <td>PAIDOFF</td>\n",
              "      <td>1000</td>\n",
              "      <td>30</td>\n",
              "      <td>9/10/2016</td>\n",
              "      <td>10/9/2016</td>\n",
              "      <td>26</td>\n",
              "      <td>college</td>\n",
              "      <td>male</td>\n",
              "    </tr>\n",
              "    <tr>\n",
              "      <th>4</th>\n",
              "      <td>35</td>\n",
              "      <td>35</td>\n",
              "      <td>PAIDOFF</td>\n",
              "      <td>800</td>\n",
              "      <td>15</td>\n",
              "      <td>9/11/2016</td>\n",
              "      <td>9/25/2016</td>\n",
              "      <td>29</td>\n",
              "      <td>Bechalor</td>\n",
              "      <td>male</td>\n",
              "    </tr>\n",
              "  </tbody>\n",
              "</table>\n",
              "</div>"
            ],
            "text/plain": [
              "   Unnamed: 0  Unnamed: 0.1 loan_status  ...  age             education  Gender\n",
              "0           1             1     PAIDOFF  ...   50              Bechalor  female\n",
              "1           5             5     PAIDOFF  ...   35       Master or Above    male\n",
              "2          21            21     PAIDOFF  ...   43  High School or Below  female\n",
              "3          24            24     PAIDOFF  ...   26               college    male\n",
              "4          35            35     PAIDOFF  ...   29              Bechalor    male\n",
              "\n",
              "[5 rows x 10 columns]"
            ]
          },
          "metadata": {
            "tags": []
          },
          "execution_count": 33
        }
      ]
    },
    {
      "cell_type": "code",
      "metadata": {
        "id": "2cnaJ5JmdyAD",
        "outputId": "bce067a5-2a80-4565-a71b-78446fd9f381",
        "colab": {
          "base_uri": "https://localhost:8080/"
        }
      },
      "source": [
        "print('data size: ', test_df.shape)\n",
        "\n",
        "# transforng to date into datetime\n",
        "test_df['due_date']        = pd.to_datetime(test_df['due_date'])\n",
        "test_df['effective_date']  = pd.to_datetime(test_df['effective_date'])\n",
        "\n",
        "# retrieve dayofweek\n",
        "test_df['dayofweek']       = test_df['effective_date'].dt.dayofweek\n",
        "\n",
        "# transforming dayofweek into boolean weekend flag\n",
        "test_df['weekend']         = test_df['dayofweek'].apply(lambda x: 1 if (x>3)  else 0)\n",
        "\n",
        "test_df['Gender'].replace(to_replace=['male','female'], value=[0,1],inplace=True)\n",
        "\n",
        "print('NaN sum for each column _______________________')\n",
        "for column in test_df.columns:\n",
        "    print(f'{column}:', test_df[column].isnull().sum())\n",
        "print('_______________________________________________')\n",
        "\n",
        "\n",
        "\n",
        "Feature = test_df[['Principal','terms','age','Gender','weekend']]\n",
        "Feature = pd.concat([Feature, pd.get_dummies(test_df['education'])], axis=1)\n",
        "Feature.drop(['Master or Above'], axis = 1,inplace=True)\n",
        "print('\\n_ Head' + 15*'_' + '\\n', Feature.head(), end=2*'\\n'+ '_ Description' + 15*'_' + '\\n')\n",
        "print(Feature.describe(), end=3*'\\n')\n",
        "\n",
        "print('NaN sum for each column _______________________')\n",
        "for column in Feature.columns:\n",
        "    print(f'{column}:', Feature[column].isnull().sum())\n",
        "print('_______________________________________________')\n",
        "\n",
        "# FEATURES SET -> TEST FETURES SET\n",
        "\n",
        "X_test = Feature\n",
        "X_test = preprocessing.StandardScaler().fit(X_test).transform(X_test)\n",
        "\n",
        "\n",
        "# TEST TARGET VARIABLE \n",
        "# transforming Y_train in a numeric field\n",
        "y_test     = test_df['loan_status']\n",
        "y_test_num = [1 if y_i=='PAIDOFF' else 0 for y_i in y_test]\n",
        "\n"
      ],
      "execution_count": 34,
      "outputs": [
        {
          "output_type": "stream",
          "text": [
            "data size:  (54, 10)\n",
            "NaN sum for each column _______________________\n",
            "Unnamed: 0: 0\n",
            "Unnamed: 0.1: 0\n",
            "loan_status: 0\n",
            "Principal: 0\n",
            "terms: 0\n",
            "effective_date: 0\n",
            "due_date: 0\n",
            "age: 0\n",
            "education: 0\n",
            "Gender: 0\n",
            "dayofweek: 0\n",
            "weekend: 0\n",
            "_______________________________________________\n",
            "\n",
            "_ Head_______________\n",
            "    Principal  terms  age  ...  Bechalor  High School or Below  college\n",
            "0       1000     30   50  ...         1                     0        0\n",
            "1        300      7   35  ...         0                     0        0\n",
            "2       1000     30   43  ...         0                     1        0\n",
            "3       1000     30   26  ...         0                     0        1\n",
            "4        800     15   29  ...         1                     0        0\n",
            "\n",
            "[5 rows x 8 columns]\n",
            "\n",
            "_ Description_______________\n",
            "         Principal      terms  ...  High School or Below    college\n",
            "count    54.000000  54.000000  ...             54.000000  54.000000\n",
            "mean    914.814815  21.888889  ...              0.388889   0.425926\n",
            "std     174.190751   8.818220  ...              0.492076   0.499126\n",
            "min     300.000000   7.000000  ...              0.000000   0.000000\n",
            "25%     800.000000  15.000000  ...              0.000000   0.000000\n",
            "50%    1000.000000  30.000000  ...              0.000000   0.000000\n",
            "75%    1000.000000  30.000000  ...              1.000000   1.000000\n",
            "max    1000.000000  30.000000  ...              1.000000   1.000000\n",
            "\n",
            "[8 rows x 8 columns]\n",
            "\n",
            "\n",
            "NaN sum for each column _______________________\n",
            "Principal: 0\n",
            "terms: 0\n",
            "age: 0\n",
            "Gender: 0\n",
            "weekend: 0\n",
            "Bechalor: 0\n",
            "High School or Below: 0\n",
            "college: 0\n",
            "_______________________________________________\n"
          ],
          "name": "stdout"
        }
      ]
    },
    {
      "cell_type": "code",
      "metadata": {
        "id": "F7xDYCwedyAE",
        "outputId": "8eee6bcc-700e-4f37-c6d0-4161988bac50",
        "colab": {
          "base_uri": "https://localhost:8080/"
        }
      },
      "source": [
        "# estimation of predicted classes\n",
        "yhat = knn_classifier_obj.predict(X_test)\n",
        "\n",
        "print(\"->Train<- set Accuracy: \", metrics.accuracy_score(y_train_num, knn_classifier_obj.predict(X_train)))\n",
        "print(len(yhat), len(y_test_num))\n",
        "\n",
        "print(\"Test set Accuracy     : \", metrics.accuracy_score(y_test_num , yhat))\n",
        "print(\"Test set Jaccard      : \", metrics.jaccard_score(y_test_num , yhat))\n",
        "print(\"Test set F1           : \", metrics.f1_score(y_test_num , yhat))"
      ],
      "execution_count": 35,
      "outputs": [
        {
          "output_type": "stream",
          "text": [
            "->Train<- set Accuracy:  0.8384615384615385\n",
            "54 54\n",
            "Test set Accuracy     :  0.7037037037037037\n",
            "Test set Jaccard      :  0.6444444444444445\n",
            "Test set F1           :  0.7837837837837837\n"
          ],
          "name": "stdout"
        }
      ]
    },
    {
      "cell_type": "code",
      "metadata": {
        "id": "pCgVHH8ydyAE",
        "outputId": "0f7e04fa-a96d-4938-8478-3de78279171d",
        "colab": {
          "base_uri": "https://localhost:8080/"
        }
      },
      "source": [
        "# estimation of predicted classes\n",
        "yhat = dt_classifier_obj.predict(X_test)\n",
        "\n",
        "print(\"->Train<- set Accuracy: \", metrics.accuracy_score(y_train_num, dt_classifier_obj.predict(X_train)))\n",
        "print(\"Test set Accuracy     : \", metrics.accuracy_score(y_test_num , yhat))\n",
        "print(\"Test set Jaccard      : \", metrics.jaccard_score(y_test_num , yhat))\n",
        "print(\"Test set F1           : \", metrics.f1_score(y_test_num , yhat))"
      ],
      "execution_count": 36,
      "outputs": [
        {
          "output_type": "stream",
          "text": [
            "->Train<- set Accuracy:  0.8519230769230769\n",
            "Test set Accuracy     :  0.6481481481481481\n",
            "Test set Jaccard      :  0.5957446808510638\n",
            "Test set F1           :  0.7466666666666666\n"
          ],
          "name": "stdout"
        }
      ]
    },
    {
      "cell_type": "code",
      "metadata": {
        "id": "LBbtdPXHdyAF",
        "outputId": "23230637-e28c-4694-ab4f-50c4804574f9",
        "colab": {
          "base_uri": "https://localhost:8080/"
        }
      },
      "source": [
        "# estimation of predicted classes\n",
        "yhat = SVM_classifier_obj.predict(X_test)\n",
        "\n",
        "print(\"->Train<- set Accuracy: \", metrics.accuracy_score(y_train_num, SVM_classifier_obj.predict(X_train)))\n",
        "print(\"Test set Accuracy     : \", metrics.accuracy_score(y_test_num , yhat))\n",
        "print(\"Test set Jaccard      : \", metrics.jaccard_score(y_test_num , yhat))\n",
        "print(\"Test set F1           : \", metrics.f1_score(y_test_num , yhat))"
      ],
      "execution_count": 37,
      "outputs": [
        {
          "output_type": "stream",
          "text": [
            "->Train<- set Accuracy:  0.8173076923076923\n",
            "Test set Accuracy     :  0.6481481481481481\n",
            "Test set Jaccard      :  0.5476190476190477\n",
            "Test set F1           :  0.7076923076923077\n"
          ],
          "name": "stdout"
        }
      ]
    },
    {
      "cell_type": "code",
      "metadata": {
        "id": "A2kUQbFddyAG",
        "outputId": "dd2c3924-9e09-4c8b-d264-3755e742e392",
        "colab": {
          "base_uri": "https://localhost:8080/"
        }
      },
      "source": [
        "# estimation of predicted classes\n",
        "yhat      = LR_obj.predict(X_test)\n",
        "yhat_prob = LR_obj.predict_proba(X_test)\n",
        "\n",
        "print(\"->Train<- set Accuracy: \", metrics.accuracy_score(y_train_num, LR_obj.predict(X_train)))\n",
        "print(\"Test set Accuracy     : \", metrics.accuracy_score(y_test_num , yhat))\n",
        "print(\"Test set Jaccard      : \", metrics.jaccard_score(y_test_num , yhat))\n",
        "print(\"Test set F1           : \", metrics.f1_score(y_test_num , yhat))\n",
        "print(\"Test log loss         : \", metrics.log_loss(y_test_num , yhat_prob))"
      ],
      "execution_count": 39,
      "outputs": [
        {
          "output_type": "stream",
          "text": [
            "->Train<- set Accuracy:  0.7884615384615384\n",
            "Test set Accuracy     :  0.5925925925925926\n",
            "Test set Jaccard      :  0.47619047619047616\n",
            "Test set F1           :  0.6451612903225806\n",
            "Test log loss         :  0.7301964533995964\n"
          ],
          "name": "stdout"
        }
      ]
    },
    {
      "cell_type": "markdown",
      "metadata": {
        "id": "GlIErbADdyAG"
      },
      "source": [
        "# Report\n",
        "You should be able to report the accuracy of the built model using different evaluation metrics:\n",
        "\n",
        "1.   Without SMOTE"
      ]
    },
    {
      "cell_type": "markdown",
      "metadata": {
        "id": "U54j2DvwdyAG"
      },
      "source": [
        "| Algorithm          | Jaccard | F1-score | LogLoss |\n",
        "|--------------------|---------|----------|---------|\n",
        "| KNN                | 0.77    | 0.87     | NA      |\n",
        "| Decision Tree      | 0.71    | 0.83     | NA      |\n",
        "| SVM                | 0.74    | 0.85     | NA      |\n",
        "| LogisticRegression | 0.75    | 0.86     | 0.56    |"
      ]
    },
    {
      "cell_type": "markdown",
      "metadata": {
        "id": "ngL_eWSDe0IS"
      },
      "source": [
        "2.   With SMOTE\n",
        "\n",
        "| Algorithm          | Jaccard | F1-score | LogLoss |\n",
        "|--------------------|---------|----------|---------|\n",
        "| KNN                | 0.64    | 0.78     | NA      |\n",
        "| Decision Tree      | 0.60    | 0.75    | NA      |\n",
        "| SVM                | 0.55    | 0.71     | NA      |\n",
        "| LogisticRegression | 0.48   | 0.65     | 0.73    |\n",
        "\n"
      ]
    },
    {
      "cell_type": "markdown",
      "metadata": {
        "button": false,
        "new_sheet": false,
        "run_control": {
          "read_only": false
        },
        "id": "nDa5kCvfdyAG"
      },
      "source": [
        "<h2>Want to learn more?</h2>\n",
        "\n",
        "IBM SPSS Modeler is a comprehensive analytics platform that has many machine learning algorithms. It has been designed to bring predictive intelligence to decisions made by individuals, by groups, by systems – by your enterprise as a whole. A free trial is available through this course, available here: <a href=\"http://cocl.us/ML0101EN-SPSSModeler\">SPSS Modeler</a>\n",
        "\n",
        "Also, you can use Watson Studio to run these notebooks faster with bigger datasets. Watson Studio is IBM's leading cloud solution for data scientists, built by data scientists. With Jupyter notebooks, RStudio, Apache Spark and popular libraries pre-packaged in the cloud, Watson Studio enables data scientists to collaborate on their projects without having to install anything. Join the fast-growing community of Watson Studio users today with a free account at <a href=\"https://cocl.us/ML0101EN_DSX\">Watson Studio</a>\n",
        "\n",
        "<h3>Thanks for completing this lesson!</h3>\n",
        "\n",
        "<h4>Author:  <a href=\"https://ca.linkedin.com/in/saeedaghabozorgi\">Saeed Aghabozorgi</a></h4>\n",
        "<p><a href=\"https://ca.linkedin.com/in/saeedaghabozorgi\">Saeed Aghabozorgi</a>, PhD is a Data Scientist in IBM with a track record of developing enterprise level applications that substantially increases clients’ ability to turn data into actionable knowledge. He is a researcher in data mining field and expert in developing advanced analytic methods like machine learning and statistical modelling on large datasets.</p>\n",
        "\n",
        "<hr>\n",
        "\n",
        "<p>Copyright &copy; 2018 <a href=\"https://cocl.us/DX0108EN_CC\">Cognitive Class</a>. This notebook and its source code are released under the terms of the <a href=\"https://bigdatauniversity.com/mit-license/\">MIT License</a>.</p>"
      ]
    }
  ]
}